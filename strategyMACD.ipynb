{
  "nbformat": 4,
  "nbformat_minor": 0,
  "metadata": {
    "colab": {
      "provenance": [],
      "collapsed_sections": [
        "1TADDCGCshz3",
        "nmtGpIYAsnaW",
        "K82W8QUKtJs9",
        "Q9ucH9oYuui1",
        "qgo5u4Qou6I7",
        "f8Wcg5h4vAv3",
        "GmoN6Pz5vbLX"
      ],
      "authorship_tag": "ABX9TyOs2//vZilsD36FMPKkZasO",
      "include_colab_link": true
    },
    "kernelspec": {
      "name": "python3",
      "display_name": "Python 3"
    },
    "language_info": {
      "name": "python"
    }
  },
  "cells": [
    {
      "cell_type": "markdown",
      "metadata": {
        "id": "view-in-github",
        "colab_type": "text"
      },
      "source": [
        "<a href=\"https://colab.research.google.com/github/Wissg/Trading-code/blob/main/strategyMACD.ipynb\" target=\"_parent\"><img src=\"https://colab.research.google.com/assets/colab-badge.svg\" alt=\"Open In Colab\"/></a>"
      ]
    },
    {
      "cell_type": "markdown",
      "source": [
        "#Import\n",
        "\n"
      ],
      "metadata": {
        "id": "1TADDCGCshz3"
      }
    },
    {
      "cell_type": "code",
      "execution_count": null,
      "metadata": {
        "colab": {
          "base_uri": "https://localhost:8080/"
        },
        "id": "0VO9HOLQsgLT",
        "outputId": "53f0be3e-ef8d-4f89-8bb9-c454700a109e"
      },
      "outputs": [
        {
          "output_type": "stream",
          "name": "stdout",
          "text": [
            "✔️ Libraries Loaded!\n"
          ]
        }
      ],
      "source": [
        "import pandas as pd\n",
        "import numpy as np\n",
        "import yfinance as yf\n",
        "import matplotlib.pyplot as plt\n",
        "from matplotlib.dates import DateFormatter\n",
        "import datetime \n",
        "from datetime import date\n",
        "\n",
        "%config InlineBackend.figure_format = 'retina'\n",
        "\n",
        "import plotly.graph_objects as go\n",
        "from plotly.subplots import make_subplots\n",
        "\n",
        "print('✔️ Libraries Loaded!')"
      ]
    },
    {
      "cell_type": "markdown",
      "source": [
        "#strategy\n"
      ],
      "metadata": {
        "id": "nmtGpIYAsnaW"
      }
    },
    {
      "cell_type": "code",
      "source": [
        "def get_trading_strategy(df, column='Adj Close'):\n",
        "    \"\"\"Return the Buy/Sell signal on the specified (price) column (Default = 'Adj Close').\"\"\"\n",
        "    buy_list, sell_list = [], []\n",
        "    flag = False\n",
        "\n",
        "    for i in range(0, len(df)):\n",
        "        if df['MACD'].iloc[i] > df['Signal'].iloc[i] and flag == False:\n",
        "            buy_list.append(df[column].iloc[i])\n",
        "            sell_list.append(np.nan)\n",
        "            flag = True\n",
        "\n",
        "        elif df['MACD'].iloc[i] < df['Signal'].iloc[i] and flag == True:\n",
        "            buy_list.append(np.nan)\n",
        "            sell_list.append(df[column].iloc[i])\n",
        "            flag = False\n",
        "\n",
        "        else:\n",
        "            buy_list.append(np.nan)\n",
        "            sell_list.append(np.nan)\n",
        "\n",
        "    df['Buy'] = buy_list\n",
        "    df['Sell'] = sell_list\n",
        "\n",
        "    return df\n",
        "\n",
        "\n",
        "print('✔️ Function defined!')"
      ],
      "metadata": {
        "colab": {
          "base_uri": "https://localhost:8080/"
        },
        "id": "_sJYoFSks-ov",
        "outputId": "f463f0be-19d6-4302-95b7-bf9c43d0da3c"
      },
      "execution_count": null,
      "outputs": [
        {
          "output_type": "stream",
          "name": "stdout",
          "text": [
            "✔️ Function defined!\n"
          ]
        }
      ]
    },
    {
      "cell_type": "markdown",
      "source": [],
      "metadata": {
        "id": "bzCZc-gjtIu3"
      }
    },
    {
      "cell_type": "markdown",
      "source": [
        "#RSI"
      ],
      "metadata": {
        "id": "K82W8QUKtJs9"
      }
    },
    {
      "cell_type": "code",
      "source": [
        "def get_RSI(df, column='Adj Close', rsi_period=14):\n",
        "    \"\"\"Return the RSI indicator for the specified time window.\"\"\"\n",
        "    # Compute the RSI rsi_period\n",
        "    delta = df[column].diff()\n",
        "    gain = delta.where(delta > 0, 0)\n",
        "    loss = -delta.where(delta < 0, 0)\n",
        "\n",
        "    avg_gain = gain.rolling(window=rsi_period).mean()\n",
        "    avg_loss = loss.rolling(window=rsi_period).mean()\n",
        "\n",
        "    rs = abs(avg_gain / avg_loss)\n",
        "    df['RSI'] = 100 - (100 / (1 + rs))\n",
        "\n",
        "    return df\n",
        "\n",
        "\n",
        "print('✔️ Function defined!')"
      ],
      "metadata": {
        "colab": {
          "base_uri": "https://localhost:8080/"
        },
        "id": "mZSVfTDGtP1R",
        "outputId": "190a8b06-0cee-4fe8-b331-ab8e96288ae6"
      },
      "execution_count": null,
      "outputs": [
        {
          "output_type": "stream",
          "name": "stdout",
          "text": [
            "✔️ Function defined!\n"
          ]
        }
      ]
    },
    {
      "cell_type": "code",
      "source": [
        "def plot_RSI(fig, df, row, column=1):\n",
        "    \"\"\"Return a graph object figure containing the RSI indicator in the specified row.\"\"\"\n",
        "    fig.add_trace(go.Scatter(x=df['Date'].iloc[30:],\n",
        "                             y=df['RSI'].iloc[30:],\n",
        "                             name='RSI',\n",
        "                             line=dict(color='gold', width=2)),\n",
        "                  row=row,\n",
        "                  col=column)\n",
        "\n",
        "    fig.update_yaxes(title_text='RSI', row=row, col=column)\n",
        "\n",
        "    # Add one red horizontal line at 70% (overvalued) and green line at 30% (undervalued)\n",
        "    for y_pos, color in zip([70, 30], ['Red', 'Green']):\n",
        "        fig.add_shape(x0=df['Date'].iloc[1],\n",
        "                      x1=df['Date'].iloc[-1],\n",
        "                      y0=y_pos,\n",
        "                      y1=y_pos,\n",
        "                      type='line',\n",
        "                      line=dict(color=color, width=2),\n",
        "                      row=row,\n",
        "                      col=column)\n",
        "\n",
        "    # Add a text box for each line\n",
        "    for y_pos, text, color in zip([64, 36], ['Overvalued', 'Undervalued'], ['Red', 'Green']):\n",
        "        fig.add_annotation(x=df['Date'].iloc[int(df['Date'].shape[0] / 10)],\n",
        "                           y=y_pos,\n",
        "                           text=text,\n",
        "                           font=dict(size=14, color=color),\n",
        "                           bordercolor=color,\n",
        "                           borderwidth=1,\n",
        "                           borderpad=2,\n",
        "                           bgcolor='lightsteelblue',\n",
        "                           opacity=0.75,\n",
        "                           showarrow=False,\n",
        "                           row=row,\n",
        "                           col=column)\n",
        "\n",
        "    # Update the y-axis limits\n",
        "    ymin = 25 if df['RSI'].iloc[30:].min() > 25 else df['RSI'].iloc[30:].min() - 5\n",
        "    ymax = 75 if df['RSI'].iloc[30:].max() < 75 else df['RSI'].iloc[30:].max() + 5\n",
        "    fig.update_yaxes(range=[ymin, ymax], row=row, col=column)\n",
        "\n",
        "    return fig\n",
        "\n",
        "\n",
        "print('✔️ Function defined!')"
      ],
      "metadata": {
        "colab": {
          "base_uri": "https://localhost:8080/"
        },
        "id": "e8aQkSvkwmFf",
        "outputId": "e616f32d-f36c-48a8-b00c-a8d707f26ecf"
      },
      "execution_count": null,
      "outputs": [
        {
          "output_type": "stream",
          "name": "stdout",
          "text": [
            "✔️ Function defined!\n"
          ]
        }
      ]
    },
    {
      "cell_type": "markdown",
      "source": [
        "#MACD\n"
      ],
      "metadata": {
        "id": "Q9ucH9oYuui1"
      }
    },
    {
      "cell_type": "code",
      "source": [
        "def get_MACD(df, column='Adj Close'):\n",
        "    \"\"\"Return a new DataFrame with the MACD and related information (signal line and histogram).\"\"\"\n",
        "    df['EMA-12'] = df[column].ewm(span=12, adjust=False).mean()\n",
        "    df['EMA-26'] = df[column].ewm(span=26, adjust=False).mean()\n",
        "\n",
        "    # MACD Indicator = 12-Period EMA − 26-Period EMA.\n",
        "    df['MACD'] = df['EMA-12'] - df['EMA-26']\n",
        "\n",
        "    # Signal line = 9-day EMA of the MACD line.\n",
        "    df['Signal'] = df['MACD'].ewm(span=9, adjust=False).mean()\n",
        "\n",
        "    # Histogram = MACD - Indicator.\n",
        "    df['Histogram'] = df['MACD'] - df['Signal']\n",
        "\n",
        "    return df\n",
        "\n",
        "\n",
        "print('✔️ Function defined!')"
      ],
      "metadata": {
        "colab": {
          "base_uri": "https://localhost:8080/"
        },
        "id": "g6mFx9S3uwQ9",
        "outputId": "a52dbcaa-f085-4821-cd90-27e45c2625f1"
      },
      "execution_count": null,
      "outputs": [
        {
          "output_type": "stream",
          "name": "stdout",
          "text": [
            "✔️ Function defined!\n"
          ]
        }
      ]
    },
    {
      "cell_type": "code",
      "source": [
        "def plot_MACD(fig, df, row, column=1):\n",
        "    \"\"\"Return a graph object figure containing the MACD indicator, the signal line, and a histogram in the specified row.\"\"\"\n",
        "    df['Hist-Color'] = np.where(df['Histogram'] < 0, 'red', 'green')\n",
        "    fig.add_trace(go.Bar(x=df['Date'],\n",
        "                         y=df['Histogram'],\n",
        "                         name='Histogram',\n",
        "                         marker_color=df['Hist-Color'],\n",
        "                         showlegend=True),\n",
        "                  row=row,\n",
        "                  col=column)\n",
        "\n",
        "    fig.add_trace(go.Scatter(x=df['Date'],\n",
        "                             y=df['MACD'],\n",
        "                             name='MACD',\n",
        "                             line=dict(color='darkorange', width=2)),\n",
        "                  row=row,\n",
        "                  col=column)\n",
        "\n",
        "    fig.add_trace(go.Scatter(x=df['Date'],\n",
        "                             y=df['Signal'],\n",
        "                             name='Signal',\n",
        "                             line=dict(color='cyan', width=2)),\n",
        "                  row=row,\n",
        "                  col=column)\n",
        "\n",
        "    fig.update_yaxes(title_text='MACD', row=row, col=column)\n",
        "\n",
        "    return fig\n",
        "\n",
        "\n",
        "print('✔️ Function defined!')"
      ],
      "metadata": {
        "colab": {
          "base_uri": "https://localhost:8080/"
        },
        "id": "IdYogEbMwowF",
        "outputId": "9ae1b62f-837f-4447-b9d1-0acd0170d0a0"
      },
      "execution_count": null,
      "outputs": [
        {
          "output_type": "stream",
          "name": "stdout",
          "text": [
            "✔️ Function defined!\n"
          ]
        }
      ]
    },
    {
      "cell_type": "markdown",
      "source": [
        "#Closed Date"
      ],
      "metadata": {
        "id": "qgo5u4Qou6I7"
      }
    },
    {
      "cell_type": "code",
      "source": [
        "def get_closed_dates(df):\n",
        "    \"\"\"Return a list containing all dates on which the stock market was closed.\"\"\"\n",
        "    # Create a dataframe that contains all dates from the start until today.\n",
        "    timeline = pd.date_range(start=df['Date'].iloc[0], end=df['Date'].iloc[-1])\n",
        "\n",
        "    # Create a list of the dates existing in the dataframe.\n",
        "    df_dates = [day.strftime('%Y-%m-%d') for day in pd.to_datetime(df['Date'])]\n",
        "\n",
        "    # Finally, determine which dates from the 'timeline' do not exist in our dataframe.\n",
        "    closed_dates = [\n",
        "        day for day in timeline.strftime('%Y-%m-%d').tolist()\n",
        "        if not day in df_dates\n",
        "    ]\n",
        "\n",
        "    return closed_dates\n",
        "\n",
        "\n",
        "print('✔️ Function defined!')"
      ],
      "metadata": {
        "colab": {
          "base_uri": "https://localhost:8080/"
        },
        "id": "y1pZfkM0u-rF",
        "outputId": "95a89dcf-6eb6-4c61-bddb-f345a1995323"
      },
      "execution_count": null,
      "outputs": [
        {
          "output_type": "stream",
          "name": "stdout",
          "text": [
            "✔️ Function defined!\n"
          ]
        }
      ]
    },
    {
      "cell_type": "markdown",
      "source": [
        "#Price from data"
      ],
      "metadata": {
        "id": "f8Wcg5h4vAv3"
      }
    },
    {
      "cell_type": "code",
      "source": [
        "def get_price(ticker, start_date, end_date):\n",
        "    \"\"\"Return a DataFrame with price information (open, high, low, close, adjusted close, and volume) for the ticker between the specified dates.\"\"\"\n",
        "    df = yf.download(ticker, start_date, end_date, progress=False)\n",
        "    df.reset_index(inplace=True)\n",
        "\n",
        "    return df\n",
        "\n",
        "print('✔️ Function defined!')\n"
      ],
      "metadata": {
        "colab": {
          "base_uri": "https://localhost:8080/"
        },
        "id": "E7pasNpJvGP-",
        "outputId": "0496d2b1-2094-4691-c7ad-bc35f6cf7be2"
      },
      "execution_count": null,
      "outputs": [
        {
          "output_type": "stream",
          "name": "stdout",
          "text": [
            "✔️ Function defined!\n"
          ]
        }
      ]
    },
    {
      "cell_type": "markdown",
      "source": [
        "#Volume"
      ],
      "metadata": {
        "id": "GmoN6Pz5vbLX"
      }
    },
    {
      "cell_type": "code",
      "source": [
        "def plot_volume(fig, df, row, column=1):\n",
        "    \"\"\"Return a graph object figure containing the volume chart in the specified row.\"\"\"\n",
        "    fig.add_trace(go.Bar(x=df['Date'],\n",
        "                         y=df['Volume'],\n",
        "                         marker=dict(color='lightskyblue',\n",
        "                                     line=dict(color='firebrick', width=0.1)),\n",
        "                         showlegend=False,\n",
        "                         name='Volume'),\n",
        "                  row=row,\n",
        "                  col=column)\n",
        "\n",
        "    fig.update_xaxes(title_text='Date', row=row, col=column)\n",
        "    fig.update_yaxes(title_text='Volume ($)', row=row, col=column)\n",
        "\n",
        "    return fig\n",
        "\n",
        "\n",
        "print('✔️ Function defined!')"
      ],
      "metadata": {
        "colab": {
          "base_uri": "https://localhost:8080/"
        },
        "id": "Jhcj8d0lvjOr",
        "outputId": "f2900413-1b31-49d7-e868-af8e11011fce"
      },
      "execution_count": null,
      "outputs": [
        {
          "output_type": "stream",
          "name": "stdout",
          "text": [
            "✔️ Function defined!\n"
          ]
        }
      ]
    },
    {
      "cell_type": "code",
      "source": [],
      "metadata": {
        "id": "ixkXuu5hvqU-"
      },
      "execution_count": null,
      "outputs": []
    },
    {
      "cell_type": "markdown",
      "source": [
        "#Main"
      ],
      "metadata": {
        "id": "G2tjTMzdvs_H"
      }
    },
    {
      "cell_type": "code",
      "source": [
        "start_date = datetime.datetime(2022, 1, 1)\n",
        "ticker = 'AAPL'\n",
        "no_years = 1\n",
        "\n",
        "end_date = datetime.datetime.now().strftime('%Y-%m-%d')\n",
        "start_date = (datetime.datetime.now() -\n",
        "              datetime.timedelta(days=no_years * 365)).strftime('%Y-%m-%d')\n",
        "\n",
        "\n",
        "# start_date = datetime.datetime(2022, 1, 1)\n",
        "\n",
        "print('Ticker: {}'.format(ticker))\n",
        "print('Start Date: ', start_date)\n",
        "print('  End Date: ', end_date)\n",
        "\n",
        "df = get_price(ticker, start_date, end_date)\n",
        "closed_dates_list = get_closed_dates(df)\n",
        "\n",
        "print('\\n(Raw) Dataset Loaded!')\n",
        "print('Last five rows:')\n",
        "df.tail()"
      ],
      "metadata": {
        "colab": {
          "base_uri": "https://localhost:8080/",
          "height": 316
        },
        "id": "YoZdX5bLvuow",
        "outputId": "d50f53f3-b173-4d23-8964-2e9d229ad2dd"
      },
      "execution_count": null,
      "outputs": [
        {
          "output_type": "stream",
          "name": "stdout",
          "text": [
            "Ticker: AAPL\n",
            "Start Date:  2022-05-02\n",
            "  End Date:  2023-05-02\n",
            "\n",
            "(Raw) Dataset Loaded!\n",
            "Last five rows:\n"
          ]
        },
        {
          "output_type": "execute_result",
          "data": {
            "text/plain": [
              "          Date        Open        High         Low       Close   Adj Close  \\\n",
              "246 2023-04-25  165.190002  166.309998  163.729996  163.770004  163.770004   \n",
              "247 2023-04-26  163.059998  165.279999  162.800003  163.759995  163.759995   \n",
              "248 2023-04-27  165.190002  168.559998  165.190002  168.410004  168.410004   \n",
              "249 2023-04-28  168.490005  169.850006  167.880005  169.679993  169.679993   \n",
              "250 2023-05-01  169.279999  170.449997  168.639999  169.589996  169.589996   \n",
              "\n",
              "       Volume  \n",
              "246  48714100  \n",
              "247  45498800  \n",
              "248  64902300  \n",
              "249  55209200  \n",
              "250  52428200  "
            ],
            "text/html": [
              "\n",
              "  <div id=\"df-b70884ec-e526-4cf9-bb37-a35bcee565cb\">\n",
              "    <div class=\"colab-df-container\">\n",
              "      <div>\n",
              "<style scoped>\n",
              "    .dataframe tbody tr th:only-of-type {\n",
              "        vertical-align: middle;\n",
              "    }\n",
              "\n",
              "    .dataframe tbody tr th {\n",
              "        vertical-align: top;\n",
              "    }\n",
              "\n",
              "    .dataframe thead th {\n",
              "        text-align: right;\n",
              "    }\n",
              "</style>\n",
              "<table border=\"1\" class=\"dataframe\">\n",
              "  <thead>\n",
              "    <tr style=\"text-align: right;\">\n",
              "      <th></th>\n",
              "      <th>Date</th>\n",
              "      <th>Open</th>\n",
              "      <th>High</th>\n",
              "      <th>Low</th>\n",
              "      <th>Close</th>\n",
              "      <th>Adj Close</th>\n",
              "      <th>Volume</th>\n",
              "    </tr>\n",
              "  </thead>\n",
              "  <tbody>\n",
              "    <tr>\n",
              "      <th>246</th>\n",
              "      <td>2023-04-25</td>\n",
              "      <td>165.190002</td>\n",
              "      <td>166.309998</td>\n",
              "      <td>163.729996</td>\n",
              "      <td>163.770004</td>\n",
              "      <td>163.770004</td>\n",
              "      <td>48714100</td>\n",
              "    </tr>\n",
              "    <tr>\n",
              "      <th>247</th>\n",
              "      <td>2023-04-26</td>\n",
              "      <td>163.059998</td>\n",
              "      <td>165.279999</td>\n",
              "      <td>162.800003</td>\n",
              "      <td>163.759995</td>\n",
              "      <td>163.759995</td>\n",
              "      <td>45498800</td>\n",
              "    </tr>\n",
              "    <tr>\n",
              "      <th>248</th>\n",
              "      <td>2023-04-27</td>\n",
              "      <td>165.190002</td>\n",
              "      <td>168.559998</td>\n",
              "      <td>165.190002</td>\n",
              "      <td>168.410004</td>\n",
              "      <td>168.410004</td>\n",
              "      <td>64902300</td>\n",
              "    </tr>\n",
              "    <tr>\n",
              "      <th>249</th>\n",
              "      <td>2023-04-28</td>\n",
              "      <td>168.490005</td>\n",
              "      <td>169.850006</td>\n",
              "      <td>167.880005</td>\n",
              "      <td>169.679993</td>\n",
              "      <td>169.679993</td>\n",
              "      <td>55209200</td>\n",
              "    </tr>\n",
              "    <tr>\n",
              "      <th>250</th>\n",
              "      <td>2023-05-01</td>\n",
              "      <td>169.279999</td>\n",
              "      <td>170.449997</td>\n",
              "      <td>168.639999</td>\n",
              "      <td>169.589996</td>\n",
              "      <td>169.589996</td>\n",
              "      <td>52428200</td>\n",
              "    </tr>\n",
              "  </tbody>\n",
              "</table>\n",
              "</div>\n",
              "      <button class=\"colab-df-convert\" onclick=\"convertToInteractive('df-b70884ec-e526-4cf9-bb37-a35bcee565cb')\"\n",
              "              title=\"Convert this dataframe to an interactive table.\"\n",
              "              style=\"display:none;\">\n",
              "        \n",
              "  <svg xmlns=\"http://www.w3.org/2000/svg\" height=\"24px\"viewBox=\"0 0 24 24\"\n",
              "       width=\"24px\">\n",
              "    <path d=\"M0 0h24v24H0V0z\" fill=\"none\"/>\n",
              "    <path d=\"M18.56 5.44l.94 2.06.94-2.06 2.06-.94-2.06-.94-.94-2.06-.94 2.06-2.06.94zm-11 1L8.5 8.5l.94-2.06 2.06-.94-2.06-.94L8.5 2.5l-.94 2.06-2.06.94zm10 10l.94 2.06.94-2.06 2.06-.94-2.06-.94-.94-2.06-.94 2.06-2.06.94z\"/><path d=\"M17.41 7.96l-1.37-1.37c-.4-.4-.92-.59-1.43-.59-.52 0-1.04.2-1.43.59L10.3 9.45l-7.72 7.72c-.78.78-.78 2.05 0 2.83L4 21.41c.39.39.9.59 1.41.59.51 0 1.02-.2 1.41-.59l7.78-7.78 2.81-2.81c.8-.78.8-2.07 0-2.86zM5.41 20L4 18.59l7.72-7.72 1.47 1.35L5.41 20z\"/>\n",
              "  </svg>\n",
              "      </button>\n",
              "      \n",
              "  <style>\n",
              "    .colab-df-container {\n",
              "      display:flex;\n",
              "      flex-wrap:wrap;\n",
              "      gap: 12px;\n",
              "    }\n",
              "\n",
              "    .colab-df-convert {\n",
              "      background-color: #E8F0FE;\n",
              "      border: none;\n",
              "      border-radius: 50%;\n",
              "      cursor: pointer;\n",
              "      display: none;\n",
              "      fill: #1967D2;\n",
              "      height: 32px;\n",
              "      padding: 0 0 0 0;\n",
              "      width: 32px;\n",
              "    }\n",
              "\n",
              "    .colab-df-convert:hover {\n",
              "      background-color: #E2EBFA;\n",
              "      box-shadow: 0px 1px 2px rgba(60, 64, 67, 0.3), 0px 1px 3px 1px rgba(60, 64, 67, 0.15);\n",
              "      fill: #174EA6;\n",
              "    }\n",
              "\n",
              "    [theme=dark] .colab-df-convert {\n",
              "      background-color: #3B4455;\n",
              "      fill: #D2E3FC;\n",
              "    }\n",
              "\n",
              "    [theme=dark] .colab-df-convert:hover {\n",
              "      background-color: #434B5C;\n",
              "      box-shadow: 0px 1px 3px 1px rgba(0, 0, 0, 0.15);\n",
              "      filter: drop-shadow(0px 1px 2px rgba(0, 0, 0, 0.3));\n",
              "      fill: #FFFFFF;\n",
              "    }\n",
              "  </style>\n",
              "\n",
              "      <script>\n",
              "        const buttonEl =\n",
              "          document.querySelector('#df-b70884ec-e526-4cf9-bb37-a35bcee565cb button.colab-df-convert');\n",
              "        buttonEl.style.display =\n",
              "          google.colab.kernel.accessAllowed ? 'block' : 'none';\n",
              "\n",
              "        async function convertToInteractive(key) {\n",
              "          const element = document.querySelector('#df-b70884ec-e526-4cf9-bb37-a35bcee565cb');\n",
              "          const dataTable =\n",
              "            await google.colab.kernel.invokeFunction('convertToInteractive',\n",
              "                                                     [key], {});\n",
              "          if (!dataTable) return;\n",
              "\n",
              "          const docLinkHtml = 'Like what you see? Visit the ' +\n",
              "            '<a target=\"_blank\" href=https://colab.research.google.com/notebooks/data_table.ipynb>data table notebook</a>'\n",
              "            + ' to learn more about interactive tables.';\n",
              "          element.innerHTML = '';\n",
              "          dataTable['output_type'] = 'display_data';\n",
              "          await google.colab.output.renderOutput(dataTable, element);\n",
              "          const docLink = document.createElement('div');\n",
              "          docLink.innerHTML = docLinkHtml;\n",
              "          element.appendChild(docLink);\n",
              "        }\n",
              "      </script>\n",
              "    </div>\n",
              "  </div>\n",
              "  "
            ]
          },
          "metadata": {},
          "execution_count": 10
        }
      ]
    },
    {
      "cell_type": "code",
      "source": [
        "df = get_MACD(df)\n",
        "df = get_RSI(df)\n",
        "\n",
        "df.tail()"
      ],
      "metadata": {
        "colab": {
          "base_uri": "https://localhost:8080/",
          "height": 206
        },
        "id": "5eUE0-cjwKU4",
        "outputId": "6710df16-a1d2-478a-af18-731cb0056a62"
      },
      "execution_count": null,
      "outputs": [
        {
          "output_type": "execute_result",
          "data": {
            "text/plain": [
              "          Date        Open        High         Low       Close   Adj Close  \\\n",
              "246 2023-04-25  165.190002  166.309998  163.729996  163.770004  163.770004   \n",
              "247 2023-04-26  163.059998  165.279999  162.800003  163.759995  163.759995   \n",
              "248 2023-04-27  165.190002  168.559998  165.190002  168.410004  168.410004   \n",
              "249 2023-04-28  168.490005  169.850006  167.880005  169.679993  169.679993   \n",
              "250 2023-05-01  169.279999  170.449997  168.639999  169.589996  169.589996   \n",
              "\n",
              "       Volume      EMA-12      EMA-26      MACD    Signal  Histogram  \\\n",
              "246  48714100  164.583261  162.119110  2.464151  2.898490  -0.434339   \n",
              "247  45498800  164.456604  162.240657  2.215947  2.761981  -0.546034   \n",
              "248  64902300  165.064820  162.697646  2.367174  2.683020  -0.315846   \n",
              "249  55209200  165.774846  163.214857  2.559990  2.658414  -0.098424   \n",
              "250  52428200  166.361792  163.687089  2.674703  2.661672   0.013032   \n",
              "\n",
              "           RSI  \n",
              "246  45.359278  \n",
              "247  50.000000  \n",
              "248  58.549934  \n",
              "249  68.595047  \n",
              "250  72.619669  "
            ],
            "text/html": [
              "\n",
              "  <div id=\"df-60348fcb-ddf2-410d-a64d-a66f2b29cf12\">\n",
              "    <div class=\"colab-df-container\">\n",
              "      <div>\n",
              "<style scoped>\n",
              "    .dataframe tbody tr th:only-of-type {\n",
              "        vertical-align: middle;\n",
              "    }\n",
              "\n",
              "    .dataframe tbody tr th {\n",
              "        vertical-align: top;\n",
              "    }\n",
              "\n",
              "    .dataframe thead th {\n",
              "        text-align: right;\n",
              "    }\n",
              "</style>\n",
              "<table border=\"1\" class=\"dataframe\">\n",
              "  <thead>\n",
              "    <tr style=\"text-align: right;\">\n",
              "      <th></th>\n",
              "      <th>Date</th>\n",
              "      <th>Open</th>\n",
              "      <th>High</th>\n",
              "      <th>Low</th>\n",
              "      <th>Close</th>\n",
              "      <th>Adj Close</th>\n",
              "      <th>Volume</th>\n",
              "      <th>EMA-12</th>\n",
              "      <th>EMA-26</th>\n",
              "      <th>MACD</th>\n",
              "      <th>Signal</th>\n",
              "      <th>Histogram</th>\n",
              "      <th>RSI</th>\n",
              "    </tr>\n",
              "  </thead>\n",
              "  <tbody>\n",
              "    <tr>\n",
              "      <th>246</th>\n",
              "      <td>2023-04-25</td>\n",
              "      <td>165.190002</td>\n",
              "      <td>166.309998</td>\n",
              "      <td>163.729996</td>\n",
              "      <td>163.770004</td>\n",
              "      <td>163.770004</td>\n",
              "      <td>48714100</td>\n",
              "      <td>164.583261</td>\n",
              "      <td>162.119110</td>\n",
              "      <td>2.464151</td>\n",
              "      <td>2.898490</td>\n",
              "      <td>-0.434339</td>\n",
              "      <td>45.359278</td>\n",
              "    </tr>\n",
              "    <tr>\n",
              "      <th>247</th>\n",
              "      <td>2023-04-26</td>\n",
              "      <td>163.059998</td>\n",
              "      <td>165.279999</td>\n",
              "      <td>162.800003</td>\n",
              "      <td>163.759995</td>\n",
              "      <td>163.759995</td>\n",
              "      <td>45498800</td>\n",
              "      <td>164.456604</td>\n",
              "      <td>162.240657</td>\n",
              "      <td>2.215947</td>\n",
              "      <td>2.761981</td>\n",
              "      <td>-0.546034</td>\n",
              "      <td>50.000000</td>\n",
              "    </tr>\n",
              "    <tr>\n",
              "      <th>248</th>\n",
              "      <td>2023-04-27</td>\n",
              "      <td>165.190002</td>\n",
              "      <td>168.559998</td>\n",
              "      <td>165.190002</td>\n",
              "      <td>168.410004</td>\n",
              "      <td>168.410004</td>\n",
              "      <td>64902300</td>\n",
              "      <td>165.064820</td>\n",
              "      <td>162.697646</td>\n",
              "      <td>2.367174</td>\n",
              "      <td>2.683020</td>\n",
              "      <td>-0.315846</td>\n",
              "      <td>58.549934</td>\n",
              "    </tr>\n",
              "    <tr>\n",
              "      <th>249</th>\n",
              "      <td>2023-04-28</td>\n",
              "      <td>168.490005</td>\n",
              "      <td>169.850006</td>\n",
              "      <td>167.880005</td>\n",
              "      <td>169.679993</td>\n",
              "      <td>169.679993</td>\n",
              "      <td>55209200</td>\n",
              "      <td>165.774846</td>\n",
              "      <td>163.214857</td>\n",
              "      <td>2.559990</td>\n",
              "      <td>2.658414</td>\n",
              "      <td>-0.098424</td>\n",
              "      <td>68.595047</td>\n",
              "    </tr>\n",
              "    <tr>\n",
              "      <th>250</th>\n",
              "      <td>2023-05-01</td>\n",
              "      <td>169.279999</td>\n",
              "      <td>170.449997</td>\n",
              "      <td>168.639999</td>\n",
              "      <td>169.589996</td>\n",
              "      <td>169.589996</td>\n",
              "      <td>52428200</td>\n",
              "      <td>166.361792</td>\n",
              "      <td>163.687089</td>\n",
              "      <td>2.674703</td>\n",
              "      <td>2.661672</td>\n",
              "      <td>0.013032</td>\n",
              "      <td>72.619669</td>\n",
              "    </tr>\n",
              "  </tbody>\n",
              "</table>\n",
              "</div>\n",
              "      <button class=\"colab-df-convert\" onclick=\"convertToInteractive('df-60348fcb-ddf2-410d-a64d-a66f2b29cf12')\"\n",
              "              title=\"Convert this dataframe to an interactive table.\"\n",
              "              style=\"display:none;\">\n",
              "        \n",
              "  <svg xmlns=\"http://www.w3.org/2000/svg\" height=\"24px\"viewBox=\"0 0 24 24\"\n",
              "       width=\"24px\">\n",
              "    <path d=\"M0 0h24v24H0V0z\" fill=\"none\"/>\n",
              "    <path d=\"M18.56 5.44l.94 2.06.94-2.06 2.06-.94-2.06-.94-.94-2.06-.94 2.06-2.06.94zm-11 1L8.5 8.5l.94-2.06 2.06-.94-2.06-.94L8.5 2.5l-.94 2.06-2.06.94zm10 10l.94 2.06.94-2.06 2.06-.94-2.06-.94-.94-2.06-.94 2.06-2.06.94z\"/><path d=\"M17.41 7.96l-1.37-1.37c-.4-.4-.92-.59-1.43-.59-.52 0-1.04.2-1.43.59L10.3 9.45l-7.72 7.72c-.78.78-.78 2.05 0 2.83L4 21.41c.39.39.9.59 1.41.59.51 0 1.02-.2 1.41-.59l7.78-7.78 2.81-2.81c.8-.78.8-2.07 0-2.86zM5.41 20L4 18.59l7.72-7.72 1.47 1.35L5.41 20z\"/>\n",
              "  </svg>\n",
              "      </button>\n",
              "      \n",
              "  <style>\n",
              "    .colab-df-container {\n",
              "      display:flex;\n",
              "      flex-wrap:wrap;\n",
              "      gap: 12px;\n",
              "    }\n",
              "\n",
              "    .colab-df-convert {\n",
              "      background-color: #E8F0FE;\n",
              "      border: none;\n",
              "      border-radius: 50%;\n",
              "      cursor: pointer;\n",
              "      display: none;\n",
              "      fill: #1967D2;\n",
              "      height: 32px;\n",
              "      padding: 0 0 0 0;\n",
              "      width: 32px;\n",
              "    }\n",
              "\n",
              "    .colab-df-convert:hover {\n",
              "      background-color: #E2EBFA;\n",
              "      box-shadow: 0px 1px 2px rgba(60, 64, 67, 0.3), 0px 1px 3px 1px rgba(60, 64, 67, 0.15);\n",
              "      fill: #174EA6;\n",
              "    }\n",
              "\n",
              "    [theme=dark] .colab-df-convert {\n",
              "      background-color: #3B4455;\n",
              "      fill: #D2E3FC;\n",
              "    }\n",
              "\n",
              "    [theme=dark] .colab-df-convert:hover {\n",
              "      background-color: #434B5C;\n",
              "      box-shadow: 0px 1px 3px 1px rgba(0, 0, 0, 0.15);\n",
              "      filter: drop-shadow(0px 1px 2px rgba(0, 0, 0, 0.3));\n",
              "      fill: #FFFFFF;\n",
              "    }\n",
              "  </style>\n",
              "\n",
              "      <script>\n",
              "        const buttonEl =\n",
              "          document.querySelector('#df-60348fcb-ddf2-410d-a64d-a66f2b29cf12 button.colab-df-convert');\n",
              "        buttonEl.style.display =\n",
              "          google.colab.kernel.accessAllowed ? 'block' : 'none';\n",
              "\n",
              "        async function convertToInteractive(key) {\n",
              "          const element = document.querySelector('#df-60348fcb-ddf2-410d-a64d-a66f2b29cf12');\n",
              "          const dataTable =\n",
              "            await google.colab.kernel.invokeFunction('convertToInteractive',\n",
              "                                                     [key], {});\n",
              "          if (!dataTable) return;\n",
              "\n",
              "          const docLinkHtml = 'Like what you see? Visit the ' +\n",
              "            '<a target=\"_blank\" href=https://colab.research.google.com/notebooks/data_table.ipynb>data table notebook</a>'\n",
              "            + ' to learn more about interactive tables.';\n",
              "          element.innerHTML = '';\n",
              "          dataTable['output_type'] = 'display_data';\n",
              "          await google.colab.output.renderOutput(dataTable, element);\n",
              "          const docLink = document.createElement('div');\n",
              "          docLink.innerHTML = docLinkHtml;\n",
              "          element.appendChild(docLink);\n",
              "        }\n",
              "      </script>\n",
              "    </div>\n",
              "  </div>\n",
              "  "
            ]
          },
          "metadata": {},
          "execution_count": 11
        }
      ]
    },
    {
      "cell_type": "code",
      "source": [
        "df = get_trading_strategy(df)\n",
        "\n",
        "print('✔️ Final DataFrame is ready!')"
      ],
      "metadata": {
        "colab": {
          "base_uri": "https://localhost:8080/"
        },
        "id": "g8DvYR0bww9l",
        "outputId": "44939e0f-f154-4c9f-ab09-f10f1572f678"
      },
      "execution_count": null,
      "outputs": [
        {
          "output_type": "stream",
          "name": "stdout",
          "text": [
            "✔️ Final DataFrame is ready!\n"
          ]
        }
      ]
    },
    {
      "cell_type": "code",
      "source": [
        "def plot_candlestick_chart(fig, df, row, column=1, plot_EMAs=True, plot_strategy=True):\n",
        "    \"\"\"Return a graph object figure containing a Candlestick chart in the specified row.\"\"\"\n",
        "    fig.add_trace(go.Candlestick(x=df['Date'],\n",
        "                                 open=df['Open'],\n",
        "                                 high=df['High'],\n",
        "                                 low=df['Low'],\n",
        "                                 close=df['Close'],\n",
        "                                 name='Candlestick Chart'),\n",
        "                  row=row,\n",
        "                  col=column)\n",
        "\n",
        "    # If the boolean argument plot_EMAs is True, then show the line plots for the two exponential moving averages.\n",
        "    if (plot_EMAs == True):\n",
        "        fig.add_trace(go.Scatter(x=df['Date'],\n",
        "                                 y=df['EMA-12'],\n",
        "                                 name='12-period EMA',\n",
        "                                 line=dict(color='dodgerblue', width=2)),\n",
        "                      row=row,\n",
        "                      col=column)\n",
        "\n",
        "        fig.add_trace(go.Scatter(x=df['Date'],\n",
        "                                 y=df['EMA-26'],\n",
        "                                 name='26-period EMA',\n",
        "                                 line=dict(color='whitesmoke', width=2)),\n",
        "                      row=row,\n",
        "                      col=column)\n",
        "\n",
        "    if (plot_strategy == True):\n",
        "        fig.add_trace(go.Scatter(x=df['Date'],\n",
        "                                 y=df['Buy'],\n",
        "                                 name='Buy Signal',\n",
        "                                 mode='markers',\n",
        "                                 marker_symbol='triangle-up',\n",
        "                                 marker=dict(size=9),\n",
        "                                 line=dict(color='Lime')),\n",
        "                      row=row,\n",
        "                      col=column)\n",
        "\n",
        "        fig.add_trace(go.Scatter(x=df['Date'],\n",
        "                                 y=df['Sell'],\n",
        "                                 name='Sell Signal',\n",
        "                                 mode='markers',\n",
        "                                 marker_symbol='triangle-down',\n",
        "                                 marker=dict(size=9, color='Yellow')),\n",
        "                      row=row,\n",
        "                      col=column)\n",
        "\n",
        "    fig.update_xaxes(rangeslider={'visible': False})\n",
        "    fig.update_yaxes(title_text='Price ($)', row=row, col=column)\n",
        "\n",
        "    return fig\n",
        "\n",
        "\n",
        "print('✔️ Function defined!')"
      ],
      "metadata": {
        "colab": {
          "base_uri": "https://localhost:8080/"
        },
        "id": "TWHs4drPxGQq",
        "outputId": "d8ed1cd9-df1d-4b1a-dec0-3b973d05cc97"
      },
      "execution_count": null,
      "outputs": [
        {
          "output_type": "stream",
          "name": "stdout",
          "text": [
            "✔️ Function defined!\n"
          ]
        }
      ]
    },
    {
      "cell_type": "code",
      "source": [
        "fig = make_subplots()\n",
        "fig = plot_candlestick_chart(fig,\n",
        "                             df,\n",
        "                             row=1,\n",
        "                             plot_EMAs=False,\n",
        "                             plot_strategy=False)\n",
        "fig.show()"
      ],
      "metadata": {
        "colab": {
          "base_uri": "https://localhost:8080/",
          "height": 542
        },
        "id": "z7H5kih5xrUw",
        "outputId": "94a96c58-1075-44bf-a592-1d860f2bcfb1"
      },
      "execution_count": null,
      "outputs": [
        {
          "output_type": "display_data",
          "data": {
            "text/html": [
              "<html>\n",
              "<head><meta charset=\"utf-8\" /></head>\n",
              "<body>\n",
              "    <div>            <script src=\"https://cdnjs.cloudflare.com/ajax/libs/mathjax/2.7.5/MathJax.js?config=TeX-AMS-MML_SVG\"></script><script type=\"text/javascript\">if (window.MathJax && window.MathJax.Hub && window.MathJax.Hub.Config) {window.MathJax.Hub.Config({SVG: {font: \"STIX-Web\"}});}</script>                <script type=\"text/javascript\">window.PlotlyConfig = {MathJaxConfig: 'local'};</script>\n",
              "        <script src=\"https://cdn.plot.ly/plotly-2.18.2.min.js\"></script>                <div id=\"15ee727b-a8a1-49de-b278-9736121b6e25\" class=\"plotly-graph-div\" style=\"height:525px; width:100%;\"></div>            <script type=\"text/javascript\">                                    window.PLOTLYENV=window.PLOTLYENV || {};                                    if (document.getElementById(\"15ee727b-a8a1-49de-b278-9736121b6e25\")) {                    Plotly.newPlot(                        \"15ee727b-a8a1-49de-b278-9736121b6e25\",                        [{\"close\":[157.9600067138672,159.47999572753906,166.02000427246094,156.77000427246094,157.27999877929688,152.05999755859375,154.50999450683594,146.5,142.55999755859375,147.11000061035156,145.5399932861328,149.24000549316406,140.82000732421875,137.35000610351562,137.58999633789062,143.11000061035156,140.36000061035156,140.52000427246094,143.77999877929688,149.63999938964844,148.83999633789062,148.7100067138672,151.2100067138672,145.3800048828125,146.13999938964844,148.7100067138672,147.9600067138672,142.63999938964844,137.1300048828125,131.8800048828125,132.75999450683594,135.42999267578125,130.05999755859375,131.55999755859375,135.8699951171875,135.35000610351562,138.27000427246094,141.66000366210938,141.66000366210938,137.44000244140625,139.22999572753906,136.72000122070312,138.92999267578125,141.55999755859375,142.9199981689453,146.35000610351562,147.0399932861328,144.8699951171875,145.86000061035156,145.49000549316406,148.47000122070312,150.1699981689453,147.07000732421875,151.0,153.0399932861328,155.35000610351562,154.08999633789062,152.9499969482422,151.60000610351562,156.7899932861328,157.35000610351562,162.50999450683594,161.50999450683594,160.00999450683594,166.1300048828125,165.80999755859375,165.35000610351562,164.8699951171875,164.9199981689453,169.24000549316406,168.49000549316406,172.10000610351562,173.19000244140625,173.02999877929688,174.5500030517578,174.14999389648438,171.52000427246094,167.57000732421875,167.22999572753906,167.52999877929688,170.02999877929688,163.6199951171875,161.3800048828125,158.91000366210938,157.22000122070312,157.9600067138672,155.80999755859375,154.52999877929688,155.9600067138672,154.4600067138672,157.3699951171875,163.42999267578125,153.83999633789062,155.30999755859375,152.3699951171875,150.6999969482422,154.47999572753906,156.89999389648438,153.72000122070312,152.74000549316406,150.42999267578125,150.77000427246094,151.75999450683594,149.83999633789062,142.47999572753906,138.1999969482422,142.4499969482422,146.10000610351562,146.39999389648438,145.42999267578125,140.08999633789062,140.4199981689453,138.97999572753906,138.33999633789062,142.99000549316406,138.3800048828125,142.41000366210938,143.75,143.86000061035156,143.38999938964844,147.27000427246094,149.4499969482422,152.33999633789062,149.35000610351562,144.8000030517578,155.74000549316406,153.33999633789062,150.64999389648438,145.02999877929688,138.8800048828125,138.3800048828125,138.9199981689453,139.5,134.8699951171875,146.8699951171875,149.6999969482422,148.27999877929688,150.0399932861328,148.7899932861328,150.72000122070312,151.2899932861328,148.00999450683594,150.17999267578125,151.07000732421875,148.11000061035156,144.22000122070312,141.1699981689453,148.02999877929688,148.30999755859375,147.80999755859375,146.6300048828125,142.91000366210938,140.94000244140625,142.64999389648438,142.16000366210938,144.49000549316406,145.47000122070312,143.2100067138672,136.5,134.50999450683594,132.3699951171875,132.3000030517578,135.4499969482422,132.22999572753906,131.86000061035156,130.02999877929688,126.04000091552734,129.61000061035156,129.92999267578125,125.06999969482422,126.36000061035156,125.0199966430664,129.6199951171875,130.14999389648438,130.72999572753906,133.49000549316406,133.41000366210938,134.75999450683594,135.94000244140625,135.2100067138672,135.27000427246094,137.8699951171875,141.11000061035156,142.52999877929688,141.86000061035156,143.9600067138672,145.92999267578125,143.0,144.2899932861328,145.42999267578125,150.82000732421875,154.5,151.72999572753906,154.64999389648438,151.9199981689453,150.8699951171875,151.00999450683594,153.85000610351562,153.1999969482422,155.3300018310547,153.7100067138672,152.5500030517578,148.47999572753906,148.91000366210938,149.39999389648438,146.7100067138672,147.9199981689453,147.41000366210938,145.30999755859375,145.91000366210938,151.02999877929688,153.8300018310547,151.60000610351562,152.8699951171875,150.58999633789062,148.5,150.47000122070312,152.58999633789062,152.99000549316406,155.85000610351562,155.0,157.39999389648438,159.27999877929688,157.8300018310547,158.92999267578125,160.25,158.27999877929688,157.64999389648438,160.77000427246094,162.36000061035156,164.89999389648438,166.1699981689453,165.6300048828125,163.75999450683594,164.66000366210938,162.02999877929688,160.8000030517578,160.10000610351562,165.55999755859375,165.2100067138672,165.22999572753906,166.47000122070312,167.6300048828125,166.64999389648438,165.02000427246094,165.3300018310547,163.77000427246094,163.75999450683594,168.41000366210938,169.67999267578125,169.58999633789062],\"high\":[158.22999572753906,160.7100067138672,166.47999572753906,164.0800018310547,159.44000244140625,155.8300018310547,156.74000549316406,155.4499969482422,146.1999969482422,148.10000610351562,147.52000427246094,149.77000427246094,147.36000061035156,141.66000366210938,140.6999969482422,143.25999450683594,141.97000122070312,141.7899932861328,144.33999633789062,149.67999267578125,150.66000366210938,151.74000549316406,151.27000427246094,147.97000122070312,148.57000732421875,149.0,149.8699951171875,147.9499969482422,140.75999450683594,135.1999969482422,133.88999938964844,137.33999633789062,132.38999938964844,133.0800018310547,137.05999755859375,137.75999450683594,138.58999633789062,141.91000366210938,143.49000549316406,143.4199981689453,140.6699981689453,138.3699951171875,139.0399932861328,141.61000061035156,144.1199951171875,146.5500030517578,147.5500030517578,146.63999938964844,148.4499969482422,146.4499969482422,148.9499969482422,150.86000061035156,151.57000732421875,151.22999572753906,153.72000122070312,155.57000732421875,156.27999877929688,155.0399932861328,153.08999633789062,157.3300018310547,157.63999938964844,163.6300048828125,163.58999633789062,162.41000366210938,166.58999633789062,167.19000244140625,165.85000610351562,167.80999755859375,165.82000732421875,169.33999633789062,170.99000549316406,172.1699981689453,173.38999938964844,173.7100067138672,176.14999389648438,174.89999389648438,173.74000549316406,169.86000061035156,168.7100067138672,168.11000061035156,170.13999938964844,171.0500030517578,162.89999389648438,162.55999755859375,160.5800018310547,158.4199981689453,160.36000061035156,157.08999633789062,156.6699981689453,156.36000061035156,157.82000732421875,164.25999450683594,160.5399932861328,157.10000610351562,155.24000549316406,151.35000610351562,154.55999755859375,158.0800018310547,158.74000549316406,154.47000122070312,151.47000122070312,153.77000427246094,154.72000122070312,150.63999938964844,146.72000122070312,143.10000610351562,143.07000732421875,146.22000122070312,147.3800048828125,147.5399932861328,143.10000610351562,141.88999938964844,141.35000610351562,140.36000061035156,143.58999633789062,144.52000427246094,142.89999389648438,146.6999969482422,144.9499969482422,145.88999938964844,147.85000610351562,150.22999572753906,152.49000549316406,151.99000549316406,149.0500030517578,157.5,154.24000549316406,155.4499969482422,152.1699981689453,142.8000030517578,142.6699981689453,139.14999389648438,141.42999267578125,138.5500030517578,146.8699951171875,150.00999450683594,150.27999877929688,153.58999633789062,149.8699951171875,151.47999572753906,152.6999969482422,150.3699951171875,150.4199981689453,151.8300018310547,148.8800048828125,146.63999938964844,144.80999755859375,148.72000122070312,149.1300048828125,148.0,150.9199981689453,147.3000030517578,143.3699951171875,143.52000427246094,145.57000732421875,144.5,149.97000122070312,146.66000366210938,141.8000030517578,137.64999389648438,135.1999969482422,133.25,136.80999755859375,134.55999755859375,132.4199981689453,131.41000366210938,131.02999877929688,130.47999572753906,129.9499969482422,130.89999389648438,128.66000366210938,127.7699966430664,130.2899932861328,133.41000366210938,131.25999450683594,133.50999450683594,134.25999450683594,134.9199981689453,137.2899932861328,138.61000061035156,136.25,138.02000427246094,143.32000732421875,143.16000366210938,142.42999267578125,144.25,147.22999572753906,145.5500030517578,144.33999633789062,146.61000061035156,151.17999267578125,157.3800048828125,153.10000610351562,155.22999572753906,154.5800018310547,154.3300018310547,151.33999633789062,154.25999450683594,153.77000427246094,155.5,156.3300018310547,153.0,151.3000030517578,149.9499969482422,150.33999633789062,147.19000244140625,149.1699981689453,149.0800018310547,147.22999572753906,146.7100067138672,151.11000061035156,156.3000030517578,154.02999877929688,153.47000122070312,154.5399932861328,150.94000244140625,153.13999938964844,153.39999389648438,153.25,156.4600067138672,156.74000549316406,157.82000732421875,159.39999389648438,162.13999938964844,161.5500030517578,160.33999633789062,160.77000427246094,158.49000549316406,161.0500030517578,162.47000122070312,165.0,166.2899932861328,166.83999633789062,165.0500030517578,164.9600067138672,162.02999877929688,162.36000061035156,162.05999755859375,165.8000030517578,166.32000732421875,165.38999938964844,167.41000366210938,168.16000366210938,167.8699951171875,166.4499969482422,165.60000610351562,166.30999755859375,165.27999877929688,168.55999755859375,169.85000610351562,170.4499969482422],\"low\":[153.27000427246094,156.32000732421875,159.25999450683594,154.9499969482422,154.17999267578125,151.49000549316406,152.92999267578125,145.80999755859375,138.8000030517578,143.11000061035156,144.17999267578125,146.67999267578125,139.89999389648438,136.60000610351562,132.61000061035156,137.64999389648438,137.3300018310547,138.33999633789062,137.13999938964844,145.25999450683594,146.83999633789062,147.67999267578125,146.86000061035156,144.4600067138672,144.89999389648438,144.10000610351562,147.4600067138672,142.52999877929688,137.05999755859375,131.44000244140625,131.47999572753906,132.16000366210938,129.0399932861328,129.80999755859375,133.32000732421875,133.91000366210938,135.6300048828125,139.77000427246094,140.97000122070312,137.32000732421875,136.6699981689453,133.77000427246094,135.66000366210938,136.92999267578125,141.0800018310547,143.27999877929688,145.0,143.77999877929688,145.0500030517578,142.1199951171875,143.25,148.1999969482422,146.6999969482422,146.91000366210938,150.3699951171875,151.94000244140625,153.41000366210938,152.27999877929688,150.8000030517578,152.16000366210938,154.41000366210938,159.5,160.88999938964844,159.6300048828125,160.75,164.42999267578125,163.0,164.1999969482422,163.25,166.89999389648438,168.19000244140625,169.39999389648438,171.35000610351562,171.66000366210938,172.57000732421875,173.1199951171875,171.30999755859375,167.13999938964844,166.64999389648438,166.25,168.35000610351562,163.55999755859375,159.82000732421875,157.72000122070312,157.13999938964844,154.6699981689453,154.97000122070312,153.69000244140625,153.61000061035156,152.67999267578125,154.75,159.3000030517578,153.3699951171875,153.61000061035156,151.3800048828125,148.3699951171875,149.10000610351562,153.0800018310547,153.60000610351562,150.91000366210938,148.55999755859375,149.63999938964844,149.9499969482422,144.83999633789062,140.67999267578125,138.0,137.69000244140625,144.25999450683594,143.00999450683594,145.22000122070312,139.4499969482422,138.57000732421875,138.22000122070312,138.16000366210938,134.3699951171875,138.19000244140625,140.27000427246094,140.61000061035156,141.5,142.64999389648438,142.64999389648438,146.0,149.36000061035156,148.0399932861328,144.1300048828125,147.82000732421875,151.9199981689453,149.1300048828125,145.0,138.75,134.3800048828125,135.6699981689453,137.49000549316406,134.58999633789062,139.5,144.3699951171875,147.42999267578125,148.55999755859375,147.2899932861328,146.14999389648438,149.97000122070312,147.72000122070312,146.92999267578125,149.33999633789062,147.1199951171875,143.3800048828125,140.35000610351562,140.5500030517578,146.61000061035156,145.64999389648438,145.77000427246094,141.9199981689453,140.0,141.10000610351562,140.89999389648438,141.05999755859375,144.24000549316406,141.16000366210938,136.02999877929688,133.72999572753906,131.32000732421875,129.88999938964844,132.75,130.3000030517578,129.63999938964844,128.72000122070312,125.87000274658203,127.7300033569336,127.43000030517578,124.16999816894531,125.08000183105469,124.76000213623047,124.88999938964844,129.88999938964844,128.1199951171875,130.4600067138672,131.44000244140625,131.66000366210938,134.1300048828125,135.02999877929688,133.77000427246094,134.22000122070312,137.89999389648438,140.3000030517578,138.80999755859375,141.89999389648438,143.0800018310547,142.85000610351562,142.27999877929688,141.32000732421875,148.1699981689453,147.8300018310547,150.77999877929688,150.63999938964844,151.1699981689453,150.4199981689453,149.22000122070312,150.9199981689453,150.86000061035156,152.8800048828125,153.35000610351562,150.85000610351562,148.41000366210938,147.16000366210938,147.24000549316406,145.72000122070312,147.4499969482422,146.8300018310547,145.00999450683594,143.89999389648438,147.3300018310547,153.4600067138672,151.1300048828125,151.8300018310547,150.22999572753906,147.61000061035156,147.6999969482422,150.10000610351562,149.9199981689453,151.63999938964844,154.27999877929688,154.14999389648438,156.5399932861328,157.80999755859375,157.67999267578125,157.85000610351562,157.8699951171875,155.97999572753906,159.35000610351562,161.27000427246094,161.91000366210938,164.22000122070312,165.11000061035156,161.8000030517578,162.0,160.0800018310547,160.50999450683594,159.77999877929688,161.4199981689453,163.82000732421875,164.02999877929688,165.64999389648438,165.5399932861328,165.55999755859375,164.49000549316406,163.88999938964844,163.72999572753906,162.8000030517578,165.19000244140625,167.8800048828125,168.63999938964844],\"name\":\"Candlestick Chart\",\"open\":[156.7100067138672,158.14999389648438,159.6699981689453,163.85000610351562,156.00999450683594,154.92999267578125,155.52000427246094,153.5,142.77000427246094,144.58999633789062,145.5500030517578,148.86000061035156,146.85000610351562,139.8800048828125,139.08999633789062,137.7899932861328,140.80999755859375,138.42999267578125,137.38999938964844,145.38999938964844,149.07000732421875,149.89999389648438,147.8300018310547,146.89999389648438,147.02999877929688,144.35000610351562,148.5800018310547,147.0800018310547,140.27999877929688,132.8699951171875,133.1300048828125,134.2899932861328,132.0800018310547,130.07000732421875,133.4199981689453,134.7899932861328,136.82000732421875,139.89999389648438,142.6999969482422,142.1300048828125,137.4600067138672,137.25,136.0399932861328,137.77000427246094,141.35000610351562,143.2899932861328,145.25999450683594,145.6699981689453,145.75999450683594,142.99000549316406,144.0800018310547,149.77999877929688,150.74000549316406,147.9199981689453,151.1199951171875,154.5,155.38999938964844,154.00999450683594,152.25999450683594,152.5800018310547,156.97999572753906,161.24000549316406,161.00999450683594,160.10000610351562,160.83999633789062,166.00999450683594,163.2100067138672,166.3699951171875,164.02000427246094,167.67999267578125,170.05999755859375,169.82000732421875,171.52000427246094,172.77999877929688,172.77000427246094,173.75,173.02999877929688,169.69000244140625,167.0800018310547,167.32000732421875,168.77999877929688,170.57000732421875,161.14999389648438,162.1300048828125,160.30999755859375,156.63999938964844,159.75,156.47000122070312,154.82000732421875,154.63999938964844,155.47000122070312,159.58999633789062,159.89999389648438,154.7899932861328,154.64999389648438,151.2100067138672,149.30999755859375,153.39999389648438,157.33999633789062,152.3800048828125,151.19000244140625,149.66000366210938,152.74000549316406,147.63999938964844,146.10000610351562,141.27999877929688,138.2100067138672,145.02999877929688,144.07000732421875,145.80999755859375,142.5399932861328,140.4199981689453,139.89999389648438,139.1300048828125,134.99000549316406,144.30999755859375,141.07000732421875,145.49000549316406,141.69000244140625,143.02000427246094,142.8699951171875,147.19000244140625,150.08999633789062,150.9600067138672,148.07000732421875,148.1999969482422,153.16000366210938,155.0800018310547,148.9499969482422,142.05999755859375,142.08999633789062,137.11000061035156,140.41000366210938,138.5,141.24000549316406,145.82000732421875,148.97000122070312,152.22000122070312,149.1300048828125,146.42999267578125,152.30999755859375,150.16000366210938,148.1300048828125,149.4499969482422,148.30999755859375,145.13999938964844,144.2899932861328,141.39999389648438,148.2100067138672,145.9600067138672,147.77000427246094,147.07000732421875,142.19000244140625,142.36000061035156,142.33999633789062,142.6999969482422,149.5,145.35000610351562,141.11000061035156,136.69000244140625,135.11000061035156,131.38999938964844,132.97999572753906,134.35000610351562,130.9199981689453,131.3800048828125,129.6699981689453,127.98999786376953,128.41000366210938,130.27999877929688,126.88999938964844,127.12999725341797,126.01000213623047,130.47000122070312,130.25999450683594,131.25,133.8800048828125,132.02999877929688,134.8300018310547,136.82000732421875,134.0800018310547,135.27999877929688,138.1199951171875,140.30999755859375,140.88999938964844,143.1699981689453,143.16000366210938,144.9600067138672,142.6999969482422,143.97000122070312,148.89999389648438,148.02999877929688,152.57000732421875,150.63999938964844,153.8800048828125,153.77999877929688,149.4600067138672,150.9499969482422,152.1199951171875,153.11000061035156,153.50999450683594,152.35000610351562,150.1999969482422,148.8699951171875,150.08999633789062,147.11000061035156,147.7100067138672,147.0500030517578,146.8300018310547,144.3800048828125,148.0399932861328,153.7899932861328,153.6999969482422,152.80999755859375,153.55999755859375,150.2100067138672,147.80999755859375,151.27999877929688,151.19000244140625,152.16000366210938,156.0800018310547,155.07000732421875,157.32000732421875,159.3000030517578,158.8300018310547,158.86000061035156,159.94000244140625,157.97000122070312,159.3699951171875,161.52999877929688,162.44000244140625,164.27000427246094,166.60000610351562,164.74000549316406,162.42999267578125,161.4199981689453,162.35000610351562,161.22000122070312,161.6300048828125,164.58999633789062,165.08999633789062,166.10000610351562,165.8000030517578,166.08999633789062,165.0500030517578,165.0,165.19000244140625,163.05999755859375,165.19000244140625,168.49000549316406,169.27999877929688],\"x\":[\"2022-05-02T00:00:00\",\"2022-05-03T00:00:00\",\"2022-05-04T00:00:00\",\"2022-05-05T00:00:00\",\"2022-05-06T00:00:00\",\"2022-05-09T00:00:00\",\"2022-05-10T00:00:00\",\"2022-05-11T00:00:00\",\"2022-05-12T00:00:00\",\"2022-05-13T00:00:00\",\"2022-05-16T00:00:00\",\"2022-05-17T00:00:00\",\"2022-05-18T00:00:00\",\"2022-05-19T00:00:00\",\"2022-05-20T00:00:00\",\"2022-05-23T00:00:00\",\"2022-05-24T00:00:00\",\"2022-05-25T00:00:00\",\"2022-05-26T00:00:00\",\"2022-05-27T00:00:00\",\"2022-05-31T00:00:00\",\"2022-06-01T00:00:00\",\"2022-06-02T00:00:00\",\"2022-06-03T00:00:00\",\"2022-06-06T00:00:00\",\"2022-06-07T00:00:00\",\"2022-06-08T00:00:00\",\"2022-06-09T00:00:00\",\"2022-06-10T00:00:00\",\"2022-06-13T00:00:00\",\"2022-06-14T00:00:00\",\"2022-06-15T00:00:00\",\"2022-06-16T00:00:00\",\"2022-06-17T00:00:00\",\"2022-06-21T00:00:00\",\"2022-06-22T00:00:00\",\"2022-06-23T00:00:00\",\"2022-06-24T00:00:00\",\"2022-06-27T00:00:00\",\"2022-06-28T00:00:00\",\"2022-06-29T00:00:00\",\"2022-06-30T00:00:00\",\"2022-07-01T00:00:00\",\"2022-07-05T00:00:00\",\"2022-07-06T00:00:00\",\"2022-07-07T00:00:00\",\"2022-07-08T00:00:00\",\"2022-07-11T00:00:00\",\"2022-07-12T00:00:00\",\"2022-07-13T00:00:00\",\"2022-07-14T00:00:00\",\"2022-07-15T00:00:00\",\"2022-07-18T00:00:00\",\"2022-07-19T00:00:00\",\"2022-07-20T00:00:00\",\"2022-07-21T00:00:00\",\"2022-07-22T00:00:00\",\"2022-07-25T00:00:00\",\"2022-07-26T00:00:00\",\"2022-07-27T00:00:00\",\"2022-07-28T00:00:00\",\"2022-07-29T00:00:00\",\"2022-08-01T00:00:00\",\"2022-08-02T00:00:00\",\"2022-08-03T00:00:00\",\"2022-08-04T00:00:00\",\"2022-08-05T00:00:00\",\"2022-08-08T00:00:00\",\"2022-08-09T00:00:00\",\"2022-08-10T00:00:00\",\"2022-08-11T00:00:00\",\"2022-08-12T00:00:00\",\"2022-08-15T00:00:00\",\"2022-08-16T00:00:00\",\"2022-08-17T00:00:00\",\"2022-08-18T00:00:00\",\"2022-08-19T00:00:00\",\"2022-08-22T00:00:00\",\"2022-08-23T00:00:00\",\"2022-08-24T00:00:00\",\"2022-08-25T00:00:00\",\"2022-08-26T00:00:00\",\"2022-08-29T00:00:00\",\"2022-08-30T00:00:00\",\"2022-08-31T00:00:00\",\"2022-09-01T00:00:00\",\"2022-09-02T00:00:00\",\"2022-09-06T00:00:00\",\"2022-09-07T00:00:00\",\"2022-09-08T00:00:00\",\"2022-09-09T00:00:00\",\"2022-09-12T00:00:00\",\"2022-09-13T00:00:00\",\"2022-09-14T00:00:00\",\"2022-09-15T00:00:00\",\"2022-09-16T00:00:00\",\"2022-09-19T00:00:00\",\"2022-09-20T00:00:00\",\"2022-09-21T00:00:00\",\"2022-09-22T00:00:00\",\"2022-09-23T00:00:00\",\"2022-09-26T00:00:00\",\"2022-09-27T00:00:00\",\"2022-09-28T00:00:00\",\"2022-09-29T00:00:00\",\"2022-09-30T00:00:00\",\"2022-10-03T00:00:00\",\"2022-10-04T00:00:00\",\"2022-10-05T00:00:00\",\"2022-10-06T00:00:00\",\"2022-10-07T00:00:00\",\"2022-10-10T00:00:00\",\"2022-10-11T00:00:00\",\"2022-10-12T00:00:00\",\"2022-10-13T00:00:00\",\"2022-10-14T00:00:00\",\"2022-10-17T00:00:00\",\"2022-10-18T00:00:00\",\"2022-10-19T00:00:00\",\"2022-10-20T00:00:00\",\"2022-10-21T00:00:00\",\"2022-10-24T00:00:00\",\"2022-10-25T00:00:00\",\"2022-10-26T00:00:00\",\"2022-10-27T00:00:00\",\"2022-10-28T00:00:00\",\"2022-10-31T00:00:00\",\"2022-11-01T00:00:00\",\"2022-11-02T00:00:00\",\"2022-11-03T00:00:00\",\"2022-11-04T00:00:00\",\"2022-11-07T00:00:00\",\"2022-11-08T00:00:00\",\"2022-11-09T00:00:00\",\"2022-11-10T00:00:00\",\"2022-11-11T00:00:00\",\"2022-11-14T00:00:00\",\"2022-11-15T00:00:00\",\"2022-11-16T00:00:00\",\"2022-11-17T00:00:00\",\"2022-11-18T00:00:00\",\"2022-11-21T00:00:00\",\"2022-11-22T00:00:00\",\"2022-11-23T00:00:00\",\"2022-11-25T00:00:00\",\"2022-11-28T00:00:00\",\"2022-11-29T00:00:00\",\"2022-11-30T00:00:00\",\"2022-12-01T00:00:00\",\"2022-12-02T00:00:00\",\"2022-12-05T00:00:00\",\"2022-12-06T00:00:00\",\"2022-12-07T00:00:00\",\"2022-12-08T00:00:00\",\"2022-12-09T00:00:00\",\"2022-12-12T00:00:00\",\"2022-12-13T00:00:00\",\"2022-12-14T00:00:00\",\"2022-12-15T00:00:00\",\"2022-12-16T00:00:00\",\"2022-12-19T00:00:00\",\"2022-12-20T00:00:00\",\"2022-12-21T00:00:00\",\"2022-12-22T00:00:00\",\"2022-12-23T00:00:00\",\"2022-12-27T00:00:00\",\"2022-12-28T00:00:00\",\"2022-12-29T00:00:00\",\"2022-12-30T00:00:00\",\"2023-01-03T00:00:00\",\"2023-01-04T00:00:00\",\"2023-01-05T00:00:00\",\"2023-01-06T00:00:00\",\"2023-01-09T00:00:00\",\"2023-01-10T00:00:00\",\"2023-01-11T00:00:00\",\"2023-01-12T00:00:00\",\"2023-01-13T00:00:00\",\"2023-01-17T00:00:00\",\"2023-01-18T00:00:00\",\"2023-01-19T00:00:00\",\"2023-01-20T00:00:00\",\"2023-01-23T00:00:00\",\"2023-01-24T00:00:00\",\"2023-01-25T00:00:00\",\"2023-01-26T00:00:00\",\"2023-01-27T00:00:00\",\"2023-01-30T00:00:00\",\"2023-01-31T00:00:00\",\"2023-02-01T00:00:00\",\"2023-02-02T00:00:00\",\"2023-02-03T00:00:00\",\"2023-02-06T00:00:00\",\"2023-02-07T00:00:00\",\"2023-02-08T00:00:00\",\"2023-02-09T00:00:00\",\"2023-02-10T00:00:00\",\"2023-02-13T00:00:00\",\"2023-02-14T00:00:00\",\"2023-02-15T00:00:00\",\"2023-02-16T00:00:00\",\"2023-02-17T00:00:00\",\"2023-02-21T00:00:00\",\"2023-02-22T00:00:00\",\"2023-02-23T00:00:00\",\"2023-02-24T00:00:00\",\"2023-02-27T00:00:00\",\"2023-02-28T00:00:00\",\"2023-03-01T00:00:00\",\"2023-03-02T00:00:00\",\"2023-03-03T00:00:00\",\"2023-03-06T00:00:00\",\"2023-03-07T00:00:00\",\"2023-03-08T00:00:00\",\"2023-03-09T00:00:00\",\"2023-03-10T00:00:00\",\"2023-03-13T00:00:00\",\"2023-03-14T00:00:00\",\"2023-03-15T00:00:00\",\"2023-03-16T00:00:00\",\"2023-03-17T00:00:00\",\"2023-03-20T00:00:00\",\"2023-03-21T00:00:00\",\"2023-03-22T00:00:00\",\"2023-03-23T00:00:00\",\"2023-03-24T00:00:00\",\"2023-03-27T00:00:00\",\"2023-03-28T00:00:00\",\"2023-03-29T00:00:00\",\"2023-03-30T00:00:00\",\"2023-03-31T00:00:00\",\"2023-04-03T00:00:00\",\"2023-04-04T00:00:00\",\"2023-04-05T00:00:00\",\"2023-04-06T00:00:00\",\"2023-04-10T00:00:00\",\"2023-04-11T00:00:00\",\"2023-04-12T00:00:00\",\"2023-04-13T00:00:00\",\"2023-04-14T00:00:00\",\"2023-04-17T00:00:00\",\"2023-04-18T00:00:00\",\"2023-04-19T00:00:00\",\"2023-04-20T00:00:00\",\"2023-04-21T00:00:00\",\"2023-04-24T00:00:00\",\"2023-04-25T00:00:00\",\"2023-04-26T00:00:00\",\"2023-04-27T00:00:00\",\"2023-04-28T00:00:00\",\"2023-05-01T00:00:00\"],\"type\":\"candlestick\",\"xaxis\":\"x\",\"yaxis\":\"y\"}],                        {\"template\":{\"data\":{\"histogram2dcontour\":[{\"type\":\"histogram2dcontour\",\"colorbar\":{\"outlinewidth\":0,\"ticks\":\"\"},\"colorscale\":[[0.0,\"#0d0887\"],[0.1111111111111111,\"#46039f\"],[0.2222222222222222,\"#7201a8\"],[0.3333333333333333,\"#9c179e\"],[0.4444444444444444,\"#bd3786\"],[0.5555555555555556,\"#d8576b\"],[0.6666666666666666,\"#ed7953\"],[0.7777777777777778,\"#fb9f3a\"],[0.8888888888888888,\"#fdca26\"],[1.0,\"#f0f921\"]]}],\"choropleth\":[{\"type\":\"choropleth\",\"colorbar\":{\"outlinewidth\":0,\"ticks\":\"\"}}],\"histogram2d\":[{\"type\":\"histogram2d\",\"colorbar\":{\"outlinewidth\":0,\"ticks\":\"\"},\"colorscale\":[[0.0,\"#0d0887\"],[0.1111111111111111,\"#46039f\"],[0.2222222222222222,\"#7201a8\"],[0.3333333333333333,\"#9c179e\"],[0.4444444444444444,\"#bd3786\"],[0.5555555555555556,\"#d8576b\"],[0.6666666666666666,\"#ed7953\"],[0.7777777777777778,\"#fb9f3a\"],[0.8888888888888888,\"#fdca26\"],[1.0,\"#f0f921\"]]}],\"heatmap\":[{\"type\":\"heatmap\",\"colorbar\":{\"outlinewidth\":0,\"ticks\":\"\"},\"colorscale\":[[0.0,\"#0d0887\"],[0.1111111111111111,\"#46039f\"],[0.2222222222222222,\"#7201a8\"],[0.3333333333333333,\"#9c179e\"],[0.4444444444444444,\"#bd3786\"],[0.5555555555555556,\"#d8576b\"],[0.6666666666666666,\"#ed7953\"],[0.7777777777777778,\"#fb9f3a\"],[0.8888888888888888,\"#fdca26\"],[1.0,\"#f0f921\"]]}],\"heatmapgl\":[{\"type\":\"heatmapgl\",\"colorbar\":{\"outlinewidth\":0,\"ticks\":\"\"},\"colorscale\":[[0.0,\"#0d0887\"],[0.1111111111111111,\"#46039f\"],[0.2222222222222222,\"#7201a8\"],[0.3333333333333333,\"#9c179e\"],[0.4444444444444444,\"#bd3786\"],[0.5555555555555556,\"#d8576b\"],[0.6666666666666666,\"#ed7953\"],[0.7777777777777778,\"#fb9f3a\"],[0.8888888888888888,\"#fdca26\"],[1.0,\"#f0f921\"]]}],\"contourcarpet\":[{\"type\":\"contourcarpet\",\"colorbar\":{\"outlinewidth\":0,\"ticks\":\"\"}}],\"contour\":[{\"type\":\"contour\",\"colorbar\":{\"outlinewidth\":0,\"ticks\":\"\"},\"colorscale\":[[0.0,\"#0d0887\"],[0.1111111111111111,\"#46039f\"],[0.2222222222222222,\"#7201a8\"],[0.3333333333333333,\"#9c179e\"],[0.4444444444444444,\"#bd3786\"],[0.5555555555555556,\"#d8576b\"],[0.6666666666666666,\"#ed7953\"],[0.7777777777777778,\"#fb9f3a\"],[0.8888888888888888,\"#fdca26\"],[1.0,\"#f0f921\"]]}],\"surface\":[{\"type\":\"surface\",\"colorbar\":{\"outlinewidth\":0,\"ticks\":\"\"},\"colorscale\":[[0.0,\"#0d0887\"],[0.1111111111111111,\"#46039f\"],[0.2222222222222222,\"#7201a8\"],[0.3333333333333333,\"#9c179e\"],[0.4444444444444444,\"#bd3786\"],[0.5555555555555556,\"#d8576b\"],[0.6666666666666666,\"#ed7953\"],[0.7777777777777778,\"#fb9f3a\"],[0.8888888888888888,\"#fdca26\"],[1.0,\"#f0f921\"]]}],\"mesh3d\":[{\"type\":\"mesh3d\",\"colorbar\":{\"outlinewidth\":0,\"ticks\":\"\"}}],\"scatter\":[{\"fillpattern\":{\"fillmode\":\"overlay\",\"size\":10,\"solidity\":0.2},\"type\":\"scatter\"}],\"parcoords\":[{\"type\":\"parcoords\",\"line\":{\"colorbar\":{\"outlinewidth\":0,\"ticks\":\"\"}}}],\"scatterpolargl\":[{\"type\":\"scatterpolargl\",\"marker\":{\"colorbar\":{\"outlinewidth\":0,\"ticks\":\"\"}}}],\"bar\":[{\"error_x\":{\"color\":\"#2a3f5f\"},\"error_y\":{\"color\":\"#2a3f5f\"},\"marker\":{\"line\":{\"color\":\"#E5ECF6\",\"width\":0.5},\"pattern\":{\"fillmode\":\"overlay\",\"size\":10,\"solidity\":0.2}},\"type\":\"bar\"}],\"scattergeo\":[{\"type\":\"scattergeo\",\"marker\":{\"colorbar\":{\"outlinewidth\":0,\"ticks\":\"\"}}}],\"scatterpolar\":[{\"type\":\"scatterpolar\",\"marker\":{\"colorbar\":{\"outlinewidth\":0,\"ticks\":\"\"}}}],\"histogram\":[{\"marker\":{\"pattern\":{\"fillmode\":\"overlay\",\"size\":10,\"solidity\":0.2}},\"type\":\"histogram\"}],\"scattergl\":[{\"type\":\"scattergl\",\"marker\":{\"colorbar\":{\"outlinewidth\":0,\"ticks\":\"\"}}}],\"scatter3d\":[{\"type\":\"scatter3d\",\"line\":{\"colorbar\":{\"outlinewidth\":0,\"ticks\":\"\"}},\"marker\":{\"colorbar\":{\"outlinewidth\":0,\"ticks\":\"\"}}}],\"scattermapbox\":[{\"type\":\"scattermapbox\",\"marker\":{\"colorbar\":{\"outlinewidth\":0,\"ticks\":\"\"}}}],\"scatterternary\":[{\"type\":\"scatterternary\",\"marker\":{\"colorbar\":{\"outlinewidth\":0,\"ticks\":\"\"}}}],\"scattercarpet\":[{\"type\":\"scattercarpet\",\"marker\":{\"colorbar\":{\"outlinewidth\":0,\"ticks\":\"\"}}}],\"carpet\":[{\"aaxis\":{\"endlinecolor\":\"#2a3f5f\",\"gridcolor\":\"white\",\"linecolor\":\"white\",\"minorgridcolor\":\"white\",\"startlinecolor\":\"#2a3f5f\"},\"baxis\":{\"endlinecolor\":\"#2a3f5f\",\"gridcolor\":\"white\",\"linecolor\":\"white\",\"minorgridcolor\":\"white\",\"startlinecolor\":\"#2a3f5f\"},\"type\":\"carpet\"}],\"table\":[{\"cells\":{\"fill\":{\"color\":\"#EBF0F8\"},\"line\":{\"color\":\"white\"}},\"header\":{\"fill\":{\"color\":\"#C8D4E3\"},\"line\":{\"color\":\"white\"}},\"type\":\"table\"}],\"barpolar\":[{\"marker\":{\"line\":{\"color\":\"#E5ECF6\",\"width\":0.5},\"pattern\":{\"fillmode\":\"overlay\",\"size\":10,\"solidity\":0.2}},\"type\":\"barpolar\"}],\"pie\":[{\"automargin\":true,\"type\":\"pie\"}]},\"layout\":{\"autotypenumbers\":\"strict\",\"colorway\":[\"#636efa\",\"#EF553B\",\"#00cc96\",\"#ab63fa\",\"#FFA15A\",\"#19d3f3\",\"#FF6692\",\"#B6E880\",\"#FF97FF\",\"#FECB52\"],\"font\":{\"color\":\"#2a3f5f\"},\"hovermode\":\"closest\",\"hoverlabel\":{\"align\":\"left\"},\"paper_bgcolor\":\"white\",\"plot_bgcolor\":\"#E5ECF6\",\"polar\":{\"bgcolor\":\"#E5ECF6\",\"angularaxis\":{\"gridcolor\":\"white\",\"linecolor\":\"white\",\"ticks\":\"\"},\"radialaxis\":{\"gridcolor\":\"white\",\"linecolor\":\"white\",\"ticks\":\"\"}},\"ternary\":{\"bgcolor\":\"#E5ECF6\",\"aaxis\":{\"gridcolor\":\"white\",\"linecolor\":\"white\",\"ticks\":\"\"},\"baxis\":{\"gridcolor\":\"white\",\"linecolor\":\"white\",\"ticks\":\"\"},\"caxis\":{\"gridcolor\":\"white\",\"linecolor\":\"white\",\"ticks\":\"\"}},\"coloraxis\":{\"colorbar\":{\"outlinewidth\":0,\"ticks\":\"\"}},\"colorscale\":{\"sequential\":[[0.0,\"#0d0887\"],[0.1111111111111111,\"#46039f\"],[0.2222222222222222,\"#7201a8\"],[0.3333333333333333,\"#9c179e\"],[0.4444444444444444,\"#bd3786\"],[0.5555555555555556,\"#d8576b\"],[0.6666666666666666,\"#ed7953\"],[0.7777777777777778,\"#fb9f3a\"],[0.8888888888888888,\"#fdca26\"],[1.0,\"#f0f921\"]],\"sequentialminus\":[[0.0,\"#0d0887\"],[0.1111111111111111,\"#46039f\"],[0.2222222222222222,\"#7201a8\"],[0.3333333333333333,\"#9c179e\"],[0.4444444444444444,\"#bd3786\"],[0.5555555555555556,\"#d8576b\"],[0.6666666666666666,\"#ed7953\"],[0.7777777777777778,\"#fb9f3a\"],[0.8888888888888888,\"#fdca26\"],[1.0,\"#f0f921\"]],\"diverging\":[[0,\"#8e0152\"],[0.1,\"#c51b7d\"],[0.2,\"#de77ae\"],[0.3,\"#f1b6da\"],[0.4,\"#fde0ef\"],[0.5,\"#f7f7f7\"],[0.6,\"#e6f5d0\"],[0.7,\"#b8e186\"],[0.8,\"#7fbc41\"],[0.9,\"#4d9221\"],[1,\"#276419\"]]},\"xaxis\":{\"gridcolor\":\"white\",\"linecolor\":\"white\",\"ticks\":\"\",\"title\":{\"standoff\":15},\"zerolinecolor\":\"white\",\"automargin\":true,\"zerolinewidth\":2},\"yaxis\":{\"gridcolor\":\"white\",\"linecolor\":\"white\",\"ticks\":\"\",\"title\":{\"standoff\":15},\"zerolinecolor\":\"white\",\"automargin\":true,\"zerolinewidth\":2},\"scene\":{\"xaxis\":{\"backgroundcolor\":\"#E5ECF6\",\"gridcolor\":\"white\",\"linecolor\":\"white\",\"showbackground\":true,\"ticks\":\"\",\"zerolinecolor\":\"white\",\"gridwidth\":2},\"yaxis\":{\"backgroundcolor\":\"#E5ECF6\",\"gridcolor\":\"white\",\"linecolor\":\"white\",\"showbackground\":true,\"ticks\":\"\",\"zerolinecolor\":\"white\",\"gridwidth\":2},\"zaxis\":{\"backgroundcolor\":\"#E5ECF6\",\"gridcolor\":\"white\",\"linecolor\":\"white\",\"showbackground\":true,\"ticks\":\"\",\"zerolinecolor\":\"white\",\"gridwidth\":2}},\"shapedefaults\":{\"line\":{\"color\":\"#2a3f5f\"}},\"annotationdefaults\":{\"arrowcolor\":\"#2a3f5f\",\"arrowhead\":0,\"arrowwidth\":1},\"geo\":{\"bgcolor\":\"white\",\"landcolor\":\"#E5ECF6\",\"subunitcolor\":\"white\",\"showland\":true,\"showlakes\":true,\"lakecolor\":\"white\"},\"title\":{\"x\":0.05},\"mapbox\":{\"style\":\"light\"}}},\"xaxis\":{\"anchor\":\"y\",\"domain\":[0.0,1.0],\"rangeslider\":{\"visible\":false}},\"yaxis\":{\"anchor\":\"x\",\"domain\":[0.0,1.0],\"title\":{\"text\":\"Price ($)\"}}},                        {\"responsive\": true}                    ).then(function(){\n",
              "                            \n",
              "var gd = document.getElementById('15ee727b-a8a1-49de-b278-9736121b6e25');\n",
              "var x = new MutationObserver(function (mutations, observer) {{\n",
              "        var display = window.getComputedStyle(gd).display;\n",
              "        if (!display || display === 'none') {{\n",
              "            console.log([gd, 'removed!']);\n",
              "            Plotly.purge(gd);\n",
              "            observer.disconnect();\n",
              "        }}\n",
              "}});\n",
              "\n",
              "// Listen for the removal of the full notebook cells\n",
              "var notebookContainer = gd.closest('#notebook-container');\n",
              "if (notebookContainer) {{\n",
              "    x.observe(notebookContainer, {childList: true});\n",
              "}}\n",
              "\n",
              "// Listen for the clearing of the current output cell\n",
              "var outputEl = gd.closest('.output');\n",
              "if (outputEl) {{\n",
              "    x.observe(outputEl, {childList: true});\n",
              "}}\n",
              "\n",
              "                        })                };                            </script>        </div>\n",
              "</body>\n",
              "</html>"
            ]
          },
          "metadata": {}
        }
      ]
    },
    {
      "cell_type": "code",
      "source": [
        "########## Plot the four plots ##########\n",
        "fig = make_subplots(rows=4,\n",
        "                    cols=1,\n",
        "                    shared_xaxes=True,\n",
        "                    vertical_spacing=0.005,\n",
        "                    row_width=[0.2, 0.3, 0.3, 0.8])\n",
        "\n",
        "fig = plot_candlestick_chart(fig,\n",
        "                             df,\n",
        "                             row=1,\n",
        "                             plot_EMAs=True,\n",
        "                             plot_strategy=True)\n",
        "fig = plot_MACD(fig, df, row=2)\n",
        "fig = plot_RSI(fig, df, row=3)\n",
        "fig = plot_volume(fig, df, row=4)\n",
        "\n",
        "########## Customise the figure ##########\n",
        "# Update xaxis properties\n",
        "fig.update_xaxes(rangebreaks=[dict(values=closed_dates_list)],\n",
        "                 range=[df['Date'].iloc[0] - datetime.timedelta(days=3), df['Date'].iloc[-1] + datetime.timedelta(days=3)])\n",
        "\n",
        "# Update basic layout properties (width&height, background color, title, etc.)\n",
        "fig.update_layout(width=800,\n",
        "                  height=800,\n",
        "                  plot_bgcolor='#0E1117',\n",
        "                  paper_bgcolor='#0E1117',\n",
        "                  title={\n",
        "                      'text': '{} - Stock Dashboard'.format(ticker),\n",
        "                      'y': 0.98\n",
        "                  },\n",
        "                  hovermode='x unified',\n",
        "                  legend=dict(orientation='h',\n",
        "                              xanchor='left',\n",
        "                              x=0.05,\n",
        "                              yanchor='bottom',\n",
        "                              y=1.003))\n",
        "\n",
        "# Customize axis parameters\n",
        "axis_lw, axis_color = 2, 'white'\n",
        "fig.update_layout(xaxis1=dict(linewidth=axis_lw,\n",
        "                              linecolor=axis_color,\n",
        "                              mirror=True,\n",
        "                              showgrid=False),\n",
        "                  yaxis1=dict(linewidth=axis_lw,\n",
        "                              linecolor=axis_color,\n",
        "                              mirror=True,\n",
        "                              showgrid=False),\n",
        "                  font=dict(color=axis_color))\n",
        "\n",
        "fig.update_layout(xaxis2=dict(linewidth=axis_lw,\n",
        "                              linecolor=axis_color,\n",
        "                              mirror=True,\n",
        "                              showgrid=False),\n",
        "                  yaxis2=dict(linewidth=axis_lw,\n",
        "                              linecolor=axis_color,\n",
        "                              mirror=True,\n",
        "                              showgrid=False),\n",
        "                  font=dict(color=axis_color))\n",
        "\n",
        "fig.update_layout(xaxis3=dict(linewidth=axis_lw,\n",
        "                              linecolor=axis_color,\n",
        "                              mirror=True,\n",
        "                              showgrid=False),\n",
        "                  yaxis3=dict(linewidth=axis_lw,\n",
        "                              linecolor=axis_color,\n",
        "                              mirror=True,\n",
        "                              showgrid=False),\n",
        "                  font=dict(color=axis_color))\n",
        "\n",
        "fig.update_layout(xaxis4=dict(linewidth=axis_lw,\n",
        "                              linecolor=axis_color,\n",
        "                              mirror=True,\n",
        "                              showgrid=False),\n",
        "                  yaxis4=dict(linewidth=axis_lw,\n",
        "                              linecolor=axis_color,\n",
        "                              mirror=True,\n",
        "                              showgrid=False),\n",
        "                  font=dict(color=axis_color))\n",
        "\n",
        "fig.show()"
      ],
      "metadata": {
        "colab": {
          "base_uri": "https://localhost:8080/",
          "height": 817
        },
        "id": "sFUkel1sw7U1",
        "outputId": "00499e98-00fb-456e-e479-85691ec9a8bc"
      },
      "execution_count": null,
      "outputs": [
        {
          "output_type": "display_data",
          "data": {
            "text/html": [
              "<html>\n",
              "<head><meta charset=\"utf-8\" /></head>\n",
              "<body>\n",
              "    <div>            <script src=\"https://cdnjs.cloudflare.com/ajax/libs/mathjax/2.7.5/MathJax.js?config=TeX-AMS-MML_SVG\"></script><script type=\"text/javascript\">if (window.MathJax && window.MathJax.Hub && window.MathJax.Hub.Config) {window.MathJax.Hub.Config({SVG: {font: \"STIX-Web\"}});}</script>                <script type=\"text/javascript\">window.PlotlyConfig = {MathJaxConfig: 'local'};</script>\n",
              "        <script src=\"https://cdn.plot.ly/plotly-2.18.2.min.js\"></script>                <div id=\"a1aa2073-ce8f-48c9-9419-f68e0c2a3ef0\" class=\"plotly-graph-div\" style=\"height:800px; width:800px;\"></div>            <script type=\"text/javascript\">                                    window.PLOTLYENV=window.PLOTLYENV || {};                                    if (document.getElementById(\"a1aa2073-ce8f-48c9-9419-f68e0c2a3ef0\")) {                    Plotly.newPlot(                        \"a1aa2073-ce8f-48c9-9419-f68e0c2a3ef0\",                        [{\"close\":[157.9600067138672,159.47999572753906,166.02000427246094,156.77000427246094,157.27999877929688,152.05999755859375,154.50999450683594,146.5,142.55999755859375,147.11000061035156,145.5399932861328,149.24000549316406,140.82000732421875,137.35000610351562,137.58999633789062,143.11000061035156,140.36000061035156,140.52000427246094,143.77999877929688,149.63999938964844,148.83999633789062,148.7100067138672,151.2100067138672,145.3800048828125,146.13999938964844,148.7100067138672,147.9600067138672,142.63999938964844,137.1300048828125,131.8800048828125,132.75999450683594,135.42999267578125,130.05999755859375,131.55999755859375,135.8699951171875,135.35000610351562,138.27000427246094,141.66000366210938,141.66000366210938,137.44000244140625,139.22999572753906,136.72000122070312,138.92999267578125,141.55999755859375,142.9199981689453,146.35000610351562,147.0399932861328,144.8699951171875,145.86000061035156,145.49000549316406,148.47000122070312,150.1699981689453,147.07000732421875,151.0,153.0399932861328,155.35000610351562,154.08999633789062,152.9499969482422,151.60000610351562,156.7899932861328,157.35000610351562,162.50999450683594,161.50999450683594,160.00999450683594,166.1300048828125,165.80999755859375,165.35000610351562,164.8699951171875,164.9199981689453,169.24000549316406,168.49000549316406,172.10000610351562,173.19000244140625,173.02999877929688,174.5500030517578,174.14999389648438,171.52000427246094,167.57000732421875,167.22999572753906,167.52999877929688,170.02999877929688,163.6199951171875,161.3800048828125,158.91000366210938,157.22000122070312,157.9600067138672,155.80999755859375,154.52999877929688,155.9600067138672,154.4600067138672,157.3699951171875,163.42999267578125,153.83999633789062,155.30999755859375,152.3699951171875,150.6999969482422,154.47999572753906,156.89999389648438,153.72000122070312,152.74000549316406,150.42999267578125,150.77000427246094,151.75999450683594,149.83999633789062,142.47999572753906,138.1999969482422,142.4499969482422,146.10000610351562,146.39999389648438,145.42999267578125,140.08999633789062,140.4199981689453,138.97999572753906,138.33999633789062,142.99000549316406,138.3800048828125,142.41000366210938,143.75,143.86000061035156,143.38999938964844,147.27000427246094,149.4499969482422,152.33999633789062,149.35000610351562,144.8000030517578,155.74000549316406,153.33999633789062,150.64999389648438,145.02999877929688,138.8800048828125,138.3800048828125,138.9199981689453,139.5,134.8699951171875,146.8699951171875,149.6999969482422,148.27999877929688,150.0399932861328,148.7899932861328,150.72000122070312,151.2899932861328,148.00999450683594,150.17999267578125,151.07000732421875,148.11000061035156,144.22000122070312,141.1699981689453,148.02999877929688,148.30999755859375,147.80999755859375,146.6300048828125,142.91000366210938,140.94000244140625,142.64999389648438,142.16000366210938,144.49000549316406,145.47000122070312,143.2100067138672,136.5,134.50999450683594,132.3699951171875,132.3000030517578,135.4499969482422,132.22999572753906,131.86000061035156,130.02999877929688,126.04000091552734,129.61000061035156,129.92999267578125,125.06999969482422,126.36000061035156,125.0199966430664,129.6199951171875,130.14999389648438,130.72999572753906,133.49000549316406,133.41000366210938,134.75999450683594,135.94000244140625,135.2100067138672,135.27000427246094,137.8699951171875,141.11000061035156,142.52999877929688,141.86000061035156,143.9600067138672,145.92999267578125,143.0,144.2899932861328,145.42999267578125,150.82000732421875,154.5,151.72999572753906,154.64999389648438,151.9199981689453,150.8699951171875,151.00999450683594,153.85000610351562,153.1999969482422,155.3300018310547,153.7100067138672,152.5500030517578,148.47999572753906,148.91000366210938,149.39999389648438,146.7100067138672,147.9199981689453,147.41000366210938,145.30999755859375,145.91000366210938,151.02999877929688,153.8300018310547,151.60000610351562,152.8699951171875,150.58999633789062,148.5,150.47000122070312,152.58999633789062,152.99000549316406,155.85000610351562,155.0,157.39999389648438,159.27999877929688,157.8300018310547,158.92999267578125,160.25,158.27999877929688,157.64999389648438,160.77000427246094,162.36000061035156,164.89999389648438,166.1699981689453,165.6300048828125,163.75999450683594,164.66000366210938,162.02999877929688,160.8000030517578,160.10000610351562,165.55999755859375,165.2100067138672,165.22999572753906,166.47000122070312,167.6300048828125,166.64999389648438,165.02000427246094,165.3300018310547,163.77000427246094,163.75999450683594,168.41000366210938,169.67999267578125,169.58999633789062],\"high\":[158.22999572753906,160.7100067138672,166.47999572753906,164.0800018310547,159.44000244140625,155.8300018310547,156.74000549316406,155.4499969482422,146.1999969482422,148.10000610351562,147.52000427246094,149.77000427246094,147.36000061035156,141.66000366210938,140.6999969482422,143.25999450683594,141.97000122070312,141.7899932861328,144.33999633789062,149.67999267578125,150.66000366210938,151.74000549316406,151.27000427246094,147.97000122070312,148.57000732421875,149.0,149.8699951171875,147.9499969482422,140.75999450683594,135.1999969482422,133.88999938964844,137.33999633789062,132.38999938964844,133.0800018310547,137.05999755859375,137.75999450683594,138.58999633789062,141.91000366210938,143.49000549316406,143.4199981689453,140.6699981689453,138.3699951171875,139.0399932861328,141.61000061035156,144.1199951171875,146.5500030517578,147.5500030517578,146.63999938964844,148.4499969482422,146.4499969482422,148.9499969482422,150.86000061035156,151.57000732421875,151.22999572753906,153.72000122070312,155.57000732421875,156.27999877929688,155.0399932861328,153.08999633789062,157.3300018310547,157.63999938964844,163.6300048828125,163.58999633789062,162.41000366210938,166.58999633789062,167.19000244140625,165.85000610351562,167.80999755859375,165.82000732421875,169.33999633789062,170.99000549316406,172.1699981689453,173.38999938964844,173.7100067138672,176.14999389648438,174.89999389648438,173.74000549316406,169.86000061035156,168.7100067138672,168.11000061035156,170.13999938964844,171.0500030517578,162.89999389648438,162.55999755859375,160.5800018310547,158.4199981689453,160.36000061035156,157.08999633789062,156.6699981689453,156.36000061035156,157.82000732421875,164.25999450683594,160.5399932861328,157.10000610351562,155.24000549316406,151.35000610351562,154.55999755859375,158.0800018310547,158.74000549316406,154.47000122070312,151.47000122070312,153.77000427246094,154.72000122070312,150.63999938964844,146.72000122070312,143.10000610351562,143.07000732421875,146.22000122070312,147.3800048828125,147.5399932861328,143.10000610351562,141.88999938964844,141.35000610351562,140.36000061035156,143.58999633789062,144.52000427246094,142.89999389648438,146.6999969482422,144.9499969482422,145.88999938964844,147.85000610351562,150.22999572753906,152.49000549316406,151.99000549316406,149.0500030517578,157.5,154.24000549316406,155.4499969482422,152.1699981689453,142.8000030517578,142.6699981689453,139.14999389648438,141.42999267578125,138.5500030517578,146.8699951171875,150.00999450683594,150.27999877929688,153.58999633789062,149.8699951171875,151.47999572753906,152.6999969482422,150.3699951171875,150.4199981689453,151.8300018310547,148.8800048828125,146.63999938964844,144.80999755859375,148.72000122070312,149.1300048828125,148.0,150.9199981689453,147.3000030517578,143.3699951171875,143.52000427246094,145.57000732421875,144.5,149.97000122070312,146.66000366210938,141.8000030517578,137.64999389648438,135.1999969482422,133.25,136.80999755859375,134.55999755859375,132.4199981689453,131.41000366210938,131.02999877929688,130.47999572753906,129.9499969482422,130.89999389648438,128.66000366210938,127.7699966430664,130.2899932861328,133.41000366210938,131.25999450683594,133.50999450683594,134.25999450683594,134.9199981689453,137.2899932861328,138.61000061035156,136.25,138.02000427246094,143.32000732421875,143.16000366210938,142.42999267578125,144.25,147.22999572753906,145.5500030517578,144.33999633789062,146.61000061035156,151.17999267578125,157.3800048828125,153.10000610351562,155.22999572753906,154.5800018310547,154.3300018310547,151.33999633789062,154.25999450683594,153.77000427246094,155.5,156.3300018310547,153.0,151.3000030517578,149.9499969482422,150.33999633789062,147.19000244140625,149.1699981689453,149.0800018310547,147.22999572753906,146.7100067138672,151.11000061035156,156.3000030517578,154.02999877929688,153.47000122070312,154.5399932861328,150.94000244140625,153.13999938964844,153.39999389648438,153.25,156.4600067138672,156.74000549316406,157.82000732421875,159.39999389648438,162.13999938964844,161.5500030517578,160.33999633789062,160.77000427246094,158.49000549316406,161.0500030517578,162.47000122070312,165.0,166.2899932861328,166.83999633789062,165.0500030517578,164.9600067138672,162.02999877929688,162.36000061035156,162.05999755859375,165.8000030517578,166.32000732421875,165.38999938964844,167.41000366210938,168.16000366210938,167.8699951171875,166.4499969482422,165.60000610351562,166.30999755859375,165.27999877929688,168.55999755859375,169.85000610351562,170.4499969482422],\"low\":[153.27000427246094,156.32000732421875,159.25999450683594,154.9499969482422,154.17999267578125,151.49000549316406,152.92999267578125,145.80999755859375,138.8000030517578,143.11000061035156,144.17999267578125,146.67999267578125,139.89999389648438,136.60000610351562,132.61000061035156,137.64999389648438,137.3300018310547,138.33999633789062,137.13999938964844,145.25999450683594,146.83999633789062,147.67999267578125,146.86000061035156,144.4600067138672,144.89999389648438,144.10000610351562,147.4600067138672,142.52999877929688,137.05999755859375,131.44000244140625,131.47999572753906,132.16000366210938,129.0399932861328,129.80999755859375,133.32000732421875,133.91000366210938,135.6300048828125,139.77000427246094,140.97000122070312,137.32000732421875,136.6699981689453,133.77000427246094,135.66000366210938,136.92999267578125,141.0800018310547,143.27999877929688,145.0,143.77999877929688,145.0500030517578,142.1199951171875,143.25,148.1999969482422,146.6999969482422,146.91000366210938,150.3699951171875,151.94000244140625,153.41000366210938,152.27999877929688,150.8000030517578,152.16000366210938,154.41000366210938,159.5,160.88999938964844,159.6300048828125,160.75,164.42999267578125,163.0,164.1999969482422,163.25,166.89999389648438,168.19000244140625,169.39999389648438,171.35000610351562,171.66000366210938,172.57000732421875,173.1199951171875,171.30999755859375,167.13999938964844,166.64999389648438,166.25,168.35000610351562,163.55999755859375,159.82000732421875,157.72000122070312,157.13999938964844,154.6699981689453,154.97000122070312,153.69000244140625,153.61000061035156,152.67999267578125,154.75,159.3000030517578,153.3699951171875,153.61000061035156,151.3800048828125,148.3699951171875,149.10000610351562,153.0800018310547,153.60000610351562,150.91000366210938,148.55999755859375,149.63999938964844,149.9499969482422,144.83999633789062,140.67999267578125,138.0,137.69000244140625,144.25999450683594,143.00999450683594,145.22000122070312,139.4499969482422,138.57000732421875,138.22000122070312,138.16000366210938,134.3699951171875,138.19000244140625,140.27000427246094,140.61000061035156,141.5,142.64999389648438,142.64999389648438,146.0,149.36000061035156,148.0399932861328,144.1300048828125,147.82000732421875,151.9199981689453,149.1300048828125,145.0,138.75,134.3800048828125,135.6699981689453,137.49000549316406,134.58999633789062,139.5,144.3699951171875,147.42999267578125,148.55999755859375,147.2899932861328,146.14999389648438,149.97000122070312,147.72000122070312,146.92999267578125,149.33999633789062,147.1199951171875,143.3800048828125,140.35000610351562,140.5500030517578,146.61000061035156,145.64999389648438,145.77000427246094,141.9199981689453,140.0,141.10000610351562,140.89999389648438,141.05999755859375,144.24000549316406,141.16000366210938,136.02999877929688,133.72999572753906,131.32000732421875,129.88999938964844,132.75,130.3000030517578,129.63999938964844,128.72000122070312,125.87000274658203,127.7300033569336,127.43000030517578,124.16999816894531,125.08000183105469,124.76000213623047,124.88999938964844,129.88999938964844,128.1199951171875,130.4600067138672,131.44000244140625,131.66000366210938,134.1300048828125,135.02999877929688,133.77000427246094,134.22000122070312,137.89999389648438,140.3000030517578,138.80999755859375,141.89999389648438,143.0800018310547,142.85000610351562,142.27999877929688,141.32000732421875,148.1699981689453,147.8300018310547,150.77999877929688,150.63999938964844,151.1699981689453,150.4199981689453,149.22000122070312,150.9199981689453,150.86000061035156,152.8800048828125,153.35000610351562,150.85000610351562,148.41000366210938,147.16000366210938,147.24000549316406,145.72000122070312,147.4499969482422,146.8300018310547,145.00999450683594,143.89999389648438,147.3300018310547,153.4600067138672,151.1300048828125,151.8300018310547,150.22999572753906,147.61000061035156,147.6999969482422,150.10000610351562,149.9199981689453,151.63999938964844,154.27999877929688,154.14999389648438,156.5399932861328,157.80999755859375,157.67999267578125,157.85000610351562,157.8699951171875,155.97999572753906,159.35000610351562,161.27000427246094,161.91000366210938,164.22000122070312,165.11000061035156,161.8000030517578,162.0,160.0800018310547,160.50999450683594,159.77999877929688,161.4199981689453,163.82000732421875,164.02999877929688,165.64999389648438,165.5399932861328,165.55999755859375,164.49000549316406,163.88999938964844,163.72999572753906,162.8000030517578,165.19000244140625,167.8800048828125,168.63999938964844],\"name\":\"Candlestick Chart\",\"open\":[156.7100067138672,158.14999389648438,159.6699981689453,163.85000610351562,156.00999450683594,154.92999267578125,155.52000427246094,153.5,142.77000427246094,144.58999633789062,145.5500030517578,148.86000061035156,146.85000610351562,139.8800048828125,139.08999633789062,137.7899932861328,140.80999755859375,138.42999267578125,137.38999938964844,145.38999938964844,149.07000732421875,149.89999389648438,147.8300018310547,146.89999389648438,147.02999877929688,144.35000610351562,148.5800018310547,147.0800018310547,140.27999877929688,132.8699951171875,133.1300048828125,134.2899932861328,132.0800018310547,130.07000732421875,133.4199981689453,134.7899932861328,136.82000732421875,139.89999389648438,142.6999969482422,142.1300048828125,137.4600067138672,137.25,136.0399932861328,137.77000427246094,141.35000610351562,143.2899932861328,145.25999450683594,145.6699981689453,145.75999450683594,142.99000549316406,144.0800018310547,149.77999877929688,150.74000549316406,147.9199981689453,151.1199951171875,154.5,155.38999938964844,154.00999450683594,152.25999450683594,152.5800018310547,156.97999572753906,161.24000549316406,161.00999450683594,160.10000610351562,160.83999633789062,166.00999450683594,163.2100067138672,166.3699951171875,164.02000427246094,167.67999267578125,170.05999755859375,169.82000732421875,171.52000427246094,172.77999877929688,172.77000427246094,173.75,173.02999877929688,169.69000244140625,167.0800018310547,167.32000732421875,168.77999877929688,170.57000732421875,161.14999389648438,162.1300048828125,160.30999755859375,156.63999938964844,159.75,156.47000122070312,154.82000732421875,154.63999938964844,155.47000122070312,159.58999633789062,159.89999389648438,154.7899932861328,154.64999389648438,151.2100067138672,149.30999755859375,153.39999389648438,157.33999633789062,152.3800048828125,151.19000244140625,149.66000366210938,152.74000549316406,147.63999938964844,146.10000610351562,141.27999877929688,138.2100067138672,145.02999877929688,144.07000732421875,145.80999755859375,142.5399932861328,140.4199981689453,139.89999389648438,139.1300048828125,134.99000549316406,144.30999755859375,141.07000732421875,145.49000549316406,141.69000244140625,143.02000427246094,142.8699951171875,147.19000244140625,150.08999633789062,150.9600067138672,148.07000732421875,148.1999969482422,153.16000366210938,155.0800018310547,148.9499969482422,142.05999755859375,142.08999633789062,137.11000061035156,140.41000366210938,138.5,141.24000549316406,145.82000732421875,148.97000122070312,152.22000122070312,149.1300048828125,146.42999267578125,152.30999755859375,150.16000366210938,148.1300048828125,149.4499969482422,148.30999755859375,145.13999938964844,144.2899932861328,141.39999389648438,148.2100067138672,145.9600067138672,147.77000427246094,147.07000732421875,142.19000244140625,142.36000061035156,142.33999633789062,142.6999969482422,149.5,145.35000610351562,141.11000061035156,136.69000244140625,135.11000061035156,131.38999938964844,132.97999572753906,134.35000610351562,130.9199981689453,131.3800048828125,129.6699981689453,127.98999786376953,128.41000366210938,130.27999877929688,126.88999938964844,127.12999725341797,126.01000213623047,130.47000122070312,130.25999450683594,131.25,133.8800048828125,132.02999877929688,134.8300018310547,136.82000732421875,134.0800018310547,135.27999877929688,138.1199951171875,140.30999755859375,140.88999938964844,143.1699981689453,143.16000366210938,144.9600067138672,142.6999969482422,143.97000122070312,148.89999389648438,148.02999877929688,152.57000732421875,150.63999938964844,153.8800048828125,153.77999877929688,149.4600067138672,150.9499969482422,152.1199951171875,153.11000061035156,153.50999450683594,152.35000610351562,150.1999969482422,148.8699951171875,150.08999633789062,147.11000061035156,147.7100067138672,147.0500030517578,146.8300018310547,144.3800048828125,148.0399932861328,153.7899932861328,153.6999969482422,152.80999755859375,153.55999755859375,150.2100067138672,147.80999755859375,151.27999877929688,151.19000244140625,152.16000366210938,156.0800018310547,155.07000732421875,157.32000732421875,159.3000030517578,158.8300018310547,158.86000061035156,159.94000244140625,157.97000122070312,159.3699951171875,161.52999877929688,162.44000244140625,164.27000427246094,166.60000610351562,164.74000549316406,162.42999267578125,161.4199981689453,162.35000610351562,161.22000122070312,161.6300048828125,164.58999633789062,165.08999633789062,166.10000610351562,165.8000030517578,166.08999633789062,165.0500030517578,165.0,165.19000244140625,163.05999755859375,165.19000244140625,168.49000549316406,169.27999877929688],\"x\":[\"2022-05-02T00:00:00\",\"2022-05-03T00:00:00\",\"2022-05-04T00:00:00\",\"2022-05-05T00:00:00\",\"2022-05-06T00:00:00\",\"2022-05-09T00:00:00\",\"2022-05-10T00:00:00\",\"2022-05-11T00:00:00\",\"2022-05-12T00:00:00\",\"2022-05-13T00:00:00\",\"2022-05-16T00:00:00\",\"2022-05-17T00:00:00\",\"2022-05-18T00:00:00\",\"2022-05-19T00:00:00\",\"2022-05-20T00:00:00\",\"2022-05-23T00:00:00\",\"2022-05-24T00:00:00\",\"2022-05-25T00:00:00\",\"2022-05-26T00:00:00\",\"2022-05-27T00:00:00\",\"2022-05-31T00:00:00\",\"2022-06-01T00:00:00\",\"2022-06-02T00:00:00\",\"2022-06-03T00:00:00\",\"2022-06-06T00:00:00\",\"2022-06-07T00:00:00\",\"2022-06-08T00:00:00\",\"2022-06-09T00:00:00\",\"2022-06-10T00:00:00\",\"2022-06-13T00:00:00\",\"2022-06-14T00:00:00\",\"2022-06-15T00:00:00\",\"2022-06-16T00:00:00\",\"2022-06-17T00:00:00\",\"2022-06-21T00:00:00\",\"2022-06-22T00:00:00\",\"2022-06-23T00:00:00\",\"2022-06-24T00:00:00\",\"2022-06-27T00:00:00\",\"2022-06-28T00:00:00\",\"2022-06-29T00:00:00\",\"2022-06-30T00:00:00\",\"2022-07-01T00:00:00\",\"2022-07-05T00:00:00\",\"2022-07-06T00:00:00\",\"2022-07-07T00:00:00\",\"2022-07-08T00:00:00\",\"2022-07-11T00:00:00\",\"2022-07-12T00:00:00\",\"2022-07-13T00:00:00\",\"2022-07-14T00:00:00\",\"2022-07-15T00:00:00\",\"2022-07-18T00:00:00\",\"2022-07-19T00:00:00\",\"2022-07-20T00:00:00\",\"2022-07-21T00:00:00\",\"2022-07-22T00:00:00\",\"2022-07-25T00:00:00\",\"2022-07-26T00:00:00\",\"2022-07-27T00:00:00\",\"2022-07-28T00:00:00\",\"2022-07-29T00:00:00\",\"2022-08-01T00:00:00\",\"2022-08-02T00:00:00\",\"2022-08-03T00:00:00\",\"2022-08-04T00:00:00\",\"2022-08-05T00:00:00\",\"2022-08-08T00:00:00\",\"2022-08-09T00:00:00\",\"2022-08-10T00:00:00\",\"2022-08-11T00:00:00\",\"2022-08-12T00:00:00\",\"2022-08-15T00:00:00\",\"2022-08-16T00:00:00\",\"2022-08-17T00:00:00\",\"2022-08-18T00:00:00\",\"2022-08-19T00:00:00\",\"2022-08-22T00:00:00\",\"2022-08-23T00:00:00\",\"2022-08-24T00:00:00\",\"2022-08-25T00:00:00\",\"2022-08-26T00:00:00\",\"2022-08-29T00:00:00\",\"2022-08-30T00:00:00\",\"2022-08-31T00:00:00\",\"2022-09-01T00:00:00\",\"2022-09-02T00:00:00\",\"2022-09-06T00:00:00\",\"2022-09-07T00:00:00\",\"2022-09-08T00:00:00\",\"2022-09-09T00:00:00\",\"2022-09-12T00:00:00\",\"2022-09-13T00:00:00\",\"2022-09-14T00:00:00\",\"2022-09-15T00:00:00\",\"2022-09-16T00:00:00\",\"2022-09-19T00:00:00\",\"2022-09-20T00:00:00\",\"2022-09-21T00:00:00\",\"2022-09-22T00:00:00\",\"2022-09-23T00:00:00\",\"2022-09-26T00:00:00\",\"2022-09-27T00:00:00\",\"2022-09-28T00:00:00\",\"2022-09-29T00:00:00\",\"2022-09-30T00:00:00\",\"2022-10-03T00:00:00\",\"2022-10-04T00:00:00\",\"2022-10-05T00:00:00\",\"2022-10-06T00:00:00\",\"2022-10-07T00:00:00\",\"2022-10-10T00:00:00\",\"2022-10-11T00:00:00\",\"2022-10-12T00:00:00\",\"2022-10-13T00:00:00\",\"2022-10-14T00:00:00\",\"2022-10-17T00:00:00\",\"2022-10-18T00:00:00\",\"2022-10-19T00:00:00\",\"2022-10-20T00:00:00\",\"2022-10-21T00:00:00\",\"2022-10-24T00:00:00\",\"2022-10-25T00:00:00\",\"2022-10-26T00:00:00\",\"2022-10-27T00:00:00\",\"2022-10-28T00:00:00\",\"2022-10-31T00:00:00\",\"2022-11-01T00:00:00\",\"2022-11-02T00:00:00\",\"2022-11-03T00:00:00\",\"2022-11-04T00:00:00\",\"2022-11-07T00:00:00\",\"2022-11-08T00:00:00\",\"2022-11-09T00:00:00\",\"2022-11-10T00:00:00\",\"2022-11-11T00:00:00\",\"2022-11-14T00:00:00\",\"2022-11-15T00:00:00\",\"2022-11-16T00:00:00\",\"2022-11-17T00:00:00\",\"2022-11-18T00:00:00\",\"2022-11-21T00:00:00\",\"2022-11-22T00:00:00\",\"2022-11-23T00:00:00\",\"2022-11-25T00:00:00\",\"2022-11-28T00:00:00\",\"2022-11-29T00:00:00\",\"2022-11-30T00:00:00\",\"2022-12-01T00:00:00\",\"2022-12-02T00:00:00\",\"2022-12-05T00:00:00\",\"2022-12-06T00:00:00\",\"2022-12-07T00:00:00\",\"2022-12-08T00:00:00\",\"2022-12-09T00:00:00\",\"2022-12-12T00:00:00\",\"2022-12-13T00:00:00\",\"2022-12-14T00:00:00\",\"2022-12-15T00:00:00\",\"2022-12-16T00:00:00\",\"2022-12-19T00:00:00\",\"2022-12-20T00:00:00\",\"2022-12-21T00:00:00\",\"2022-12-22T00:00:00\",\"2022-12-23T00:00:00\",\"2022-12-27T00:00:00\",\"2022-12-28T00:00:00\",\"2022-12-29T00:00:00\",\"2022-12-30T00:00:00\",\"2023-01-03T00:00:00\",\"2023-01-04T00:00:00\",\"2023-01-05T00:00:00\",\"2023-01-06T00:00:00\",\"2023-01-09T00:00:00\",\"2023-01-10T00:00:00\",\"2023-01-11T00:00:00\",\"2023-01-12T00:00:00\",\"2023-01-13T00:00:00\",\"2023-01-17T00:00:00\",\"2023-01-18T00:00:00\",\"2023-01-19T00:00:00\",\"2023-01-20T00:00:00\",\"2023-01-23T00:00:00\",\"2023-01-24T00:00:00\",\"2023-01-25T00:00:00\",\"2023-01-26T00:00:00\",\"2023-01-27T00:00:00\",\"2023-01-30T00:00:00\",\"2023-01-31T00:00:00\",\"2023-02-01T00:00:00\",\"2023-02-02T00:00:00\",\"2023-02-03T00:00:00\",\"2023-02-06T00:00:00\",\"2023-02-07T00:00:00\",\"2023-02-08T00:00:00\",\"2023-02-09T00:00:00\",\"2023-02-10T00:00:00\",\"2023-02-13T00:00:00\",\"2023-02-14T00:00:00\",\"2023-02-15T00:00:00\",\"2023-02-16T00:00:00\",\"2023-02-17T00:00:00\",\"2023-02-21T00:00:00\",\"2023-02-22T00:00:00\",\"2023-02-23T00:00:00\",\"2023-02-24T00:00:00\",\"2023-02-27T00:00:00\",\"2023-02-28T00:00:00\",\"2023-03-01T00:00:00\",\"2023-03-02T00:00:00\",\"2023-03-03T00:00:00\",\"2023-03-06T00:00:00\",\"2023-03-07T00:00:00\",\"2023-03-08T00:00:00\",\"2023-03-09T00:00:00\",\"2023-03-10T00:00:00\",\"2023-03-13T00:00:00\",\"2023-03-14T00:00:00\",\"2023-03-15T00:00:00\",\"2023-03-16T00:00:00\",\"2023-03-17T00:00:00\",\"2023-03-20T00:00:00\",\"2023-03-21T00:00:00\",\"2023-03-22T00:00:00\",\"2023-03-23T00:00:00\",\"2023-03-24T00:00:00\",\"2023-03-27T00:00:00\",\"2023-03-28T00:00:00\",\"2023-03-29T00:00:00\",\"2023-03-30T00:00:00\",\"2023-03-31T00:00:00\",\"2023-04-03T00:00:00\",\"2023-04-04T00:00:00\",\"2023-04-05T00:00:00\",\"2023-04-06T00:00:00\",\"2023-04-10T00:00:00\",\"2023-04-11T00:00:00\",\"2023-04-12T00:00:00\",\"2023-04-13T00:00:00\",\"2023-04-14T00:00:00\",\"2023-04-17T00:00:00\",\"2023-04-18T00:00:00\",\"2023-04-19T00:00:00\",\"2023-04-20T00:00:00\",\"2023-04-21T00:00:00\",\"2023-04-24T00:00:00\",\"2023-04-25T00:00:00\",\"2023-04-26T00:00:00\",\"2023-04-27T00:00:00\",\"2023-04-28T00:00:00\",\"2023-05-01T00:00:00\"],\"type\":\"candlestick\",\"xaxis\":\"x\",\"yaxis\":\"y\"},{\"line\":{\"color\":\"dodgerblue\",\"width\":2},\"name\":\"12-period EMA\",\"x\":[\"2022-05-02T00:00:00\",\"2022-05-03T00:00:00\",\"2022-05-04T00:00:00\",\"2022-05-05T00:00:00\",\"2022-05-06T00:00:00\",\"2022-05-09T00:00:00\",\"2022-05-10T00:00:00\",\"2022-05-11T00:00:00\",\"2022-05-12T00:00:00\",\"2022-05-13T00:00:00\",\"2022-05-16T00:00:00\",\"2022-05-17T00:00:00\",\"2022-05-18T00:00:00\",\"2022-05-19T00:00:00\",\"2022-05-20T00:00:00\",\"2022-05-23T00:00:00\",\"2022-05-24T00:00:00\",\"2022-05-25T00:00:00\",\"2022-05-26T00:00:00\",\"2022-05-27T00:00:00\",\"2022-05-31T00:00:00\",\"2022-06-01T00:00:00\",\"2022-06-02T00:00:00\",\"2022-06-03T00:00:00\",\"2022-06-06T00:00:00\",\"2022-06-07T00:00:00\",\"2022-06-08T00:00:00\",\"2022-06-09T00:00:00\",\"2022-06-10T00:00:00\",\"2022-06-13T00:00:00\",\"2022-06-14T00:00:00\",\"2022-06-15T00:00:00\",\"2022-06-16T00:00:00\",\"2022-06-17T00:00:00\",\"2022-06-21T00:00:00\",\"2022-06-22T00:00:00\",\"2022-06-23T00:00:00\",\"2022-06-24T00:00:00\",\"2022-06-27T00:00:00\",\"2022-06-28T00:00:00\",\"2022-06-29T00:00:00\",\"2022-06-30T00:00:00\",\"2022-07-01T00:00:00\",\"2022-07-05T00:00:00\",\"2022-07-06T00:00:00\",\"2022-07-07T00:00:00\",\"2022-07-08T00:00:00\",\"2022-07-11T00:00:00\",\"2022-07-12T00:00:00\",\"2022-07-13T00:00:00\",\"2022-07-14T00:00:00\",\"2022-07-15T00:00:00\",\"2022-07-18T00:00:00\",\"2022-07-19T00:00:00\",\"2022-07-20T00:00:00\",\"2022-07-21T00:00:00\",\"2022-07-22T00:00:00\",\"2022-07-25T00:00:00\",\"2022-07-26T00:00:00\",\"2022-07-27T00:00:00\",\"2022-07-28T00:00:00\",\"2022-07-29T00:00:00\",\"2022-08-01T00:00:00\",\"2022-08-02T00:00:00\",\"2022-08-03T00:00:00\",\"2022-08-04T00:00:00\",\"2022-08-05T00:00:00\",\"2022-08-08T00:00:00\",\"2022-08-09T00:00:00\",\"2022-08-10T00:00:00\",\"2022-08-11T00:00:00\",\"2022-08-12T00:00:00\",\"2022-08-15T00:00:00\",\"2022-08-16T00:00:00\",\"2022-08-17T00:00:00\",\"2022-08-18T00:00:00\",\"2022-08-19T00:00:00\",\"2022-08-22T00:00:00\",\"2022-08-23T00:00:00\",\"2022-08-24T00:00:00\",\"2022-08-25T00:00:00\",\"2022-08-26T00:00:00\",\"2022-08-29T00:00:00\",\"2022-08-30T00:00:00\",\"2022-08-31T00:00:00\",\"2022-09-01T00:00:00\",\"2022-09-02T00:00:00\",\"2022-09-06T00:00:00\",\"2022-09-07T00:00:00\",\"2022-09-08T00:00:00\",\"2022-09-09T00:00:00\",\"2022-09-12T00:00:00\",\"2022-09-13T00:00:00\",\"2022-09-14T00:00:00\",\"2022-09-15T00:00:00\",\"2022-09-16T00:00:00\",\"2022-09-19T00:00:00\",\"2022-09-20T00:00:00\",\"2022-09-21T00:00:00\",\"2022-09-22T00:00:00\",\"2022-09-23T00:00:00\",\"2022-09-26T00:00:00\",\"2022-09-27T00:00:00\",\"2022-09-28T00:00:00\",\"2022-09-29T00:00:00\",\"2022-09-30T00:00:00\",\"2022-10-03T00:00:00\",\"2022-10-04T00:00:00\",\"2022-10-05T00:00:00\",\"2022-10-06T00:00:00\",\"2022-10-07T00:00:00\",\"2022-10-10T00:00:00\",\"2022-10-11T00:00:00\",\"2022-10-12T00:00:00\",\"2022-10-13T00:00:00\",\"2022-10-14T00:00:00\",\"2022-10-17T00:00:00\",\"2022-10-18T00:00:00\",\"2022-10-19T00:00:00\",\"2022-10-20T00:00:00\",\"2022-10-21T00:00:00\",\"2022-10-24T00:00:00\",\"2022-10-25T00:00:00\",\"2022-10-26T00:00:00\",\"2022-10-27T00:00:00\",\"2022-10-28T00:00:00\",\"2022-10-31T00:00:00\",\"2022-11-01T00:00:00\",\"2022-11-02T00:00:00\",\"2022-11-03T00:00:00\",\"2022-11-04T00:00:00\",\"2022-11-07T00:00:00\",\"2022-11-08T00:00:00\",\"2022-11-09T00:00:00\",\"2022-11-10T00:00:00\",\"2022-11-11T00:00:00\",\"2022-11-14T00:00:00\",\"2022-11-15T00:00:00\",\"2022-11-16T00:00:00\",\"2022-11-17T00:00:00\",\"2022-11-18T00:00:00\",\"2022-11-21T00:00:00\",\"2022-11-22T00:00:00\",\"2022-11-23T00:00:00\",\"2022-11-25T00:00:00\",\"2022-11-28T00:00:00\",\"2022-11-29T00:00:00\",\"2022-11-30T00:00:00\",\"2022-12-01T00:00:00\",\"2022-12-02T00:00:00\",\"2022-12-05T00:00:00\",\"2022-12-06T00:00:00\",\"2022-12-07T00:00:00\",\"2022-12-08T00:00:00\",\"2022-12-09T00:00:00\",\"2022-12-12T00:00:00\",\"2022-12-13T00:00:00\",\"2022-12-14T00:00:00\",\"2022-12-15T00:00:00\",\"2022-12-16T00:00:00\",\"2022-12-19T00:00:00\",\"2022-12-20T00:00:00\",\"2022-12-21T00:00:00\",\"2022-12-22T00:00:00\",\"2022-12-23T00:00:00\",\"2022-12-27T00:00:00\",\"2022-12-28T00:00:00\",\"2022-12-29T00:00:00\",\"2022-12-30T00:00:00\",\"2023-01-03T00:00:00\",\"2023-01-04T00:00:00\",\"2023-01-05T00:00:00\",\"2023-01-06T00:00:00\",\"2023-01-09T00:00:00\",\"2023-01-10T00:00:00\",\"2023-01-11T00:00:00\",\"2023-01-12T00:00:00\",\"2023-01-13T00:00:00\",\"2023-01-17T00:00:00\",\"2023-01-18T00:00:00\",\"2023-01-19T00:00:00\",\"2023-01-20T00:00:00\",\"2023-01-23T00:00:00\",\"2023-01-24T00:00:00\",\"2023-01-25T00:00:00\",\"2023-01-26T00:00:00\",\"2023-01-27T00:00:00\",\"2023-01-30T00:00:00\",\"2023-01-31T00:00:00\",\"2023-02-01T00:00:00\",\"2023-02-02T00:00:00\",\"2023-02-03T00:00:00\",\"2023-02-06T00:00:00\",\"2023-02-07T00:00:00\",\"2023-02-08T00:00:00\",\"2023-02-09T00:00:00\",\"2023-02-10T00:00:00\",\"2023-02-13T00:00:00\",\"2023-02-14T00:00:00\",\"2023-02-15T00:00:00\",\"2023-02-16T00:00:00\",\"2023-02-17T00:00:00\",\"2023-02-21T00:00:00\",\"2023-02-22T00:00:00\",\"2023-02-23T00:00:00\",\"2023-02-24T00:00:00\",\"2023-02-27T00:00:00\",\"2023-02-28T00:00:00\",\"2023-03-01T00:00:00\",\"2023-03-02T00:00:00\",\"2023-03-03T00:00:00\",\"2023-03-06T00:00:00\",\"2023-03-07T00:00:00\",\"2023-03-08T00:00:00\",\"2023-03-09T00:00:00\",\"2023-03-10T00:00:00\",\"2023-03-13T00:00:00\",\"2023-03-14T00:00:00\",\"2023-03-15T00:00:00\",\"2023-03-16T00:00:00\",\"2023-03-17T00:00:00\",\"2023-03-20T00:00:00\",\"2023-03-21T00:00:00\",\"2023-03-22T00:00:00\",\"2023-03-23T00:00:00\",\"2023-03-24T00:00:00\",\"2023-03-27T00:00:00\",\"2023-03-28T00:00:00\",\"2023-03-29T00:00:00\",\"2023-03-30T00:00:00\",\"2023-03-31T00:00:00\",\"2023-04-03T00:00:00\",\"2023-04-04T00:00:00\",\"2023-04-05T00:00:00\",\"2023-04-06T00:00:00\",\"2023-04-10T00:00:00\",\"2023-04-11T00:00:00\",\"2023-04-12T00:00:00\",\"2023-04-13T00:00:00\",\"2023-04-14T00:00:00\",\"2023-04-17T00:00:00\",\"2023-04-18T00:00:00\",\"2023-04-19T00:00:00\",\"2023-04-20T00:00:00\",\"2023-04-21T00:00:00\",\"2023-04-24T00:00:00\",\"2023-04-25T00:00:00\",\"2023-04-26T00:00:00\",\"2023-04-27T00:00:00\",\"2023-04-28T00:00:00\",\"2023-05-01T00:00:00\"],\"y\":[157.00889587402344,157.2413318340595,158.43810701088088,158.03625440358792,157.80955112695418,156.81831027599247,156.35476990300324,154.73585886323832,152.76261985317882,151.7897639367643,150.7261395533138,150.3927883434891,148.82124392661217,146.9600659434615,145.42197558872826,144.96587256095515,144.15879195662552,143.50038086684418,143.4425149364583,144.2909771818109,144.88639278289648,145.37029913285352,146.1626178021681,145.9402072884331,145.86840547227393,146.20123294694213,146.3679950731938,145.69437370451135,144.28056127235695,142.28024702688015,140.72243905955364,139.81318949570402,138.22143913233248,137.1042909883258,136.81906240178049,136.49808303738396,136.6736662284475,137.34139931244235,137.90640422966877,137.7382145615226,137.87002789370422,137.59716988015958,137.70473700646917,138.1985286877155,138.82462549867995,139.87968940558375,140.87810172885332,141.39058981549007,141.97584490923077,142.41439900522653,143.24185484111115,144.20235289064573,144.54033882664015,145.42818051707292,146.49184666799198,147.74563633325283,148.61357263429687,149.17339625170672,149.44034830447902,150.46104939540652,151.41048333382355,153.00407268045285,154.19935018574375,154.9810212959899,156.579681781703,157.88338796492656,158.9512526883213,159.78121743774423,160.49116225726797,161.7543909003806,162.70825827087492,164.06899619990497,165.38754869258787,166.47870847530874,167.63510252147518,168.55224476426505,168.92496084545385,168.63457615032996,168.33672322020107,168.13070024056077,168.33976543792642,167.5336462697418,166.50802783821905,165.26140563549424,163.94739506296628,162.94902544615778,161.7745321984316,160.5844317670623,159.7967277211681,158.90017210420956,158.58781605557516,159.25285954777632,158.34489257407998,157.80204852422153,156.8918475493413,155.86557163054238,155.576872753638,155.70371570364924,155.3233687602092,154.851247048903,154.09750201012946,153.51186055003743,153.16814272728527,152.58285689078585,150.9589059696373,148.9284239289359,147.86209235167775,147.5195675517802,147.27574295021424,146.920675412501,145.80130617836625,144.90475513019211,143.92530042716976,142.99838183681192,142.92718209208604,142.15995654937328,142.12879596019684,142.30792763639252,142.47636977135858,142.54681990719524,143.20145860386472,144.08969902824012,145.28449151923803,145.8369314319935,145.60660555513633,147.08944410855284,147.97609288151585,148.31380222486436,147.73769058074458,146.30706574530552,145.05506130221767,144.07862205214693,143.34150146825291,142.00656015537868,142.72033361554878,143.75901632703886,144.41977378739227,145.24923147845453,145.75906603991226,146.4869380914642,147.19038710653942,147.2817656338687,147.6924223895656,148.17661993284756,148.13163241237942,147.49601778418284,146.4896747724636,146.69192808270958,146.90607650417974,147.0104733130319,146.9175487453419,146.2674856571162,145.41481762257789,144.95600347060676,144.49250802606028,144.4582344242445,144.57977220212516,144.3354509340999,143.09798165727923,141.74520473164011,140.27181902397794,139.01435646304742,138.43422466194156,137.4487150009097,136.557986742807,135.52318445169607,134.03467216901328,133.32355561236218,132.77099603122355,131.55689292898904,130.72773494419565,129.82029866184044,129.7590825290693,129.78869811879784,129.90285235953567,130.42341338475134,130.85159890443504,131.42128371466018,132.08458738446004,132.53370866876185,132.92295067945713,133.65169754382552,134.76603364510598,135.92706133401995,136.80655002001208,137.8733176401304,139.07857946953342,139.64833611739968,140.32859557364708,141.07931663473263,142.54251221256223,144.34588961555747,145.44632009687797,146.82599859684746,147.57406039249472,148.04574331513373,148.501781960011,149.32458567439633,149.92080279344952,150.7529872607734,151.20791333048015,151.41438867221518,150.96294360380347,150.64710668969667,150.45524318304862,149.8790529570207,149.5776599127014,149.24417433568723,148.63891636998054,148.21908364569265,148.65153212778563,149.4482197744424,149.77926382506905,150.25476094693343,150.3063356224653,150.0284378343937,150.0963706630567,150.4800053822619,150.86615924547763,151.632904915945,152.15091954426114,152.95846944460317,153.93101241917142,154.53085694407656,155.2076470566465,155.98339366331626,156.33671752731328,156.5387600456473,157.18972069592633,157.98514837506866,159.04897076297877,160.1445134408198,160.98843520112635,161.4148289404663,161.91408658994985,161.93191923446477,161.7577782832791,161.50273640946932,162.12693043241154,162.60124986032778,163.0056723014372,163.53864598132424,164.16808581232243,164.54991782527043,164.6222388171459,164.7311254346703,164.58326064048427,164.45660431223067,165.0648195968274,165.77484622435875,166.36179239567136],\"type\":\"scatter\",\"xaxis\":\"x\",\"yaxis\":\"y\"},{\"line\":{\"color\":\"whitesmoke\",\"width\":2},\"name\":\"26-period EMA\",\"x\":[\"2022-05-02T00:00:00\",\"2022-05-03T00:00:00\",\"2022-05-04T00:00:00\",\"2022-05-05T00:00:00\",\"2022-05-06T00:00:00\",\"2022-05-09T00:00:00\",\"2022-05-10T00:00:00\",\"2022-05-11T00:00:00\",\"2022-05-12T00:00:00\",\"2022-05-13T00:00:00\",\"2022-05-16T00:00:00\",\"2022-05-17T00:00:00\",\"2022-05-18T00:00:00\",\"2022-05-19T00:00:00\",\"2022-05-20T00:00:00\",\"2022-05-23T00:00:00\",\"2022-05-24T00:00:00\",\"2022-05-25T00:00:00\",\"2022-05-26T00:00:00\",\"2022-05-27T00:00:00\",\"2022-05-31T00:00:00\",\"2022-06-01T00:00:00\",\"2022-06-02T00:00:00\",\"2022-06-03T00:00:00\",\"2022-06-06T00:00:00\",\"2022-06-07T00:00:00\",\"2022-06-08T00:00:00\",\"2022-06-09T00:00:00\",\"2022-06-10T00:00:00\",\"2022-06-13T00:00:00\",\"2022-06-14T00:00:00\",\"2022-06-15T00:00:00\",\"2022-06-16T00:00:00\",\"2022-06-17T00:00:00\",\"2022-06-21T00:00:00\",\"2022-06-22T00:00:00\",\"2022-06-23T00:00:00\",\"2022-06-24T00:00:00\",\"2022-06-27T00:00:00\",\"2022-06-28T00:00:00\",\"2022-06-29T00:00:00\",\"2022-06-30T00:00:00\",\"2022-07-01T00:00:00\",\"2022-07-05T00:00:00\",\"2022-07-06T00:00:00\",\"2022-07-07T00:00:00\",\"2022-07-08T00:00:00\",\"2022-07-11T00:00:00\",\"2022-07-12T00:00:00\",\"2022-07-13T00:00:00\",\"2022-07-14T00:00:00\",\"2022-07-15T00:00:00\",\"2022-07-18T00:00:00\",\"2022-07-19T00:00:00\",\"2022-07-20T00:00:00\",\"2022-07-21T00:00:00\",\"2022-07-22T00:00:00\",\"2022-07-25T00:00:00\",\"2022-07-26T00:00:00\",\"2022-07-27T00:00:00\",\"2022-07-28T00:00:00\",\"2022-07-29T00:00:00\",\"2022-08-01T00:00:00\",\"2022-08-02T00:00:00\",\"2022-08-03T00:00:00\",\"2022-08-04T00:00:00\",\"2022-08-05T00:00:00\",\"2022-08-08T00:00:00\",\"2022-08-09T00:00:00\",\"2022-08-10T00:00:00\",\"2022-08-11T00:00:00\",\"2022-08-12T00:00:00\",\"2022-08-15T00:00:00\",\"2022-08-16T00:00:00\",\"2022-08-17T00:00:00\",\"2022-08-18T00:00:00\",\"2022-08-19T00:00:00\",\"2022-08-22T00:00:00\",\"2022-08-23T00:00:00\",\"2022-08-24T00:00:00\",\"2022-08-25T00:00:00\",\"2022-08-26T00:00:00\",\"2022-08-29T00:00:00\",\"2022-08-30T00:00:00\",\"2022-08-31T00:00:00\",\"2022-09-01T00:00:00\",\"2022-09-02T00:00:00\",\"2022-09-06T00:00:00\",\"2022-09-07T00:00:00\",\"2022-09-08T00:00:00\",\"2022-09-09T00:00:00\",\"2022-09-12T00:00:00\",\"2022-09-13T00:00:00\",\"2022-09-14T00:00:00\",\"2022-09-15T00:00:00\",\"2022-09-16T00:00:00\",\"2022-09-19T00:00:00\",\"2022-09-20T00:00:00\",\"2022-09-21T00:00:00\",\"2022-09-22T00:00:00\",\"2022-09-23T00:00:00\",\"2022-09-26T00:00:00\",\"2022-09-27T00:00:00\",\"2022-09-28T00:00:00\",\"2022-09-29T00:00:00\",\"2022-09-30T00:00:00\",\"2022-10-03T00:00:00\",\"2022-10-04T00:00:00\",\"2022-10-05T00:00:00\",\"2022-10-06T00:00:00\",\"2022-10-07T00:00:00\",\"2022-10-10T00:00:00\",\"2022-10-11T00:00:00\",\"2022-10-12T00:00:00\",\"2022-10-13T00:00:00\",\"2022-10-14T00:00:00\",\"2022-10-17T00:00:00\",\"2022-10-18T00:00:00\",\"2022-10-19T00:00:00\",\"2022-10-20T00:00:00\",\"2022-10-21T00:00:00\",\"2022-10-24T00:00:00\",\"2022-10-25T00:00:00\",\"2022-10-26T00:00:00\",\"2022-10-27T00:00:00\",\"2022-10-28T00:00:00\",\"2022-10-31T00:00:00\",\"2022-11-01T00:00:00\",\"2022-11-02T00:00:00\",\"2022-11-03T00:00:00\",\"2022-11-04T00:00:00\",\"2022-11-07T00:00:00\",\"2022-11-08T00:00:00\",\"2022-11-09T00:00:00\",\"2022-11-10T00:00:00\",\"2022-11-11T00:00:00\",\"2022-11-14T00:00:00\",\"2022-11-15T00:00:00\",\"2022-11-16T00:00:00\",\"2022-11-17T00:00:00\",\"2022-11-18T00:00:00\",\"2022-11-21T00:00:00\",\"2022-11-22T00:00:00\",\"2022-11-23T00:00:00\",\"2022-11-25T00:00:00\",\"2022-11-28T00:00:00\",\"2022-11-29T00:00:00\",\"2022-11-30T00:00:00\",\"2022-12-01T00:00:00\",\"2022-12-02T00:00:00\",\"2022-12-05T00:00:00\",\"2022-12-06T00:00:00\",\"2022-12-07T00:00:00\",\"2022-12-08T00:00:00\",\"2022-12-09T00:00:00\",\"2022-12-12T00:00:00\",\"2022-12-13T00:00:00\",\"2022-12-14T00:00:00\",\"2022-12-15T00:00:00\",\"2022-12-16T00:00:00\",\"2022-12-19T00:00:00\",\"2022-12-20T00:00:00\",\"2022-12-21T00:00:00\",\"2022-12-22T00:00:00\",\"2022-12-23T00:00:00\",\"2022-12-27T00:00:00\",\"2022-12-28T00:00:00\",\"2022-12-29T00:00:00\",\"2022-12-30T00:00:00\",\"2023-01-03T00:00:00\",\"2023-01-04T00:00:00\",\"2023-01-05T00:00:00\",\"2023-01-06T00:00:00\",\"2023-01-09T00:00:00\",\"2023-01-10T00:00:00\",\"2023-01-11T00:00:00\",\"2023-01-12T00:00:00\",\"2023-01-13T00:00:00\",\"2023-01-17T00:00:00\",\"2023-01-18T00:00:00\",\"2023-01-19T00:00:00\",\"2023-01-20T00:00:00\",\"2023-01-23T00:00:00\",\"2023-01-24T00:00:00\",\"2023-01-25T00:00:00\",\"2023-01-26T00:00:00\",\"2023-01-27T00:00:00\",\"2023-01-30T00:00:00\",\"2023-01-31T00:00:00\",\"2023-02-01T00:00:00\",\"2023-02-02T00:00:00\",\"2023-02-03T00:00:00\",\"2023-02-06T00:00:00\",\"2023-02-07T00:00:00\",\"2023-02-08T00:00:00\",\"2023-02-09T00:00:00\",\"2023-02-10T00:00:00\",\"2023-02-13T00:00:00\",\"2023-02-14T00:00:00\",\"2023-02-15T00:00:00\",\"2023-02-16T00:00:00\",\"2023-02-17T00:00:00\",\"2023-02-21T00:00:00\",\"2023-02-22T00:00:00\",\"2023-02-23T00:00:00\",\"2023-02-24T00:00:00\",\"2023-02-27T00:00:00\",\"2023-02-28T00:00:00\",\"2023-03-01T00:00:00\",\"2023-03-02T00:00:00\",\"2023-03-03T00:00:00\",\"2023-03-06T00:00:00\",\"2023-03-07T00:00:00\",\"2023-03-08T00:00:00\",\"2023-03-09T00:00:00\",\"2023-03-10T00:00:00\",\"2023-03-13T00:00:00\",\"2023-03-14T00:00:00\",\"2023-03-15T00:00:00\",\"2023-03-16T00:00:00\",\"2023-03-17T00:00:00\",\"2023-03-20T00:00:00\",\"2023-03-21T00:00:00\",\"2023-03-22T00:00:00\",\"2023-03-23T00:00:00\",\"2023-03-24T00:00:00\",\"2023-03-27T00:00:00\",\"2023-03-28T00:00:00\",\"2023-03-29T00:00:00\",\"2023-03-30T00:00:00\",\"2023-03-31T00:00:00\",\"2023-04-03T00:00:00\",\"2023-04-04T00:00:00\",\"2023-04-05T00:00:00\",\"2023-04-06T00:00:00\",\"2023-04-10T00:00:00\",\"2023-04-11T00:00:00\",\"2023-04-12T00:00:00\",\"2023-04-13T00:00:00\",\"2023-04-14T00:00:00\",\"2023-04-17T00:00:00\",\"2023-04-18T00:00:00\",\"2023-04-19T00:00:00\",\"2023-04-20T00:00:00\",\"2023-04-21T00:00:00\",\"2023-04-24T00:00:00\",\"2023-04-25T00:00:00\",\"2023-04-26T00:00:00\",\"2023-04-27T00:00:00\",\"2023-04-28T00:00:00\",\"2023-05-01T00:00:00\"],\"y\":[157.00889587402344,157.12080948441115,157.7059621510028,157.56671051488976,157.4923381141919,157.0385712609705,156.7990695269403,155.98668275787293,154.94395109416766,154.3139588943393,153.61486604619088,153.2403838716177,152.27278133548225,151.12098916516007,150.07221060757007,149.50814359280213,148.783084706877,148.12353175622292,147.75321476089798,147.8424225216648,147.8660340821983,147.87831185815526,148.07401990446957,147.82534801990818,147.65113672090746,147.679332819923,147.65013681604557,147.2308271390613,146.43629126916844,145.31349329936023,144.33875270231562,143.63309079062788,142.58373681604724,141.72271751087996,141.24327956013192,140.7610141507298,140.52978153062367,140.56564447460815,140.5988509042234,140.3184301992231,140.1907687934068,139.88748597949993,139.7696245144386,139.85442143444834,140.03321673256212,140.45168518893195,140.89003217544337,141.13590196185442,141.43655721836927,141.6876601305792,142.13989730153455,142.6839858097976,142.95919141459848,143.50379277755067,144.1584755716615,144.93499438058936,145.5610853368449,146.05674021170535,146.41613609192913,147.13160048478682,147.83536118925574,148.8674688113045,149.74938789675184,150.45537489716605,151.56033338279263,152.55984735241216,153.4683407831218,154.27409506285872,155.02385533706536,156.03706223339384,156.9198375352605,158.00377955557977,159.0879134701549,160.07992634497847,161.110692525009,162.03556916016458,162.69774176252218,163.01920239693894,163.2917453382392,163.56625115411327,164.00501951480396,163.9379803540575,163.7105096955972,163.3175077567017,162.82882843502472,162.43098874011258,161.90386508054405,161.3212735482468,160.8874277645804,160.37496024208832,160.1153230232733,160.322380484874,159.80598742812407,159.4363888223371,158.87708166420103,158.23589443553047,157.92131180554037,157.8087221850345,157.4696657692015,157.08336294457314,156.55510674844734,156.09108643519428,155.7345388994131,155.26263118760764,154.28222709247524,153.05841565637175,152.23907143565958,151.74993141467323,151.3191740981494,150.84870223569968,150.0187817286571,149.27470340544062,148.47941423174478,147.6957783323447,147.3135416778076,146.61922126200358,146.27390211072378,146.0531057955197,145.85678695982728,145.64030612238057,145.7263554048373,145.96699732761266,146.40320865295445,146.58633030474658,146.41992163272255,147.07363530084262,147.50171128839597,147.69945146060968,147.46757183671903,146.79876126736136,146.15952242275935,145.6075730712037,145.13940752939865,144.3634797816336,144.53256184569662,144.89842920825498,145.13217073500172,145.4787691086532,145.70724222119222,146.06153793628908,146.43174673281976,146.53193938477236,146.78520569300392,147.08553908025536,147.1446992261479,146.9117687152556,146.4705108999039,146.5693116694712,146.6815028659745,146.74840308047408,146.72307423177574,146.42448641252383,146.0023128584567,145.73788417522033,145.45680261268956,145.3688712794724,145.3599348869536,145.18450889236155,144.52579716957666,143.76869601928396,142.90939984243596,142.10857854876883,141.60005419373852,140.89104365088633,140.20718718217194,139.43863789835075,138.43191321064015,137.76380219879874,137.16884783851447,136.25851287763925,135.51102051839428,134.7197893028752,134.32738963590876,134.00325587490104,133.74602956443383,133.71199026510075,133.67455537603368,133.73974017565328,133.88737109363151,133.97007514094932,134.05109044445538,134.31840265581806,134.80554928887958,135.36163553585493,135.82697644378928,136.41316630356647,137.10163691302452,137.52240437729412,138.0074131332729,138.54081086197144,139.43334990113095,140.5319510441606,141.34430191082578,142.31244475792607,143.0069599809356,143.5723703075069,144.12330543338314,144.84380177931888,145.46277919923912,146.1936845793736,146.7504491819287,147.18004576487903,147.27633835470567,147.39735059969854,147.5456945476086,147.48379174510924,147.51610333206008,147.50824409724893,147.34541102031153,147.2390845493336,147.51989301081235,147.98730847897846,148.25491571042568,148.5967734442599,148.74441958452883,148.7263144301193,148.85547641460698,149.1321075200354,149.41787774026716,149.89433169310038,150.27252934546334,150.800489682576,151.4286014675183,151.90277927222468,152.42331359841407,153.0030681466797,153.39395189724394,153.70921426755805,154.23223574940272,154.83429240576928,155.57989992360004,156.36435164547748,157.0506963297245,157.54768137988088,158.07452006745336,158.36751849055287,158.54770253212362,158.66268798185635,159.17359980235543,159.62074105506,160.03624140116958,160.5128162026165,161.0400153641125,161.45556932947338,161.71960154747245,161.98703860551558,162.11911013640042,162.24065712680306,162.69764575904796,163.21485664176893,163.68708921185203],\"type\":\"scatter\",\"xaxis\":\"x\",\"yaxis\":\"y\"},{\"line\":{\"color\":\"Lime\"},\"marker\":{\"size\":9,\"symbol\":\"triangle-up\"},\"mode\":\"markers\",\"name\":\"Buy Signal\",\"x\":[\"2022-05-02T00:00:00\",\"2022-05-03T00:00:00\",\"2022-05-04T00:00:00\",\"2022-05-05T00:00:00\",\"2022-05-06T00:00:00\",\"2022-05-09T00:00:00\",\"2022-05-10T00:00:00\",\"2022-05-11T00:00:00\",\"2022-05-12T00:00:00\",\"2022-05-13T00:00:00\",\"2022-05-16T00:00:00\",\"2022-05-17T00:00:00\",\"2022-05-18T00:00:00\",\"2022-05-19T00:00:00\",\"2022-05-20T00:00:00\",\"2022-05-23T00:00:00\",\"2022-05-24T00:00:00\",\"2022-05-25T00:00:00\",\"2022-05-26T00:00:00\",\"2022-05-27T00:00:00\",\"2022-05-31T00:00:00\",\"2022-06-01T00:00:00\",\"2022-06-02T00:00:00\",\"2022-06-03T00:00:00\",\"2022-06-06T00:00:00\",\"2022-06-07T00:00:00\",\"2022-06-08T00:00:00\",\"2022-06-09T00:00:00\",\"2022-06-10T00:00:00\",\"2022-06-13T00:00:00\",\"2022-06-14T00:00:00\",\"2022-06-15T00:00:00\",\"2022-06-16T00:00:00\",\"2022-06-17T00:00:00\",\"2022-06-21T00:00:00\",\"2022-06-22T00:00:00\",\"2022-06-23T00:00:00\",\"2022-06-24T00:00:00\",\"2022-06-27T00:00:00\",\"2022-06-28T00:00:00\",\"2022-06-29T00:00:00\",\"2022-06-30T00:00:00\",\"2022-07-01T00:00:00\",\"2022-07-05T00:00:00\",\"2022-07-06T00:00:00\",\"2022-07-07T00:00:00\",\"2022-07-08T00:00:00\",\"2022-07-11T00:00:00\",\"2022-07-12T00:00:00\",\"2022-07-13T00:00:00\",\"2022-07-14T00:00:00\",\"2022-07-15T00:00:00\",\"2022-07-18T00:00:00\",\"2022-07-19T00:00:00\",\"2022-07-20T00:00:00\",\"2022-07-21T00:00:00\",\"2022-07-22T00:00:00\",\"2022-07-25T00:00:00\",\"2022-07-26T00:00:00\",\"2022-07-27T00:00:00\",\"2022-07-28T00:00:00\",\"2022-07-29T00:00:00\",\"2022-08-01T00:00:00\",\"2022-08-02T00:00:00\",\"2022-08-03T00:00:00\",\"2022-08-04T00:00:00\",\"2022-08-05T00:00:00\",\"2022-08-08T00:00:00\",\"2022-08-09T00:00:00\",\"2022-08-10T00:00:00\",\"2022-08-11T00:00:00\",\"2022-08-12T00:00:00\",\"2022-08-15T00:00:00\",\"2022-08-16T00:00:00\",\"2022-08-17T00:00:00\",\"2022-08-18T00:00:00\",\"2022-08-19T00:00:00\",\"2022-08-22T00:00:00\",\"2022-08-23T00:00:00\",\"2022-08-24T00:00:00\",\"2022-08-25T00:00:00\",\"2022-08-26T00:00:00\",\"2022-08-29T00:00:00\",\"2022-08-30T00:00:00\",\"2022-08-31T00:00:00\",\"2022-09-01T00:00:00\",\"2022-09-02T00:00:00\",\"2022-09-06T00:00:00\",\"2022-09-07T00:00:00\",\"2022-09-08T00:00:00\",\"2022-09-09T00:00:00\",\"2022-09-12T00:00:00\",\"2022-09-13T00:00:00\",\"2022-09-14T00:00:00\",\"2022-09-15T00:00:00\",\"2022-09-16T00:00:00\",\"2022-09-19T00:00:00\",\"2022-09-20T00:00:00\",\"2022-09-21T00:00:00\",\"2022-09-22T00:00:00\",\"2022-09-23T00:00:00\",\"2022-09-26T00:00:00\",\"2022-09-27T00:00:00\",\"2022-09-28T00:00:00\",\"2022-09-29T00:00:00\",\"2022-09-30T00:00:00\",\"2022-10-03T00:00:00\",\"2022-10-04T00:00:00\",\"2022-10-05T00:00:00\",\"2022-10-06T00:00:00\",\"2022-10-07T00:00:00\",\"2022-10-10T00:00:00\",\"2022-10-11T00:00:00\",\"2022-10-12T00:00:00\",\"2022-10-13T00:00:00\",\"2022-10-14T00:00:00\",\"2022-10-17T00:00:00\",\"2022-10-18T00:00:00\",\"2022-10-19T00:00:00\",\"2022-10-20T00:00:00\",\"2022-10-21T00:00:00\",\"2022-10-24T00:00:00\",\"2022-10-25T00:00:00\",\"2022-10-26T00:00:00\",\"2022-10-27T00:00:00\",\"2022-10-28T00:00:00\",\"2022-10-31T00:00:00\",\"2022-11-01T00:00:00\",\"2022-11-02T00:00:00\",\"2022-11-03T00:00:00\",\"2022-11-04T00:00:00\",\"2022-11-07T00:00:00\",\"2022-11-08T00:00:00\",\"2022-11-09T00:00:00\",\"2022-11-10T00:00:00\",\"2022-11-11T00:00:00\",\"2022-11-14T00:00:00\",\"2022-11-15T00:00:00\",\"2022-11-16T00:00:00\",\"2022-11-17T00:00:00\",\"2022-11-18T00:00:00\",\"2022-11-21T00:00:00\",\"2022-11-22T00:00:00\",\"2022-11-23T00:00:00\",\"2022-11-25T00:00:00\",\"2022-11-28T00:00:00\",\"2022-11-29T00:00:00\",\"2022-11-30T00:00:00\",\"2022-12-01T00:00:00\",\"2022-12-02T00:00:00\",\"2022-12-05T00:00:00\",\"2022-12-06T00:00:00\",\"2022-12-07T00:00:00\",\"2022-12-08T00:00:00\",\"2022-12-09T00:00:00\",\"2022-12-12T00:00:00\",\"2022-12-13T00:00:00\",\"2022-12-14T00:00:00\",\"2022-12-15T00:00:00\",\"2022-12-16T00:00:00\",\"2022-12-19T00:00:00\",\"2022-12-20T00:00:00\",\"2022-12-21T00:00:00\",\"2022-12-22T00:00:00\",\"2022-12-23T00:00:00\",\"2022-12-27T00:00:00\",\"2022-12-28T00:00:00\",\"2022-12-29T00:00:00\",\"2022-12-30T00:00:00\",\"2023-01-03T00:00:00\",\"2023-01-04T00:00:00\",\"2023-01-05T00:00:00\",\"2023-01-06T00:00:00\",\"2023-01-09T00:00:00\",\"2023-01-10T00:00:00\",\"2023-01-11T00:00:00\",\"2023-01-12T00:00:00\",\"2023-01-13T00:00:00\",\"2023-01-17T00:00:00\",\"2023-01-18T00:00:00\",\"2023-01-19T00:00:00\",\"2023-01-20T00:00:00\",\"2023-01-23T00:00:00\",\"2023-01-24T00:00:00\",\"2023-01-25T00:00:00\",\"2023-01-26T00:00:00\",\"2023-01-27T00:00:00\",\"2023-01-30T00:00:00\",\"2023-01-31T00:00:00\",\"2023-02-01T00:00:00\",\"2023-02-02T00:00:00\",\"2023-02-03T00:00:00\",\"2023-02-06T00:00:00\",\"2023-02-07T00:00:00\",\"2023-02-08T00:00:00\",\"2023-02-09T00:00:00\",\"2023-02-10T00:00:00\",\"2023-02-13T00:00:00\",\"2023-02-14T00:00:00\",\"2023-02-15T00:00:00\",\"2023-02-16T00:00:00\",\"2023-02-17T00:00:00\",\"2023-02-21T00:00:00\",\"2023-02-22T00:00:00\",\"2023-02-23T00:00:00\",\"2023-02-24T00:00:00\",\"2023-02-27T00:00:00\",\"2023-02-28T00:00:00\",\"2023-03-01T00:00:00\",\"2023-03-02T00:00:00\",\"2023-03-03T00:00:00\",\"2023-03-06T00:00:00\",\"2023-03-07T00:00:00\",\"2023-03-08T00:00:00\",\"2023-03-09T00:00:00\",\"2023-03-10T00:00:00\",\"2023-03-13T00:00:00\",\"2023-03-14T00:00:00\",\"2023-03-15T00:00:00\",\"2023-03-16T00:00:00\",\"2023-03-17T00:00:00\",\"2023-03-20T00:00:00\",\"2023-03-21T00:00:00\",\"2023-03-22T00:00:00\",\"2023-03-23T00:00:00\",\"2023-03-24T00:00:00\",\"2023-03-27T00:00:00\",\"2023-03-28T00:00:00\",\"2023-03-29T00:00:00\",\"2023-03-30T00:00:00\",\"2023-03-31T00:00:00\",\"2023-04-03T00:00:00\",\"2023-04-04T00:00:00\",\"2023-04-05T00:00:00\",\"2023-04-06T00:00:00\",\"2023-04-10T00:00:00\",\"2023-04-11T00:00:00\",\"2023-04-12T00:00:00\",\"2023-04-13T00:00:00\",\"2023-04-14T00:00:00\",\"2023-04-17T00:00:00\",\"2023-04-18T00:00:00\",\"2023-04-19T00:00:00\",\"2023-04-20T00:00:00\",\"2023-04-21T00:00:00\",\"2023-04-24T00:00:00\",\"2023-04-25T00:00:00\",\"2023-04-26T00:00:00\",\"2023-04-27T00:00:00\",\"2023-04-28T00:00:00\",\"2023-05-01T00:00:00\"],\"y\":[null,158.5197296142578,null,null,null,null,null,null,null,null,null,null,null,null,null,null,null,null,null,148.95751953125,null,null,null,null,null,null,null,null,null,null,null,null,null,null,null,null,null,141.01393127441406,null,null,null,null,null,null,null,null,null,null,null,null,null,null,null,null,null,null,null,null,null,null,null,null,null,null,null,null,null,null,null,null,null,null,null,null,null,null,null,null,null,null,null,null,null,null,null,null,null,null,null,null,null,null,null,null,null,null,null,null,null,null,null,null,null,null,null,null,null,null,null,null,null,null,null,null,null,null,141.95741271972656,null,null,null,null,null,null,null,null,null,null,null,null,null,null,null,null,null,null,149.47177124023438,null,null,null,null,null,null,null,null,null,null,null,null,null,null,null,null,null,null,null,null,null,null,null,null,null,null,null,null,null,null,null,null,null,null,null,null,null,129.9515838623047,null,null,null,null,null,null,null,null,null,null,null,null,null,null,null,null,null,null,null,null,null,null,null,null,null,null,null,null,null,null,null,null,null,null,null,null,null,null,null,null,null,null,null,null,null,155.85000610351562,null,null,null,null,null,null,null,null,null,null,null,null,null,null,null,null,null,null,null,null,null,null,167.6300048828125,null,null,null,null,null,null,null,169.58999633789062],\"type\":\"scatter\",\"xaxis\":\"x\",\"yaxis\":\"y\"},{\"marker\":{\"color\":\"Yellow\",\"size\":9,\"symbol\":\"triangle-down\"},\"mode\":\"markers\",\"name\":\"Sell Signal\",\"x\":[\"2022-05-02T00:00:00\",\"2022-05-03T00:00:00\",\"2022-05-04T00:00:00\",\"2022-05-05T00:00:00\",\"2022-05-06T00:00:00\",\"2022-05-09T00:00:00\",\"2022-05-10T00:00:00\",\"2022-05-11T00:00:00\",\"2022-05-12T00:00:00\",\"2022-05-13T00:00:00\",\"2022-05-16T00:00:00\",\"2022-05-17T00:00:00\",\"2022-05-18T00:00:00\",\"2022-05-19T00:00:00\",\"2022-05-20T00:00:00\",\"2022-05-23T00:00:00\",\"2022-05-24T00:00:00\",\"2022-05-25T00:00:00\",\"2022-05-26T00:00:00\",\"2022-05-27T00:00:00\",\"2022-05-31T00:00:00\",\"2022-06-01T00:00:00\",\"2022-06-02T00:00:00\",\"2022-06-03T00:00:00\",\"2022-06-06T00:00:00\",\"2022-06-07T00:00:00\",\"2022-06-08T00:00:00\",\"2022-06-09T00:00:00\",\"2022-06-10T00:00:00\",\"2022-06-13T00:00:00\",\"2022-06-14T00:00:00\",\"2022-06-15T00:00:00\",\"2022-06-16T00:00:00\",\"2022-06-17T00:00:00\",\"2022-06-21T00:00:00\",\"2022-06-22T00:00:00\",\"2022-06-23T00:00:00\",\"2022-06-24T00:00:00\",\"2022-06-27T00:00:00\",\"2022-06-28T00:00:00\",\"2022-06-29T00:00:00\",\"2022-06-30T00:00:00\",\"2022-07-01T00:00:00\",\"2022-07-05T00:00:00\",\"2022-07-06T00:00:00\",\"2022-07-07T00:00:00\",\"2022-07-08T00:00:00\",\"2022-07-11T00:00:00\",\"2022-07-12T00:00:00\",\"2022-07-13T00:00:00\",\"2022-07-14T00:00:00\",\"2022-07-15T00:00:00\",\"2022-07-18T00:00:00\",\"2022-07-19T00:00:00\",\"2022-07-20T00:00:00\",\"2022-07-21T00:00:00\",\"2022-07-22T00:00:00\",\"2022-07-25T00:00:00\",\"2022-07-26T00:00:00\",\"2022-07-27T00:00:00\",\"2022-07-28T00:00:00\",\"2022-07-29T00:00:00\",\"2022-08-01T00:00:00\",\"2022-08-02T00:00:00\",\"2022-08-03T00:00:00\",\"2022-08-04T00:00:00\",\"2022-08-05T00:00:00\",\"2022-08-08T00:00:00\",\"2022-08-09T00:00:00\",\"2022-08-10T00:00:00\",\"2022-08-11T00:00:00\",\"2022-08-12T00:00:00\",\"2022-08-15T00:00:00\",\"2022-08-16T00:00:00\",\"2022-08-17T00:00:00\",\"2022-08-18T00:00:00\",\"2022-08-19T00:00:00\",\"2022-08-22T00:00:00\",\"2022-08-23T00:00:00\",\"2022-08-24T00:00:00\",\"2022-08-25T00:00:00\",\"2022-08-26T00:00:00\",\"2022-08-29T00:00:00\",\"2022-08-30T00:00:00\",\"2022-08-31T00:00:00\",\"2022-09-01T00:00:00\",\"2022-09-02T00:00:00\",\"2022-09-06T00:00:00\",\"2022-09-07T00:00:00\",\"2022-09-08T00:00:00\",\"2022-09-09T00:00:00\",\"2022-09-12T00:00:00\",\"2022-09-13T00:00:00\",\"2022-09-14T00:00:00\",\"2022-09-15T00:00:00\",\"2022-09-16T00:00:00\",\"2022-09-19T00:00:00\",\"2022-09-20T00:00:00\",\"2022-09-21T00:00:00\",\"2022-09-22T00:00:00\",\"2022-09-23T00:00:00\",\"2022-09-26T00:00:00\",\"2022-09-27T00:00:00\",\"2022-09-28T00:00:00\",\"2022-09-29T00:00:00\",\"2022-09-30T00:00:00\",\"2022-10-03T00:00:00\",\"2022-10-04T00:00:00\",\"2022-10-05T00:00:00\",\"2022-10-06T00:00:00\",\"2022-10-07T00:00:00\",\"2022-10-10T00:00:00\",\"2022-10-11T00:00:00\",\"2022-10-12T00:00:00\",\"2022-10-13T00:00:00\",\"2022-10-14T00:00:00\",\"2022-10-17T00:00:00\",\"2022-10-18T00:00:00\",\"2022-10-19T00:00:00\",\"2022-10-20T00:00:00\",\"2022-10-21T00:00:00\",\"2022-10-24T00:00:00\",\"2022-10-25T00:00:00\",\"2022-10-26T00:00:00\",\"2022-10-27T00:00:00\",\"2022-10-28T00:00:00\",\"2022-10-31T00:00:00\",\"2022-11-01T00:00:00\",\"2022-11-02T00:00:00\",\"2022-11-03T00:00:00\",\"2022-11-04T00:00:00\",\"2022-11-07T00:00:00\",\"2022-11-08T00:00:00\",\"2022-11-09T00:00:00\",\"2022-11-10T00:00:00\",\"2022-11-11T00:00:00\",\"2022-11-14T00:00:00\",\"2022-11-15T00:00:00\",\"2022-11-16T00:00:00\",\"2022-11-17T00:00:00\",\"2022-11-18T00:00:00\",\"2022-11-21T00:00:00\",\"2022-11-22T00:00:00\",\"2022-11-23T00:00:00\",\"2022-11-25T00:00:00\",\"2022-11-28T00:00:00\",\"2022-11-29T00:00:00\",\"2022-11-30T00:00:00\",\"2022-12-01T00:00:00\",\"2022-12-02T00:00:00\",\"2022-12-05T00:00:00\",\"2022-12-06T00:00:00\",\"2022-12-07T00:00:00\",\"2022-12-08T00:00:00\",\"2022-12-09T00:00:00\",\"2022-12-12T00:00:00\",\"2022-12-13T00:00:00\",\"2022-12-14T00:00:00\",\"2022-12-15T00:00:00\",\"2022-12-16T00:00:00\",\"2022-12-19T00:00:00\",\"2022-12-20T00:00:00\",\"2022-12-21T00:00:00\",\"2022-12-22T00:00:00\",\"2022-12-23T00:00:00\",\"2022-12-27T00:00:00\",\"2022-12-28T00:00:00\",\"2022-12-29T00:00:00\",\"2022-12-30T00:00:00\",\"2023-01-03T00:00:00\",\"2023-01-04T00:00:00\",\"2023-01-05T00:00:00\",\"2023-01-06T00:00:00\",\"2023-01-09T00:00:00\",\"2023-01-10T00:00:00\",\"2023-01-11T00:00:00\",\"2023-01-12T00:00:00\",\"2023-01-13T00:00:00\",\"2023-01-17T00:00:00\",\"2023-01-18T00:00:00\",\"2023-01-19T00:00:00\",\"2023-01-20T00:00:00\",\"2023-01-23T00:00:00\",\"2023-01-24T00:00:00\",\"2023-01-25T00:00:00\",\"2023-01-26T00:00:00\",\"2023-01-27T00:00:00\",\"2023-01-30T00:00:00\",\"2023-01-31T00:00:00\",\"2023-02-01T00:00:00\",\"2023-02-02T00:00:00\",\"2023-02-03T00:00:00\",\"2023-02-06T00:00:00\",\"2023-02-07T00:00:00\",\"2023-02-08T00:00:00\",\"2023-02-09T00:00:00\",\"2023-02-10T00:00:00\",\"2023-02-13T00:00:00\",\"2023-02-14T00:00:00\",\"2023-02-15T00:00:00\",\"2023-02-16T00:00:00\",\"2023-02-17T00:00:00\",\"2023-02-21T00:00:00\",\"2023-02-22T00:00:00\",\"2023-02-23T00:00:00\",\"2023-02-24T00:00:00\",\"2023-02-27T00:00:00\",\"2023-02-28T00:00:00\",\"2023-03-01T00:00:00\",\"2023-03-02T00:00:00\",\"2023-03-03T00:00:00\",\"2023-03-06T00:00:00\",\"2023-03-07T00:00:00\",\"2023-03-08T00:00:00\",\"2023-03-09T00:00:00\",\"2023-03-10T00:00:00\",\"2023-03-13T00:00:00\",\"2023-03-14T00:00:00\",\"2023-03-15T00:00:00\",\"2023-03-16T00:00:00\",\"2023-03-17T00:00:00\",\"2023-03-20T00:00:00\",\"2023-03-21T00:00:00\",\"2023-03-22T00:00:00\",\"2023-03-23T00:00:00\",\"2023-03-24T00:00:00\",\"2023-03-27T00:00:00\",\"2023-03-28T00:00:00\",\"2023-03-29T00:00:00\",\"2023-03-30T00:00:00\",\"2023-03-31T00:00:00\",\"2023-04-03T00:00:00\",\"2023-04-04T00:00:00\",\"2023-04-05T00:00:00\",\"2023-04-06T00:00:00\",\"2023-04-10T00:00:00\",\"2023-04-11T00:00:00\",\"2023-04-12T00:00:00\",\"2023-04-13T00:00:00\",\"2023-04-14T00:00:00\",\"2023-04-17T00:00:00\",\"2023-04-18T00:00:00\",\"2023-04-19T00:00:00\",\"2023-04-20T00:00:00\",\"2023-04-21T00:00:00\",\"2023-04-24T00:00:00\",\"2023-04-25T00:00:00\",\"2023-04-26T00:00:00\",\"2023-04-27T00:00:00\",\"2023-04-28T00:00:00\",\"2023-05-01T00:00:00\"],\"y\":[null,null,null,null,null,151.36648559570312,null,null,null,null,null,null,null,null,null,null,null,null,null,null,null,null,null,null,null,null,null,null,136.5045928955078,null,null,null,null,null,null,null,null,null,null,null,null,null,null,null,null,null,null,null,null,null,null,null,null,null,null,null,null,null,null,null,null,null,null,null,null,null,null,null,null,null,null,null,null,null,null,null,null,167.03746032714844,null,null,null,null,null,null,null,null,null,null,null,null,null,null,null,null,null,null,null,null,null,null,null,null,null,null,null,null,null,null,null,null,null,null,null,null,null,null,null,null,null,null,null,null,null,null,null,null,null,null,null,null,138.16903686523438,null,null,null,null,null,null,null,null,null,null,null,null,null,null,null,140.9547882080078,null,null,null,null,null,null,null,null,null,null,null,null,null,null,null,null,null,null,null,null,null,null,null,null,null,null,null,null,null,null,null,null,null,null,null,null,null,null,null,null,null,null,null,null,null,null,null,null,null,null,null,null,null,null,null,148.47999572753906,null,null,null,null,null,null,null,null,null,null,null,null,null,null,null,null,null,null,null,null,null,null,null,null,null,null,null,null,null,null,null,null,null,160.8000030517578,null,null,null,null,null,null,166.64999389648438,null,null,null,null,null,null,null],\"type\":\"scatter\",\"xaxis\":\"x\",\"yaxis\":\"y\"},{\"marker\":{\"color\":[\"green\",\"green\",\"green\",\"green\",\"green\",\"red\",\"red\",\"red\",\"red\",\"red\",\"red\",\"red\",\"red\",\"red\",\"red\",\"red\",\"red\",\"red\",\"red\",\"green\",\"green\",\"green\",\"green\",\"green\",\"green\",\"green\",\"green\",\"green\",\"red\",\"red\",\"red\",\"red\",\"red\",\"red\",\"red\",\"red\",\"red\",\"green\",\"green\",\"green\",\"green\",\"green\",\"green\",\"green\",\"green\",\"green\",\"green\",\"green\",\"green\",\"green\",\"green\",\"green\",\"green\",\"green\",\"green\",\"green\",\"green\",\"green\",\"green\",\"green\",\"green\",\"green\",\"green\",\"green\",\"green\",\"green\",\"green\",\"green\",\"green\",\"green\",\"green\",\"green\",\"green\",\"green\",\"green\",\"green\",\"green\",\"red\",\"red\",\"red\",\"red\",\"red\",\"red\",\"red\",\"red\",\"red\",\"red\",\"red\",\"red\",\"red\",\"red\",\"red\",\"red\",\"red\",\"red\",\"red\",\"red\",\"red\",\"red\",\"red\",\"red\",\"red\",\"red\",\"red\",\"red\",\"red\",\"red\",\"red\",\"red\",\"red\",\"red\",\"red\",\"red\",\"red\",\"red\",\"red\",\"green\",\"green\",\"green\",\"green\",\"green\",\"green\",\"green\",\"green\",\"green\",\"green\",\"green\",\"green\",\"green\",\"green\",\"red\",\"red\",\"red\",\"red\",\"red\",\"green\",\"green\",\"green\",\"green\",\"green\",\"green\",\"green\",\"green\",\"green\",\"green\",\"green\",\"red\",\"red\",\"red\",\"red\",\"red\",\"red\",\"red\",\"red\",\"red\",\"red\",\"red\",\"red\",\"red\",\"red\",\"red\",\"red\",\"red\",\"red\",\"red\",\"red\",\"red\",\"red\",\"red\",\"red\",\"red\",\"red\",\"red\",\"green\",\"green\",\"green\",\"green\",\"green\",\"green\",\"green\",\"green\",\"green\",\"green\",\"green\",\"green\",\"green\",\"green\",\"green\",\"green\",\"green\",\"green\",\"green\",\"green\",\"green\",\"green\",\"green\",\"green\",\"green\",\"green\",\"green\",\"green\",\"green\",\"red\",\"red\",\"red\",\"red\",\"red\",\"red\",\"red\",\"red\",\"red\",\"red\",\"red\",\"red\",\"red\",\"red\",\"red\",\"red\",\"red\",\"green\",\"green\",\"green\",\"green\",\"green\",\"green\",\"green\",\"green\",\"green\",\"green\",\"green\",\"green\",\"green\",\"green\",\"green\",\"green\",\"green\",\"red\",\"red\",\"red\",\"red\",\"red\",\"red\",\"green\",\"red\",\"red\",\"red\",\"red\",\"red\",\"red\",\"red\",\"green\"]},\"name\":\"Histogram\",\"showlegend\":true,\"x\":[\"2022-05-02T00:00:00\",\"2022-05-03T00:00:00\",\"2022-05-04T00:00:00\",\"2022-05-05T00:00:00\",\"2022-05-06T00:00:00\",\"2022-05-09T00:00:00\",\"2022-05-10T00:00:00\",\"2022-05-11T00:00:00\",\"2022-05-12T00:00:00\",\"2022-05-13T00:00:00\",\"2022-05-16T00:00:00\",\"2022-05-17T00:00:00\",\"2022-05-18T00:00:00\",\"2022-05-19T00:00:00\",\"2022-05-20T00:00:00\",\"2022-05-23T00:00:00\",\"2022-05-24T00:00:00\",\"2022-05-25T00:00:00\",\"2022-05-26T00:00:00\",\"2022-05-27T00:00:00\",\"2022-05-31T00:00:00\",\"2022-06-01T00:00:00\",\"2022-06-02T00:00:00\",\"2022-06-03T00:00:00\",\"2022-06-06T00:00:00\",\"2022-06-07T00:00:00\",\"2022-06-08T00:00:00\",\"2022-06-09T00:00:00\",\"2022-06-10T00:00:00\",\"2022-06-13T00:00:00\",\"2022-06-14T00:00:00\",\"2022-06-15T00:00:00\",\"2022-06-16T00:00:00\",\"2022-06-17T00:00:00\",\"2022-06-21T00:00:00\",\"2022-06-22T00:00:00\",\"2022-06-23T00:00:00\",\"2022-06-24T00:00:00\",\"2022-06-27T00:00:00\",\"2022-06-28T00:00:00\",\"2022-06-29T00:00:00\",\"2022-06-30T00:00:00\",\"2022-07-01T00:00:00\",\"2022-07-05T00:00:00\",\"2022-07-06T00:00:00\",\"2022-07-07T00:00:00\",\"2022-07-08T00:00:00\",\"2022-07-11T00:00:00\",\"2022-07-12T00:00:00\",\"2022-07-13T00:00:00\",\"2022-07-14T00:00:00\",\"2022-07-15T00:00:00\",\"2022-07-18T00:00:00\",\"2022-07-19T00:00:00\",\"2022-07-20T00:00:00\",\"2022-07-21T00:00:00\",\"2022-07-22T00:00:00\",\"2022-07-25T00:00:00\",\"2022-07-26T00:00:00\",\"2022-07-27T00:00:00\",\"2022-07-28T00:00:00\",\"2022-07-29T00:00:00\",\"2022-08-01T00:00:00\",\"2022-08-02T00:00:00\",\"2022-08-03T00:00:00\",\"2022-08-04T00:00:00\",\"2022-08-05T00:00:00\",\"2022-08-08T00:00:00\",\"2022-08-09T00:00:00\",\"2022-08-10T00:00:00\",\"2022-08-11T00:00:00\",\"2022-08-12T00:00:00\",\"2022-08-15T00:00:00\",\"2022-08-16T00:00:00\",\"2022-08-17T00:00:00\",\"2022-08-18T00:00:00\",\"2022-08-19T00:00:00\",\"2022-08-22T00:00:00\",\"2022-08-23T00:00:00\",\"2022-08-24T00:00:00\",\"2022-08-25T00:00:00\",\"2022-08-26T00:00:00\",\"2022-08-29T00:00:00\",\"2022-08-30T00:00:00\",\"2022-08-31T00:00:00\",\"2022-09-01T00:00:00\",\"2022-09-02T00:00:00\",\"2022-09-06T00:00:00\",\"2022-09-07T00:00:00\",\"2022-09-08T00:00:00\",\"2022-09-09T00:00:00\",\"2022-09-12T00:00:00\",\"2022-09-13T00:00:00\",\"2022-09-14T00:00:00\",\"2022-09-15T00:00:00\",\"2022-09-16T00:00:00\",\"2022-09-19T00:00:00\",\"2022-09-20T00:00:00\",\"2022-09-21T00:00:00\",\"2022-09-22T00:00:00\",\"2022-09-23T00:00:00\",\"2022-09-26T00:00:00\",\"2022-09-27T00:00:00\",\"2022-09-28T00:00:00\",\"2022-09-29T00:00:00\",\"2022-09-30T00:00:00\",\"2022-10-03T00:00:00\",\"2022-10-04T00:00:00\",\"2022-10-05T00:00:00\",\"2022-10-06T00:00:00\",\"2022-10-07T00:00:00\",\"2022-10-10T00:00:00\",\"2022-10-11T00:00:00\",\"2022-10-12T00:00:00\",\"2022-10-13T00:00:00\",\"2022-10-14T00:00:00\",\"2022-10-17T00:00:00\",\"2022-10-18T00:00:00\",\"2022-10-19T00:00:00\",\"2022-10-20T00:00:00\",\"2022-10-21T00:00:00\",\"2022-10-24T00:00:00\",\"2022-10-25T00:00:00\",\"2022-10-26T00:00:00\",\"2022-10-27T00:00:00\",\"2022-10-28T00:00:00\",\"2022-10-31T00:00:00\",\"2022-11-01T00:00:00\",\"2022-11-02T00:00:00\",\"2022-11-03T00:00:00\",\"2022-11-04T00:00:00\",\"2022-11-07T00:00:00\",\"2022-11-08T00:00:00\",\"2022-11-09T00:00:00\",\"2022-11-10T00:00:00\",\"2022-11-11T00:00:00\",\"2022-11-14T00:00:00\",\"2022-11-15T00:00:00\",\"2022-11-16T00:00:00\",\"2022-11-17T00:00:00\",\"2022-11-18T00:00:00\",\"2022-11-21T00:00:00\",\"2022-11-22T00:00:00\",\"2022-11-23T00:00:00\",\"2022-11-25T00:00:00\",\"2022-11-28T00:00:00\",\"2022-11-29T00:00:00\",\"2022-11-30T00:00:00\",\"2022-12-01T00:00:00\",\"2022-12-02T00:00:00\",\"2022-12-05T00:00:00\",\"2022-12-06T00:00:00\",\"2022-12-07T00:00:00\",\"2022-12-08T00:00:00\",\"2022-12-09T00:00:00\",\"2022-12-12T00:00:00\",\"2022-12-13T00:00:00\",\"2022-12-14T00:00:00\",\"2022-12-15T00:00:00\",\"2022-12-16T00:00:00\",\"2022-12-19T00:00:00\",\"2022-12-20T00:00:00\",\"2022-12-21T00:00:00\",\"2022-12-22T00:00:00\",\"2022-12-23T00:00:00\",\"2022-12-27T00:00:00\",\"2022-12-28T00:00:00\",\"2022-12-29T00:00:00\",\"2022-12-30T00:00:00\",\"2023-01-03T00:00:00\",\"2023-01-04T00:00:00\",\"2023-01-05T00:00:00\",\"2023-01-06T00:00:00\",\"2023-01-09T00:00:00\",\"2023-01-10T00:00:00\",\"2023-01-11T00:00:00\",\"2023-01-12T00:00:00\",\"2023-01-13T00:00:00\",\"2023-01-17T00:00:00\",\"2023-01-18T00:00:00\",\"2023-01-19T00:00:00\",\"2023-01-20T00:00:00\",\"2023-01-23T00:00:00\",\"2023-01-24T00:00:00\",\"2023-01-25T00:00:00\",\"2023-01-26T00:00:00\",\"2023-01-27T00:00:00\",\"2023-01-30T00:00:00\",\"2023-01-31T00:00:00\",\"2023-02-01T00:00:00\",\"2023-02-02T00:00:00\",\"2023-02-03T00:00:00\",\"2023-02-06T00:00:00\",\"2023-02-07T00:00:00\",\"2023-02-08T00:00:00\",\"2023-02-09T00:00:00\",\"2023-02-10T00:00:00\",\"2023-02-13T00:00:00\",\"2023-02-14T00:00:00\",\"2023-02-15T00:00:00\",\"2023-02-16T00:00:00\",\"2023-02-17T00:00:00\",\"2023-02-21T00:00:00\",\"2023-02-22T00:00:00\",\"2023-02-23T00:00:00\",\"2023-02-24T00:00:00\",\"2023-02-27T00:00:00\",\"2023-02-28T00:00:00\",\"2023-03-01T00:00:00\",\"2023-03-02T00:00:00\",\"2023-03-03T00:00:00\",\"2023-03-06T00:00:00\",\"2023-03-07T00:00:00\",\"2023-03-08T00:00:00\",\"2023-03-09T00:00:00\",\"2023-03-10T00:00:00\",\"2023-03-13T00:00:00\",\"2023-03-14T00:00:00\",\"2023-03-15T00:00:00\",\"2023-03-16T00:00:00\",\"2023-03-17T00:00:00\",\"2023-03-20T00:00:00\",\"2023-03-21T00:00:00\",\"2023-03-22T00:00:00\",\"2023-03-23T00:00:00\",\"2023-03-24T00:00:00\",\"2023-03-27T00:00:00\",\"2023-03-28T00:00:00\",\"2023-03-29T00:00:00\",\"2023-03-30T00:00:00\",\"2023-03-31T00:00:00\",\"2023-04-03T00:00:00\",\"2023-04-04T00:00:00\",\"2023-04-05T00:00:00\",\"2023-04-06T00:00:00\",\"2023-04-10T00:00:00\",\"2023-04-11T00:00:00\",\"2023-04-12T00:00:00\",\"2023-04-13T00:00:00\",\"2023-04-14T00:00:00\",\"2023-04-17T00:00:00\",\"2023-04-18T00:00:00\",\"2023-04-19T00:00:00\",\"2023-04-20T00:00:00\",\"2023-04-21T00:00:00\",\"2023-04-24T00:00:00\",\"2023-04-25T00:00:00\",\"2023-04-26T00:00:00\",\"2023-04-27T00:00:00\",\"2023-04-28T00:00:00\",\"2023-05-01T00:00:00\"],\"y\":[0.0,0.09641787971868325,0.5664323119587242,0.2430650726230424,0.07258735734972321,-0.3719093123124668,-0.4767583610171746,-1.0266261053717918,-1.5657067613808198,-1.526856382373577,-1.513110334140535,-1.1775834955136473,-1.4252203010040967,-1.7076848910660662,-1.7575973505674485,-1.3197066908580926,-1.1213827274100665,-0.8961926932298647,-0.4669933026326367,0.23380894556250453,0.6444903888916689,0.8928951703133983,1.191604634650949,0.97429280438186,0.8613618297787293,0.9327945643451128,0.9030021555793697,0.518952371104954,-0.0802593529252742,-0.7662205028750968,-1.079430298525594,-1.0264143605499725,-1.255048599472702,-1.2089419506496828,-0.8117860691575696,-0.5204000193215785,-0.09086736652151961,0.4328022187910756,0.7716805651217848,0.7071292815807522,0.7732832156629379,0.6429664128201313,0.6947160033528479,0.8829686116715463,1.064216099617763,1.36064924012139,1.536571661503638,1.4425519693834716,1.3817214452874498,1.2553381032586315,1.3044454145503162,1.376683964657469,1.1515714366808156,1.1958494113291103,1.2838662145098652,1.4089096566742976,1.3206040011702278,1.1078181949757124,0.8122994940193777,0.8940289536713575,0.9117617500955744,1.1785947797408953,1.193562559667558,1.015397335599598,1.2072794685488786,1.2091773457223347,1.0948389107259544,0.895239504329572,0.6843392397173416,0.7474887892011868,0.6548646862630685,0.7453284759790906,0.7837976432694944,0.7063556409334177,0.6655868056554652,0.5262819306318081,0.18946032757040498,-0.3379080015761904,-0.7266430984042778,-0.9657375151349212,-0.95635254276797,-1.3563460401648824,-1.723595050581892,-2.0617722515289527,-2.309682801903946,-2.3281701790402507,-2.3804318137583276,-2.3903525702642865,-2.19536866599366,-2.06356540836811,-1.6930273905499948,-0.988033087959623,-1.1036856039248288,-1.0215448383970496,-1.0979509241129688,-1.1864316913930597,-0.9284383506458587,-0.5512046241030104,-0.4739961213680337,-0.44785200643671175,-0.5386726792675574,-0.5282350608852266,-0.41232427828496476,-0.42056192238313317,-0.8512869987194254,-1.3263660826538697,-1.2586827513598844,-0.8896540242168607,-0.5621770474071988,-0.3574181781365682,-0.5174935241829974,-0.5359729993125155,-0.5761108229112288,-0.575514811095192,-0.2115823210271648,-0.22758995834873197,0.0692548830037012,0.3753462995227608,0.5920858161450044,0.7032134315427045,1.0174422766043545,1.3320326225635188,1.6724910305757152,1.6334474332312325,1.2556241827184804,1.6677992544119342,1.7010976318572848,1.4728534423936632,0.9028971377316278,0.11286629732019238,-0.3999194409325266,-0.6595274715580828,-0.742786010917647,-1.0414396608214638,-0.39739861177150426,0.2203333897281734,0.5178794586678734,0.8005910208629154,0.8655619758253051,0.991310649824303,1.0596406946950792,0.8406612560574125,0.7984413628181954,0.7858444150789751,0.5453573989746292,0.11413862533629432,-0.3607572568250142,-0.20584377291706069,-0.08310923836015494,-0.03649011520606382,-0.08326866735818605,-0.34779514906557774,-0.6226317036293967,-0.6536137378913296,-0.6688220959256307,-0.49213149161939507,-0.28932585697595414,-0.28657690432733396,-0.6922675666904872,-1.030354673629527,-1.315555363554957,-1.41775730465468,-1.1914918005841812,-1.1743927350110939,-1.1050116195195052,-1.0970117014474026,-1.2630394371356735,-1.044835985556289,-0.8019529651285202,-0.8845768851902442,-0.7729940085909348,-0.7113592603416521,-0.3041405809170783,0.03968701585533818,0.32885405364831044,0.7067635025576435,0.937907129046728,1.153925711721814,1.3356787708347517,1.3616768062550064,1.3359228107553816,1.4378859710088738,1.6520603513822545,1.8056014346567004,1.7757993701715855,1.805101704410176,1.8575143394841112,1.6052028184646128,1.440362814986583,1.3261489178988863,1.5174443652551721,1.777776500176616,1.6526848918655457,1.651376435787789,1.363938406740425,1.0161688022465065,0.7370178569980186,0.6714601803580957,0.5189599035928376,0.4961911926257869,0.3154821278219515,0.07388870928532487,-0.37907915916242896,-0.6527426546096757,-0.7943600873342298,-1.0469180086902412,-1.104498111968303,-1.1440995633370497,-1.2692195616850759,-1.2661806519960233,-0.8916325051054397,-0.4498882612918167,-0.30916115368990993,-0.14041741252779882,-0.18919110181189125,-0.35918698837914875,-0.33633291536309473,-0.1834634412690268,-0.06646383862805605,0.17906230320487304,0.2551034233264433,0.4277543892446465,0.6177484630964889,0.5947321466361917,0.6007903464133859,0.6374259238540128,0.4798928298294429,0.2933383822794817,0.3370220405710671,0.4243144506774761,0.5940234566054565,0.7240915300552278,0.7053348848918133,0.5077948592602985,0.3841710569370984,0.08720422268201489,-0.21369661605953372,-0.4669791516816284,-0.28295755939078715,-0.20462350734329116,-0.1725611298747758,-0.09292980114772442,0.00744869468358722,-0.021018606183442312,-0.17018386584563538,-0.2629874450914871,-0.4343390161298921,-0.5460338678289038,-0.31584577238166434,-0.09842402205702028,0.013031663337992327],\"type\":\"bar\",\"xaxis\":\"x2\",\"yaxis\":\"y2\"},{\"line\":{\"color\":\"darkorange\",\"width\":2},\"name\":\"MACD\",\"x\":[\"2022-05-02T00:00:00\",\"2022-05-03T00:00:00\",\"2022-05-04T00:00:00\",\"2022-05-05T00:00:00\",\"2022-05-06T00:00:00\",\"2022-05-09T00:00:00\",\"2022-05-10T00:00:00\",\"2022-05-11T00:00:00\",\"2022-05-12T00:00:00\",\"2022-05-13T00:00:00\",\"2022-05-16T00:00:00\",\"2022-05-17T00:00:00\",\"2022-05-18T00:00:00\",\"2022-05-19T00:00:00\",\"2022-05-20T00:00:00\",\"2022-05-23T00:00:00\",\"2022-05-24T00:00:00\",\"2022-05-25T00:00:00\",\"2022-05-26T00:00:00\",\"2022-05-27T00:00:00\",\"2022-05-31T00:00:00\",\"2022-06-01T00:00:00\",\"2022-06-02T00:00:00\",\"2022-06-03T00:00:00\",\"2022-06-06T00:00:00\",\"2022-06-07T00:00:00\",\"2022-06-08T00:00:00\",\"2022-06-09T00:00:00\",\"2022-06-10T00:00:00\",\"2022-06-13T00:00:00\",\"2022-06-14T00:00:00\",\"2022-06-15T00:00:00\",\"2022-06-16T00:00:00\",\"2022-06-17T00:00:00\",\"2022-06-21T00:00:00\",\"2022-06-22T00:00:00\",\"2022-06-23T00:00:00\",\"2022-06-24T00:00:00\",\"2022-06-27T00:00:00\",\"2022-06-28T00:00:00\",\"2022-06-29T00:00:00\",\"2022-06-30T00:00:00\",\"2022-07-01T00:00:00\",\"2022-07-05T00:00:00\",\"2022-07-06T00:00:00\",\"2022-07-07T00:00:00\",\"2022-07-08T00:00:00\",\"2022-07-11T00:00:00\",\"2022-07-12T00:00:00\",\"2022-07-13T00:00:00\",\"2022-07-14T00:00:00\",\"2022-07-15T00:00:00\",\"2022-07-18T00:00:00\",\"2022-07-19T00:00:00\",\"2022-07-20T00:00:00\",\"2022-07-21T00:00:00\",\"2022-07-22T00:00:00\",\"2022-07-25T00:00:00\",\"2022-07-26T00:00:00\",\"2022-07-27T00:00:00\",\"2022-07-28T00:00:00\",\"2022-07-29T00:00:00\",\"2022-08-01T00:00:00\",\"2022-08-02T00:00:00\",\"2022-08-03T00:00:00\",\"2022-08-04T00:00:00\",\"2022-08-05T00:00:00\",\"2022-08-08T00:00:00\",\"2022-08-09T00:00:00\",\"2022-08-10T00:00:00\",\"2022-08-11T00:00:00\",\"2022-08-12T00:00:00\",\"2022-08-15T00:00:00\",\"2022-08-16T00:00:00\",\"2022-08-17T00:00:00\",\"2022-08-18T00:00:00\",\"2022-08-19T00:00:00\",\"2022-08-22T00:00:00\",\"2022-08-23T00:00:00\",\"2022-08-24T00:00:00\",\"2022-08-25T00:00:00\",\"2022-08-26T00:00:00\",\"2022-08-29T00:00:00\",\"2022-08-30T00:00:00\",\"2022-08-31T00:00:00\",\"2022-09-01T00:00:00\",\"2022-09-02T00:00:00\",\"2022-09-06T00:00:00\",\"2022-09-07T00:00:00\",\"2022-09-08T00:00:00\",\"2022-09-09T00:00:00\",\"2022-09-12T00:00:00\",\"2022-09-13T00:00:00\",\"2022-09-14T00:00:00\",\"2022-09-15T00:00:00\",\"2022-09-16T00:00:00\",\"2022-09-19T00:00:00\",\"2022-09-20T00:00:00\",\"2022-09-21T00:00:00\",\"2022-09-22T00:00:00\",\"2022-09-23T00:00:00\",\"2022-09-26T00:00:00\",\"2022-09-27T00:00:00\",\"2022-09-28T00:00:00\",\"2022-09-29T00:00:00\",\"2022-09-30T00:00:00\",\"2022-10-03T00:00:00\",\"2022-10-04T00:00:00\",\"2022-10-05T00:00:00\",\"2022-10-06T00:00:00\",\"2022-10-07T00:00:00\",\"2022-10-10T00:00:00\",\"2022-10-11T00:00:00\",\"2022-10-12T00:00:00\",\"2022-10-13T00:00:00\",\"2022-10-14T00:00:00\",\"2022-10-17T00:00:00\",\"2022-10-18T00:00:00\",\"2022-10-19T00:00:00\",\"2022-10-20T00:00:00\",\"2022-10-21T00:00:00\",\"2022-10-24T00:00:00\",\"2022-10-25T00:00:00\",\"2022-10-26T00:00:00\",\"2022-10-27T00:00:00\",\"2022-10-28T00:00:00\",\"2022-10-31T00:00:00\",\"2022-11-01T00:00:00\",\"2022-11-02T00:00:00\",\"2022-11-03T00:00:00\",\"2022-11-04T00:00:00\",\"2022-11-07T00:00:00\",\"2022-11-08T00:00:00\",\"2022-11-09T00:00:00\",\"2022-11-10T00:00:00\",\"2022-11-11T00:00:00\",\"2022-11-14T00:00:00\",\"2022-11-15T00:00:00\",\"2022-11-16T00:00:00\",\"2022-11-17T00:00:00\",\"2022-11-18T00:00:00\",\"2022-11-21T00:00:00\",\"2022-11-22T00:00:00\",\"2022-11-23T00:00:00\",\"2022-11-25T00:00:00\",\"2022-11-28T00:00:00\",\"2022-11-29T00:00:00\",\"2022-11-30T00:00:00\",\"2022-12-01T00:00:00\",\"2022-12-02T00:00:00\",\"2022-12-05T00:00:00\",\"2022-12-06T00:00:00\",\"2022-12-07T00:00:00\",\"2022-12-08T00:00:00\",\"2022-12-09T00:00:00\",\"2022-12-12T00:00:00\",\"2022-12-13T00:00:00\",\"2022-12-14T00:00:00\",\"2022-12-15T00:00:00\",\"2022-12-16T00:00:00\",\"2022-12-19T00:00:00\",\"2022-12-20T00:00:00\",\"2022-12-21T00:00:00\",\"2022-12-22T00:00:00\",\"2022-12-23T00:00:00\",\"2022-12-27T00:00:00\",\"2022-12-28T00:00:00\",\"2022-12-29T00:00:00\",\"2022-12-30T00:00:00\",\"2023-01-03T00:00:00\",\"2023-01-04T00:00:00\",\"2023-01-05T00:00:00\",\"2023-01-06T00:00:00\",\"2023-01-09T00:00:00\",\"2023-01-10T00:00:00\",\"2023-01-11T00:00:00\",\"2023-01-12T00:00:00\",\"2023-01-13T00:00:00\",\"2023-01-17T00:00:00\",\"2023-01-18T00:00:00\",\"2023-01-19T00:00:00\",\"2023-01-20T00:00:00\",\"2023-01-23T00:00:00\",\"2023-01-24T00:00:00\",\"2023-01-25T00:00:00\",\"2023-01-26T00:00:00\",\"2023-01-27T00:00:00\",\"2023-01-30T00:00:00\",\"2023-01-31T00:00:00\",\"2023-02-01T00:00:00\",\"2023-02-02T00:00:00\",\"2023-02-03T00:00:00\",\"2023-02-06T00:00:00\",\"2023-02-07T00:00:00\",\"2023-02-08T00:00:00\",\"2023-02-09T00:00:00\",\"2023-02-10T00:00:00\",\"2023-02-13T00:00:00\",\"2023-02-14T00:00:00\",\"2023-02-15T00:00:00\",\"2023-02-16T00:00:00\",\"2023-02-17T00:00:00\",\"2023-02-21T00:00:00\",\"2023-02-22T00:00:00\",\"2023-02-23T00:00:00\",\"2023-02-24T00:00:00\",\"2023-02-27T00:00:00\",\"2023-02-28T00:00:00\",\"2023-03-01T00:00:00\",\"2023-03-02T00:00:00\",\"2023-03-03T00:00:00\",\"2023-03-06T00:00:00\",\"2023-03-07T00:00:00\",\"2023-03-08T00:00:00\",\"2023-03-09T00:00:00\",\"2023-03-10T00:00:00\",\"2023-03-13T00:00:00\",\"2023-03-14T00:00:00\",\"2023-03-15T00:00:00\",\"2023-03-16T00:00:00\",\"2023-03-17T00:00:00\",\"2023-03-20T00:00:00\",\"2023-03-21T00:00:00\",\"2023-03-22T00:00:00\",\"2023-03-23T00:00:00\",\"2023-03-24T00:00:00\",\"2023-03-27T00:00:00\",\"2023-03-28T00:00:00\",\"2023-03-29T00:00:00\",\"2023-03-30T00:00:00\",\"2023-03-31T00:00:00\",\"2023-04-03T00:00:00\",\"2023-04-04T00:00:00\",\"2023-04-05T00:00:00\",\"2023-04-06T00:00:00\",\"2023-04-10T00:00:00\",\"2023-04-11T00:00:00\",\"2023-04-12T00:00:00\",\"2023-04-13T00:00:00\",\"2023-04-14T00:00:00\",\"2023-04-17T00:00:00\",\"2023-04-18T00:00:00\",\"2023-04-19T00:00:00\",\"2023-04-20T00:00:00\",\"2023-04-21T00:00:00\",\"2023-04-24T00:00:00\",\"2023-04-25T00:00:00\",\"2023-04-26T00:00:00\",\"2023-04-27T00:00:00\",\"2023-04-28T00:00:00\",\"2023-05-01T00:00:00\"],\"y\":[0.0,0.12052234964835407,0.7321448598780762,0.4695438886981549,0.31721301276226654,-0.22026098497804014,-0.4442996239370416,-1.2508238946346069,-2.1813312409888397,-2.5241949575749913,-2.8887264928770833,-2.8475955281286076,-3.451537408870081,-4.160923221698567,-4.650235018841812,-4.54227103184698,-4.62429275025147,-4.623150889378735,-4.310699824439666,-3.551445339853899,-2.979641299301818,-2.5080127253017395,-1.9114021023014516,-1.8851407314750759,-1.7827312486335245,-1.478099872980863,-1.2821417428517634,-1.5364534345499408,-2.1557299968114876,-3.033246272480085,-3.6163136427619804,-3.819901294923852,-4.362297683714758,-4.618426522554159,-4.424217158351439,-4.262931113345843,-3.856115302176164,-3.2242451621658006,-2.6924466745546454,-2.5802156377004906,-2.320740899702571,-2.2903160993403446,-2.0648875079694164,-1.6558927467328317,-1.2085912338821743,-0.5719957833481999,-0.01193044659004272,0.2546878536356587,0.5392876908614994,0.7267388746473387,1.1019575395766026,1.5183670808481224,1.5811474120416733,1.9243877395222455,2.333371096330467,2.810641952663474,3.052487297451961,3.1166560400013736,3.024212212549884,3.3294489106197034,3.575122144567814,4.1366038691483595,4.449962288991912,4.525646398823852,5.019348398910353,5.3235406125143925,5.482911905199501,5.507122374885512,5.467306920202617,5.717328666986759,5.788420735614409,6.065216644325204,6.299635222432983,6.398782130330261,6.524409996466176,6.51667560410047,6.2272190829316685,5.615373753391026,5.04497788196187,4.564449086447496,4.334745923122455,3.5956659156843216,2.79751814262184,1.9438978787925407,1.1185666279415614,0.5180367060451943,-0.12933288211246463,-0.736841781184495,-1.0907000434122835,-1.474788137878761,-1.5275069676981445,-1.0695209370976784,-1.4610948540440916,-1.6343402981155748,-1.985234114859736,-2.370322804988092,-2.3444390519023557,-2.10500648138526,-2.146297008992292,-2.232115895670148,-2.457604738317883,-2.579225885156859,-2.5663961721278383,-2.6797742968217904,-3.323321122837939,-4.129991727435851,-4.376979083981837,-4.230363862893029,-4.043431147935166,-3.928026823198678,-4.217475550290857,-4.369948275248504,-4.5541138045750245,-4.697396495532786,-4.38635958572155,-4.459264712630301,-4.145106150526942,-3.7451781591271924,-3.380417188468698,-3.0934862151853224,-2.5248968009725843,-1.8772982993725407,-1.118717133716416,-0.7493988727530905,-0.8133160775862223,0.015808807710214978,0.4743815931198867,0.6143507642546808,0.27011874402555236,-0.491695522055835,-1.1044611205416857,-1.5289510190567626,-1.7979060611457385,-2.3569196262549212,-1.8122282301478378,-1.139412881216117,-0.7123969476094487,-0.2295376301986778,0.05182381872003816,0.42540015517511165,0.7586403737196576,0.7498262490963441,0.9072166965616759,1.0910808525921993,0.9869331862315107,0.5842490689272495,0.019163872559687434,0.1226164132383758,0.2245736382052428,0.2620702325578179,0.1944745135661492,-0.15700075540763692,-0.587495235878805,-0.7818807046135703,-0.9642945866292791,-0.9106368552278923,-0.78016268482844,-0.8490579582616533,-1.4278155122974283,-2.02349128764385,-2.6375808184580194,-3.0942220857214124,-3.165829531796959,-3.442328649976645,-3.6492004393649324,-3.9154534466546806,-4.39724104162687,-4.440246586436558,-4.39785180729092,-4.701619948650205,-4.783285574198629,-4.89949064103476,-4.568307106839455,-4.214557756103204,-3.8431772048981543,-3.28857688034941,-2.822956471598644,-2.3184564609931044,-1.8027837091714787,-1.4363664721874727,-1.1281397649982523,-0.6667051119925418,-0.03951564377359773,0.5654257981650233,0.9795735762228048,1.4601513365639391,1.9769425565089023,2.125931740105557,2.321182440374173,2.538505772761198,3.1091623114312767,3.813938571396875,4.102018186052192,4.513553838921382,4.5671004115591245,4.473373007626833,4.37847652662785,4.480783895077451,4.4580235942104025,4.559302681399799,4.457464148551452,4.234342907336156,3.686605249097795,3.2497560899981295,2.909548635440018,2.3952612119114463,2.0615565806413088,1.7359302384383,1.2935053496690045,0.9799990963590517,1.1316391169732753,1.4609112954639443,1.5243481146433737,1.6579875026735351,1.56191603793647,1.3021234042744254,1.240894248449706,1.3478978622265174,1.448281505210474,1.7385732228446216,1.8783901987978027,2.1579797620271677,2.5024109516531325,2.6280776718518837,2.7843334582324246,2.9803255166365545,2.9427656300693457,2.829545778089255,2.957484946523607,3.1508559692993856,3.4690708393787304,3.780161795342309,3.937738871401848,3.8671475605854084,3.839566522496483,3.5644007439119036,3.210075751155472,2.8400484276129703,2.953330630056115,2.980508805267789,2.9694309002676107,3.025829778707731,3.1280704482099395,3.0943484957970497,2.9026372696734484,2.7440868291547247,2.4641505040838467,2.215947185427609,2.3671738377794327,2.5599895825898216,2.6747031838193323],\"type\":\"scatter\",\"xaxis\":\"x2\",\"yaxis\":\"y2\"},{\"line\":{\"color\":\"cyan\",\"width\":2},\"name\":\"Signal\",\"x\":[\"2022-05-02T00:00:00\",\"2022-05-03T00:00:00\",\"2022-05-04T00:00:00\",\"2022-05-05T00:00:00\",\"2022-05-06T00:00:00\",\"2022-05-09T00:00:00\",\"2022-05-10T00:00:00\",\"2022-05-11T00:00:00\",\"2022-05-12T00:00:00\",\"2022-05-13T00:00:00\",\"2022-05-16T00:00:00\",\"2022-05-17T00:00:00\",\"2022-05-18T00:00:00\",\"2022-05-19T00:00:00\",\"2022-05-20T00:00:00\",\"2022-05-23T00:00:00\",\"2022-05-24T00:00:00\",\"2022-05-25T00:00:00\",\"2022-05-26T00:00:00\",\"2022-05-27T00:00:00\",\"2022-05-31T00:00:00\",\"2022-06-01T00:00:00\",\"2022-06-02T00:00:00\",\"2022-06-03T00:00:00\",\"2022-06-06T00:00:00\",\"2022-06-07T00:00:00\",\"2022-06-08T00:00:00\",\"2022-06-09T00:00:00\",\"2022-06-10T00:00:00\",\"2022-06-13T00:00:00\",\"2022-06-14T00:00:00\",\"2022-06-15T00:00:00\",\"2022-06-16T00:00:00\",\"2022-06-17T00:00:00\",\"2022-06-21T00:00:00\",\"2022-06-22T00:00:00\",\"2022-06-23T00:00:00\",\"2022-06-24T00:00:00\",\"2022-06-27T00:00:00\",\"2022-06-28T00:00:00\",\"2022-06-29T00:00:00\",\"2022-06-30T00:00:00\",\"2022-07-01T00:00:00\",\"2022-07-05T00:00:00\",\"2022-07-06T00:00:00\",\"2022-07-07T00:00:00\",\"2022-07-08T00:00:00\",\"2022-07-11T00:00:00\",\"2022-07-12T00:00:00\",\"2022-07-13T00:00:00\",\"2022-07-14T00:00:00\",\"2022-07-15T00:00:00\",\"2022-07-18T00:00:00\",\"2022-07-19T00:00:00\",\"2022-07-20T00:00:00\",\"2022-07-21T00:00:00\",\"2022-07-22T00:00:00\",\"2022-07-25T00:00:00\",\"2022-07-26T00:00:00\",\"2022-07-27T00:00:00\",\"2022-07-28T00:00:00\",\"2022-07-29T00:00:00\",\"2022-08-01T00:00:00\",\"2022-08-02T00:00:00\",\"2022-08-03T00:00:00\",\"2022-08-04T00:00:00\",\"2022-08-05T00:00:00\",\"2022-08-08T00:00:00\",\"2022-08-09T00:00:00\",\"2022-08-10T00:00:00\",\"2022-08-11T00:00:00\",\"2022-08-12T00:00:00\",\"2022-08-15T00:00:00\",\"2022-08-16T00:00:00\",\"2022-08-17T00:00:00\",\"2022-08-18T00:00:00\",\"2022-08-19T00:00:00\",\"2022-08-22T00:00:00\",\"2022-08-23T00:00:00\",\"2022-08-24T00:00:00\",\"2022-08-25T00:00:00\",\"2022-08-26T00:00:00\",\"2022-08-29T00:00:00\",\"2022-08-30T00:00:00\",\"2022-08-31T00:00:00\",\"2022-09-01T00:00:00\",\"2022-09-02T00:00:00\",\"2022-09-06T00:00:00\",\"2022-09-07T00:00:00\",\"2022-09-08T00:00:00\",\"2022-09-09T00:00:00\",\"2022-09-12T00:00:00\",\"2022-09-13T00:00:00\",\"2022-09-14T00:00:00\",\"2022-09-15T00:00:00\",\"2022-09-16T00:00:00\",\"2022-09-19T00:00:00\",\"2022-09-20T00:00:00\",\"2022-09-21T00:00:00\",\"2022-09-22T00:00:00\",\"2022-09-23T00:00:00\",\"2022-09-26T00:00:00\",\"2022-09-27T00:00:00\",\"2022-09-28T00:00:00\",\"2022-09-29T00:00:00\",\"2022-09-30T00:00:00\",\"2022-10-03T00:00:00\",\"2022-10-04T00:00:00\",\"2022-10-05T00:00:00\",\"2022-10-06T00:00:00\",\"2022-10-07T00:00:00\",\"2022-10-10T00:00:00\",\"2022-10-11T00:00:00\",\"2022-10-12T00:00:00\",\"2022-10-13T00:00:00\",\"2022-10-14T00:00:00\",\"2022-10-17T00:00:00\",\"2022-10-18T00:00:00\",\"2022-10-19T00:00:00\",\"2022-10-20T00:00:00\",\"2022-10-21T00:00:00\",\"2022-10-24T00:00:00\",\"2022-10-25T00:00:00\",\"2022-10-26T00:00:00\",\"2022-10-27T00:00:00\",\"2022-10-28T00:00:00\",\"2022-10-31T00:00:00\",\"2022-11-01T00:00:00\",\"2022-11-02T00:00:00\",\"2022-11-03T00:00:00\",\"2022-11-04T00:00:00\",\"2022-11-07T00:00:00\",\"2022-11-08T00:00:00\",\"2022-11-09T00:00:00\",\"2022-11-10T00:00:00\",\"2022-11-11T00:00:00\",\"2022-11-14T00:00:00\",\"2022-11-15T00:00:00\",\"2022-11-16T00:00:00\",\"2022-11-17T00:00:00\",\"2022-11-18T00:00:00\",\"2022-11-21T00:00:00\",\"2022-11-22T00:00:00\",\"2022-11-23T00:00:00\",\"2022-11-25T00:00:00\",\"2022-11-28T00:00:00\",\"2022-11-29T00:00:00\",\"2022-11-30T00:00:00\",\"2022-12-01T00:00:00\",\"2022-12-02T00:00:00\",\"2022-12-05T00:00:00\",\"2022-12-06T00:00:00\",\"2022-12-07T00:00:00\",\"2022-12-08T00:00:00\",\"2022-12-09T00:00:00\",\"2022-12-12T00:00:00\",\"2022-12-13T00:00:00\",\"2022-12-14T00:00:00\",\"2022-12-15T00:00:00\",\"2022-12-16T00:00:00\",\"2022-12-19T00:00:00\",\"2022-12-20T00:00:00\",\"2022-12-21T00:00:00\",\"2022-12-22T00:00:00\",\"2022-12-23T00:00:00\",\"2022-12-27T00:00:00\",\"2022-12-28T00:00:00\",\"2022-12-29T00:00:00\",\"2022-12-30T00:00:00\",\"2023-01-03T00:00:00\",\"2023-01-04T00:00:00\",\"2023-01-05T00:00:00\",\"2023-01-06T00:00:00\",\"2023-01-09T00:00:00\",\"2023-01-10T00:00:00\",\"2023-01-11T00:00:00\",\"2023-01-12T00:00:00\",\"2023-01-13T00:00:00\",\"2023-01-17T00:00:00\",\"2023-01-18T00:00:00\",\"2023-01-19T00:00:00\",\"2023-01-20T00:00:00\",\"2023-01-23T00:00:00\",\"2023-01-24T00:00:00\",\"2023-01-25T00:00:00\",\"2023-01-26T00:00:00\",\"2023-01-27T00:00:00\",\"2023-01-30T00:00:00\",\"2023-01-31T00:00:00\",\"2023-02-01T00:00:00\",\"2023-02-02T00:00:00\",\"2023-02-03T00:00:00\",\"2023-02-06T00:00:00\",\"2023-02-07T00:00:00\",\"2023-02-08T00:00:00\",\"2023-02-09T00:00:00\",\"2023-02-10T00:00:00\",\"2023-02-13T00:00:00\",\"2023-02-14T00:00:00\",\"2023-02-15T00:00:00\",\"2023-02-16T00:00:00\",\"2023-02-17T00:00:00\",\"2023-02-21T00:00:00\",\"2023-02-22T00:00:00\",\"2023-02-23T00:00:00\",\"2023-02-24T00:00:00\",\"2023-02-27T00:00:00\",\"2023-02-28T00:00:00\",\"2023-03-01T00:00:00\",\"2023-03-02T00:00:00\",\"2023-03-03T00:00:00\",\"2023-03-06T00:00:00\",\"2023-03-07T00:00:00\",\"2023-03-08T00:00:00\",\"2023-03-09T00:00:00\",\"2023-03-10T00:00:00\",\"2023-03-13T00:00:00\",\"2023-03-14T00:00:00\",\"2023-03-15T00:00:00\",\"2023-03-16T00:00:00\",\"2023-03-17T00:00:00\",\"2023-03-20T00:00:00\",\"2023-03-21T00:00:00\",\"2023-03-22T00:00:00\",\"2023-03-23T00:00:00\",\"2023-03-24T00:00:00\",\"2023-03-27T00:00:00\",\"2023-03-28T00:00:00\",\"2023-03-29T00:00:00\",\"2023-03-30T00:00:00\",\"2023-03-31T00:00:00\",\"2023-04-03T00:00:00\",\"2023-04-04T00:00:00\",\"2023-04-05T00:00:00\",\"2023-04-06T00:00:00\",\"2023-04-10T00:00:00\",\"2023-04-11T00:00:00\",\"2023-04-12T00:00:00\",\"2023-04-13T00:00:00\",\"2023-04-14T00:00:00\",\"2023-04-17T00:00:00\",\"2023-04-18T00:00:00\",\"2023-04-19T00:00:00\",\"2023-04-20T00:00:00\",\"2023-04-21T00:00:00\",\"2023-04-24T00:00:00\",\"2023-04-25T00:00:00\",\"2023-04-26T00:00:00\",\"2023-04-27T00:00:00\",\"2023-04-28T00:00:00\",\"2023-05-01T00:00:00\"],\"y\":[0.0,0.024104469929670816,0.16571254791935192,0.2264788160751125,0.24462565541254333,0.15164832733442665,0.032458737080133,-0.224197789262815,-0.6156244796080199,-0.9973385752014143,-1.3756161587365483,-1.6700120326149603,-2.0263171078659843,-2.453238330632501,-2.8926376682743635,-3.222564340988887,-3.502910022841404,-3.7269581961488703,-3.8437065218070297,-3.7852542854164035,-3.624131688193487,-3.4009078956151377,-3.1030067369524006,-2.859433535856936,-2.644093078412254,-2.4108944373259757,-2.185143898431133,-2.0554058056548947,-2.0754706438862134,-2.267025769604988,-2.5368833442363865,-2.7934869343738797,-3.1072490842420555,-3.4094845719044766,-3.6124310891938696,-3.7425310940242644,-3.7652479356546444,-3.657047380956876,-3.46412723967643,-3.2873449192812427,-3.094024115365509,-2.933282512160476,-2.7596035113222643,-2.538861358404378,-2.2728073334999372,-1.93264502346959,-1.5485021080936807,-1.187864115747813,-0.8424337544259505,-0.5285992286112927,-0.20248787497371368,0.14168311619065355,0.42957597536085756,0.7285383281931352,1.0495048818206016,1.4017322959891763,1.7318832962817332,2.008837845025661,2.211912718530506,2.435419956948346,2.6633603944722397,2.958009089407464,3.2563997293243543,3.5102490632242542,3.812068930361474,4.114363266792058,4.388072994473546,4.61188287055594,4.782967680485275,4.969839877785573,5.13355604935134,5.319888168346114,5.515837579163488,5.692426489396843,5.8588231908107105,5.990393673468662,6.0377587553612635,5.953281754967216,5.771620980366148,5.530186601582417,5.291098465890425,4.952011955849204,4.521113193203732,4.005670130321493,3.4282494298455073,2.846206885085445,2.251098931645863,1.6535107890797913,1.1046686225813764,0.588777270489349,0.1655204228518503,-0.08148784913805543,-0.35740925011926267,-0.6127954597185251,-0.8872831907467673,-1.1838911135950323,-1.416000701256497,-1.5538018572822496,-1.6723008876242582,-1.7842638892334364,-1.9189320590503258,-2.0509908242716324,-2.1540718938428736,-2.259212374438657,-2.4720341241185135,-2.803625644781981,-3.1182963326219526,-3.340709838676168,-3.4812541005279676,-3.57060864506211,-3.6999820261078593,-3.8339752759359884,-3.9780029816637956,-4.121881684437594,-4.174777264694385,-4.231674754281569,-4.214361033530643,-4.120524458649953,-3.9725030046137024,-3.796699646728027,-3.5423390775769388,-3.2093309219360595,-2.791208164292131,-2.382846305984323,-2.0689402603047027,-1.6519904467017192,-1.226716038737398,-0.8585026781389824,-0.6327783937060755,-0.6045618193760274,-0.704541679609159,-0.8694235474986798,-1.0551200502280915,-1.3154799654334575,-1.4148296183763336,-1.3597462709442905,-1.2302764062773222,-1.0301286510615932,-0.813738157105267,-0.5659104946491913,-0.3010003209754215,-0.09083500696106842,0.10877533374348046,0.30523643751322427,0.44157578725688157,0.47011044359095516,0.37992112938470163,0.3284601861554365,0.3076828765653977,0.29856034776388174,0.27774318092433525,0.19079439365794082,0.03513646775059165,-0.12826696672224075,-0.29547249070364845,-0.4185053636084972,-0.49083682785248584,-0.5624810539343194,-0.7355479456069411,-0.993136614014323,-1.3220254549030623,-1.6764647810667324,-1.9743377312127777,-2.267935914965551,-2.544188819845427,-2.818441745207278,-3.1342016044911967,-3.395410600880269,-3.5958988421623994,-3.8170430634599604,-4.0102915656076945,-4.1881313806931075,-4.264166525922377,-4.254244771958542,-4.172031258546465,-3.9953403829070537,-3.760863600645372,-3.4723821727149184,-3.1384624800062304,-2.798043278442479,-2.464062575753634,-2.1045910830014156,-1.6915759951558522,-1.2401756364916772,-0.7962257939487808,-0.34495036784623684,0.119428217024791,0.5207289216409442,0.88081962538759,1.2123568548623116,1.5917179461761046,2.036162071220259,2.449333294186646,2.862177403133593,3.2031620048186995,3.4572042053803265,3.6414586696298312,3.8093237147193553,3.939063690617565,4.0631114887740125,4.1419820207295,4.160454198050831,4.065684408260224,3.902498744607805,3.7039087227742478,3.4421792206016875,3.166054692609612,2.8800298017753496,2.5627249113540804,2.246179748355075,2.023271622078715,1.910799556755761,1.8335092683332836,1.798404915201334,1.7511071397483613,1.6613103926535742,1.5772271638128008,1.5313613034955442,1.51474534383853,1.5595109196397485,1.6232867754713594,1.7302253727825212,1.8846624885566436,2.033345525215692,2.1835431118190387,2.342899592782542,2.4628728002399027,2.536207395809773,2.62046290595254,2.7265415186219095,2.875047382773274,3.0560702652870813,3.2324039865100347,3.35935270132511,3.4553954655593846,3.4771965212298888,3.4237723672150056,3.3070275792945987,3.236288189446902,3.18513231261108,3.1419920301423865,3.1187595798554555,3.1206217535263523,3.115367101980492,3.0728211355190838,3.0070742742462118,2.898489520213739,2.761981053256513,2.683019610161097,2.658413604646842,2.66167152048134],\"type\":\"scatter\",\"xaxis\":\"x2\",\"yaxis\":\"y2\"},{\"line\":{\"color\":\"gold\",\"width\":2},\"name\":\"RSI\",\"x\":[\"2022-06-14T00:00:00\",\"2022-06-15T00:00:00\",\"2022-06-16T00:00:00\",\"2022-06-17T00:00:00\",\"2022-06-21T00:00:00\",\"2022-06-22T00:00:00\",\"2022-06-23T00:00:00\",\"2022-06-24T00:00:00\",\"2022-06-27T00:00:00\",\"2022-06-28T00:00:00\",\"2022-06-29T00:00:00\",\"2022-06-30T00:00:00\",\"2022-07-01T00:00:00\",\"2022-07-05T00:00:00\",\"2022-07-06T00:00:00\",\"2022-07-07T00:00:00\",\"2022-07-08T00:00:00\",\"2022-07-11T00:00:00\",\"2022-07-12T00:00:00\",\"2022-07-13T00:00:00\",\"2022-07-14T00:00:00\",\"2022-07-15T00:00:00\",\"2022-07-18T00:00:00\",\"2022-07-19T00:00:00\",\"2022-07-20T00:00:00\",\"2022-07-21T00:00:00\",\"2022-07-22T00:00:00\",\"2022-07-25T00:00:00\",\"2022-07-26T00:00:00\",\"2022-07-27T00:00:00\",\"2022-07-28T00:00:00\",\"2022-07-29T00:00:00\",\"2022-08-01T00:00:00\",\"2022-08-02T00:00:00\",\"2022-08-03T00:00:00\",\"2022-08-04T00:00:00\",\"2022-08-05T00:00:00\",\"2022-08-08T00:00:00\",\"2022-08-09T00:00:00\",\"2022-08-10T00:00:00\",\"2022-08-11T00:00:00\",\"2022-08-12T00:00:00\",\"2022-08-15T00:00:00\",\"2022-08-16T00:00:00\",\"2022-08-17T00:00:00\",\"2022-08-18T00:00:00\",\"2022-08-19T00:00:00\",\"2022-08-22T00:00:00\",\"2022-08-23T00:00:00\",\"2022-08-24T00:00:00\",\"2022-08-25T00:00:00\",\"2022-08-26T00:00:00\",\"2022-08-29T00:00:00\",\"2022-08-30T00:00:00\",\"2022-08-31T00:00:00\",\"2022-09-01T00:00:00\",\"2022-09-02T00:00:00\",\"2022-09-06T00:00:00\",\"2022-09-07T00:00:00\",\"2022-09-08T00:00:00\",\"2022-09-09T00:00:00\",\"2022-09-12T00:00:00\",\"2022-09-13T00:00:00\",\"2022-09-14T00:00:00\",\"2022-09-15T00:00:00\",\"2022-09-16T00:00:00\",\"2022-09-19T00:00:00\",\"2022-09-20T00:00:00\",\"2022-09-21T00:00:00\",\"2022-09-22T00:00:00\",\"2022-09-23T00:00:00\",\"2022-09-26T00:00:00\",\"2022-09-27T00:00:00\",\"2022-09-28T00:00:00\",\"2022-09-29T00:00:00\",\"2022-09-30T00:00:00\",\"2022-10-03T00:00:00\",\"2022-10-04T00:00:00\",\"2022-10-05T00:00:00\",\"2022-10-06T00:00:00\",\"2022-10-07T00:00:00\",\"2022-10-10T00:00:00\",\"2022-10-11T00:00:00\",\"2022-10-12T00:00:00\",\"2022-10-13T00:00:00\",\"2022-10-14T00:00:00\",\"2022-10-17T00:00:00\",\"2022-10-18T00:00:00\",\"2022-10-19T00:00:00\",\"2022-10-20T00:00:00\",\"2022-10-21T00:00:00\",\"2022-10-24T00:00:00\",\"2022-10-25T00:00:00\",\"2022-10-26T00:00:00\",\"2022-10-27T00:00:00\",\"2022-10-28T00:00:00\",\"2022-10-31T00:00:00\",\"2022-11-01T00:00:00\",\"2022-11-02T00:00:00\",\"2022-11-03T00:00:00\",\"2022-11-04T00:00:00\",\"2022-11-07T00:00:00\",\"2022-11-08T00:00:00\",\"2022-11-09T00:00:00\",\"2022-11-10T00:00:00\",\"2022-11-11T00:00:00\",\"2022-11-14T00:00:00\",\"2022-11-15T00:00:00\",\"2022-11-16T00:00:00\",\"2022-11-17T00:00:00\",\"2022-11-18T00:00:00\",\"2022-11-21T00:00:00\",\"2022-11-22T00:00:00\",\"2022-11-23T00:00:00\",\"2022-11-25T00:00:00\",\"2022-11-28T00:00:00\",\"2022-11-29T00:00:00\",\"2022-11-30T00:00:00\",\"2022-12-01T00:00:00\",\"2022-12-02T00:00:00\",\"2022-12-05T00:00:00\",\"2022-12-06T00:00:00\",\"2022-12-07T00:00:00\",\"2022-12-08T00:00:00\",\"2022-12-09T00:00:00\",\"2022-12-12T00:00:00\",\"2022-12-13T00:00:00\",\"2022-12-14T00:00:00\",\"2022-12-15T00:00:00\",\"2022-12-16T00:00:00\",\"2022-12-19T00:00:00\",\"2022-12-20T00:00:00\",\"2022-12-21T00:00:00\",\"2022-12-22T00:00:00\",\"2022-12-23T00:00:00\",\"2022-12-27T00:00:00\",\"2022-12-28T00:00:00\",\"2022-12-29T00:00:00\",\"2022-12-30T00:00:00\",\"2023-01-03T00:00:00\",\"2023-01-04T00:00:00\",\"2023-01-05T00:00:00\",\"2023-01-06T00:00:00\",\"2023-01-09T00:00:00\",\"2023-01-10T00:00:00\",\"2023-01-11T00:00:00\",\"2023-01-12T00:00:00\",\"2023-01-13T00:00:00\",\"2023-01-17T00:00:00\",\"2023-01-18T00:00:00\",\"2023-01-19T00:00:00\",\"2023-01-20T00:00:00\",\"2023-01-23T00:00:00\",\"2023-01-24T00:00:00\",\"2023-01-25T00:00:00\",\"2023-01-26T00:00:00\",\"2023-01-27T00:00:00\",\"2023-01-30T00:00:00\",\"2023-01-31T00:00:00\",\"2023-02-01T00:00:00\",\"2023-02-02T00:00:00\",\"2023-02-03T00:00:00\",\"2023-02-06T00:00:00\",\"2023-02-07T00:00:00\",\"2023-02-08T00:00:00\",\"2023-02-09T00:00:00\",\"2023-02-10T00:00:00\",\"2023-02-13T00:00:00\",\"2023-02-14T00:00:00\",\"2023-02-15T00:00:00\",\"2023-02-16T00:00:00\",\"2023-02-17T00:00:00\",\"2023-02-21T00:00:00\",\"2023-02-22T00:00:00\",\"2023-02-23T00:00:00\",\"2023-02-24T00:00:00\",\"2023-02-27T00:00:00\",\"2023-02-28T00:00:00\",\"2023-03-01T00:00:00\",\"2023-03-02T00:00:00\",\"2023-03-03T00:00:00\",\"2023-03-06T00:00:00\",\"2023-03-07T00:00:00\",\"2023-03-08T00:00:00\",\"2023-03-09T00:00:00\",\"2023-03-10T00:00:00\",\"2023-03-13T00:00:00\",\"2023-03-14T00:00:00\",\"2023-03-15T00:00:00\",\"2023-03-16T00:00:00\",\"2023-03-17T00:00:00\",\"2023-03-20T00:00:00\",\"2023-03-21T00:00:00\",\"2023-03-22T00:00:00\",\"2023-03-23T00:00:00\",\"2023-03-24T00:00:00\",\"2023-03-27T00:00:00\",\"2023-03-28T00:00:00\",\"2023-03-29T00:00:00\",\"2023-03-30T00:00:00\",\"2023-03-31T00:00:00\",\"2023-04-03T00:00:00\",\"2023-04-04T00:00:00\",\"2023-04-05T00:00:00\",\"2023-04-06T00:00:00\",\"2023-04-10T00:00:00\",\"2023-04-11T00:00:00\",\"2023-04-12T00:00:00\",\"2023-04-13T00:00:00\",\"2023-04-14T00:00:00\",\"2023-04-17T00:00:00\",\"2023-04-18T00:00:00\",\"2023-04-19T00:00:00\",\"2023-04-20T00:00:00\",\"2023-04-21T00:00:00\",\"2023-04-24T00:00:00\",\"2023-04-25T00:00:00\",\"2023-04-26T00:00:00\",\"2023-04-27T00:00:00\",\"2023-04-28T00:00:00\",\"2023-05-01T00:00:00\"],\"y\":[40.39917353611519,43.953412993521084,34.47962184582518,27.309240656286704,35.04034081687281,34.72791558070854,35.34871918943958,45.541727152915485,44.53125467794763,36.77538975585241,39.999992976536724,42.75219364917077,52.397408083874275,63.860280464496824,64.3502984120056,65.09960054650901,76.96953052644496,70.69987651201266,67.32573614287242,67.67783824461597,67.74533004998099,65.73011231625355,58.97184035938915,72.70602452191305,72.93265427265536,81.14353217321337,76.17412310951214,70.73177400706228,65.80488499250589,67.86451721207416,67.72095469247137,77.49383600917432,74.38461718510041,71.85433366617877,74.28496507402771,72.35567537295283,78.8220068618086,74.5961649643992,72.70077238162399,74.61925489269886,75.96704272901697,81.6265460899065,85.91185757534953,82.4865295407353,83.12654985714677,77.54574071060058,72.08560361156754,65.18665359437294,53.351317044656206,54.91678187750829,60.588192513220825,47.770239053528464,44.14298413791881,31.794154035914488,30.77446943631459,23.260227434570012,18.400023601263328,17.6799678661761,17.42030537578563,16.773589603970123,26.34570721726304,43.535268257516506,33.77755902372223,35.60321311619683,29.40766570424124,33.06242329232357,41.3054204390313,47.464021982724994,45.74416879259377,43.68955538522634,43.521185956400394,45.36718569054267,44.76830455596076,44.304721864214564,33.45924573630019,20.818902589513684,34.969665947688156,38.5076361335928,42.025111043223525,42.82603504329463,31.209230347313365,27.237580157852562,28.612892263886522,28.898009137795512,39.79709906408962,34.790112154155025,39.319185366989835,42.94977825679681,51.91988009613775,58.07658188588563,57.588185140718835,55.52985505693668,59.03286718951498,55.61604445027305,56.90413277734198,67.12879861439143,65.71800724890221,62.895425352249994,52.094429512460145,50.49761339351494,45.911773006949204,44.965601176037325,45.52722081759135,41.75648474291765,49.86624960003184,50.421497607996216,46.69190689404468,50.83204844126743,53.98781155835875,44.59371868433252,47.87279715788933,47.20804554085115,56.845565264916495,68.20045658071477,63.21648917863401,56.598607719114526,51.9587072295687,64.66784649110107,52.172599806138095,46.93282237680101,47.3012918026198,39.04092663947557,38.19552963756899,37.78381514550601,36.14568583644966,44.50002244557426,42.356398663746816,37.787418140027455,33.84355933248693,35.73314376273977,36.714946198852,20.129094118213814,27.9794110104515,25.59519819831897,26.261609568735864,27.96025604080252,26.152322157106383,30.30210551393118,31.43027128171049,22.616993084913716,23.287658650010314,23.9024138902562,39.49297906017475,43.030696097398916,47.240919187971784,51.83585409923877,46.52353564984771,54.6050135463664,57.21356646243732,59.52906124863231,69.84944688738588,68.53676755039385,72.18253465300901,90.11946494481141,86.66034853119615,93.24203857435589,92.31969178842652,79.64933659991058,80.29494891280522,78.75726011262836,83.39092699117249,84.75357340225347,76.32547673135191,80.20511641800401,73.88812271289156,69.51955466218759,66.6453902917458,68.13680102933233,68.17745647952803,68.21066169365841,62.71303288825885,66.44000398572945,56.78665793752401,55.823655087980406,47.787102924653574,35.41923502147257,42.65149421570673,34.0408458999386,35.040150366145284,38.667960287686896,50.039040328570074,49.96089861018569,47.05450749652941,45.32317626820686,44.213625499406,42.739319519618434,53.858100748385816,56.69577761662612,56.55351529139641,66.58201244511179,63.0147107084735,67.17083446545973,74.19467194919304,70.05384219262535,65.36964888135779,63.253513398068776,63.93988952021408,60.24870771445397,71.06788071627832,79.28991869509727,79.7771071666526,79.04189506426242,76.87074212067287,67.55433527460048,71.39060307986733,60.14905564199888,53.4296095998083,55.301266385722755,62.86379483487126,60.00001230547353,65.20787687721578,68.79797642106467,65.9535011138924,60.26805507772925,50.30032633042846,47.791806458755524,45.359278359542564,50.0,58.54993445606887,68.59504745288464,72.61966933231136],\"type\":\"scatter\",\"xaxis\":\"x3\",\"yaxis\":\"y3\"},{\"marker\":{\"color\":\"lightskyblue\",\"line\":{\"color\":\"firebrick\",\"width\":0.1}},\"name\":\"Volume\",\"showlegend\":false,\"x\":[\"2022-05-02T00:00:00\",\"2022-05-03T00:00:00\",\"2022-05-04T00:00:00\",\"2022-05-05T00:00:00\",\"2022-05-06T00:00:00\",\"2022-05-09T00:00:00\",\"2022-05-10T00:00:00\",\"2022-05-11T00:00:00\",\"2022-05-12T00:00:00\",\"2022-05-13T00:00:00\",\"2022-05-16T00:00:00\",\"2022-05-17T00:00:00\",\"2022-05-18T00:00:00\",\"2022-05-19T00:00:00\",\"2022-05-20T00:00:00\",\"2022-05-23T00:00:00\",\"2022-05-24T00:00:00\",\"2022-05-25T00:00:00\",\"2022-05-26T00:00:00\",\"2022-05-27T00:00:00\",\"2022-05-31T00:00:00\",\"2022-06-01T00:00:00\",\"2022-06-02T00:00:00\",\"2022-06-03T00:00:00\",\"2022-06-06T00:00:00\",\"2022-06-07T00:00:00\",\"2022-06-08T00:00:00\",\"2022-06-09T00:00:00\",\"2022-06-10T00:00:00\",\"2022-06-13T00:00:00\",\"2022-06-14T00:00:00\",\"2022-06-15T00:00:00\",\"2022-06-16T00:00:00\",\"2022-06-17T00:00:00\",\"2022-06-21T00:00:00\",\"2022-06-22T00:00:00\",\"2022-06-23T00:00:00\",\"2022-06-24T00:00:00\",\"2022-06-27T00:00:00\",\"2022-06-28T00:00:00\",\"2022-06-29T00:00:00\",\"2022-06-30T00:00:00\",\"2022-07-01T00:00:00\",\"2022-07-05T00:00:00\",\"2022-07-06T00:00:00\",\"2022-07-07T00:00:00\",\"2022-07-08T00:00:00\",\"2022-07-11T00:00:00\",\"2022-07-12T00:00:00\",\"2022-07-13T00:00:00\",\"2022-07-14T00:00:00\",\"2022-07-15T00:00:00\",\"2022-07-18T00:00:00\",\"2022-07-19T00:00:00\",\"2022-07-20T00:00:00\",\"2022-07-21T00:00:00\",\"2022-07-22T00:00:00\",\"2022-07-25T00:00:00\",\"2022-07-26T00:00:00\",\"2022-07-27T00:00:00\",\"2022-07-28T00:00:00\",\"2022-07-29T00:00:00\",\"2022-08-01T00:00:00\",\"2022-08-02T00:00:00\",\"2022-08-03T00:00:00\",\"2022-08-04T00:00:00\",\"2022-08-05T00:00:00\",\"2022-08-08T00:00:00\",\"2022-08-09T00:00:00\",\"2022-08-10T00:00:00\",\"2022-08-11T00:00:00\",\"2022-08-12T00:00:00\",\"2022-08-15T00:00:00\",\"2022-08-16T00:00:00\",\"2022-08-17T00:00:00\",\"2022-08-18T00:00:00\",\"2022-08-19T00:00:00\",\"2022-08-22T00:00:00\",\"2022-08-23T00:00:00\",\"2022-08-24T00:00:00\",\"2022-08-25T00:00:00\",\"2022-08-26T00:00:00\",\"2022-08-29T00:00:00\",\"2022-08-30T00:00:00\",\"2022-08-31T00:00:00\",\"2022-09-01T00:00:00\",\"2022-09-02T00:00:00\",\"2022-09-06T00:00:00\",\"2022-09-07T00:00:00\",\"2022-09-08T00:00:00\",\"2022-09-09T00:00:00\",\"2022-09-12T00:00:00\",\"2022-09-13T00:00:00\",\"2022-09-14T00:00:00\",\"2022-09-15T00:00:00\",\"2022-09-16T00:00:00\",\"2022-09-19T00:00:00\",\"2022-09-20T00:00:00\",\"2022-09-21T00:00:00\",\"2022-09-22T00:00:00\",\"2022-09-23T00:00:00\",\"2022-09-26T00:00:00\",\"2022-09-27T00:00:00\",\"2022-09-28T00:00:00\",\"2022-09-29T00:00:00\",\"2022-09-30T00:00:00\",\"2022-10-03T00:00:00\",\"2022-10-04T00:00:00\",\"2022-10-05T00:00:00\",\"2022-10-06T00:00:00\",\"2022-10-07T00:00:00\",\"2022-10-10T00:00:00\",\"2022-10-11T00:00:00\",\"2022-10-12T00:00:00\",\"2022-10-13T00:00:00\",\"2022-10-14T00:00:00\",\"2022-10-17T00:00:00\",\"2022-10-18T00:00:00\",\"2022-10-19T00:00:00\",\"2022-10-20T00:00:00\",\"2022-10-21T00:00:00\",\"2022-10-24T00:00:00\",\"2022-10-25T00:00:00\",\"2022-10-26T00:00:00\",\"2022-10-27T00:00:00\",\"2022-10-28T00:00:00\",\"2022-10-31T00:00:00\",\"2022-11-01T00:00:00\",\"2022-11-02T00:00:00\",\"2022-11-03T00:00:00\",\"2022-11-04T00:00:00\",\"2022-11-07T00:00:00\",\"2022-11-08T00:00:00\",\"2022-11-09T00:00:00\",\"2022-11-10T00:00:00\",\"2022-11-11T00:00:00\",\"2022-11-14T00:00:00\",\"2022-11-15T00:00:00\",\"2022-11-16T00:00:00\",\"2022-11-17T00:00:00\",\"2022-11-18T00:00:00\",\"2022-11-21T00:00:00\",\"2022-11-22T00:00:00\",\"2022-11-23T00:00:00\",\"2022-11-25T00:00:00\",\"2022-11-28T00:00:00\",\"2022-11-29T00:00:00\",\"2022-11-30T00:00:00\",\"2022-12-01T00:00:00\",\"2022-12-02T00:00:00\",\"2022-12-05T00:00:00\",\"2022-12-06T00:00:00\",\"2022-12-07T00:00:00\",\"2022-12-08T00:00:00\",\"2022-12-09T00:00:00\",\"2022-12-12T00:00:00\",\"2022-12-13T00:00:00\",\"2022-12-14T00:00:00\",\"2022-12-15T00:00:00\",\"2022-12-16T00:00:00\",\"2022-12-19T00:00:00\",\"2022-12-20T00:00:00\",\"2022-12-21T00:00:00\",\"2022-12-22T00:00:00\",\"2022-12-23T00:00:00\",\"2022-12-27T00:00:00\",\"2022-12-28T00:00:00\",\"2022-12-29T00:00:00\",\"2022-12-30T00:00:00\",\"2023-01-03T00:00:00\",\"2023-01-04T00:00:00\",\"2023-01-05T00:00:00\",\"2023-01-06T00:00:00\",\"2023-01-09T00:00:00\",\"2023-01-10T00:00:00\",\"2023-01-11T00:00:00\",\"2023-01-12T00:00:00\",\"2023-01-13T00:00:00\",\"2023-01-17T00:00:00\",\"2023-01-18T00:00:00\",\"2023-01-19T00:00:00\",\"2023-01-20T00:00:00\",\"2023-01-23T00:00:00\",\"2023-01-24T00:00:00\",\"2023-01-25T00:00:00\",\"2023-01-26T00:00:00\",\"2023-01-27T00:00:00\",\"2023-01-30T00:00:00\",\"2023-01-31T00:00:00\",\"2023-02-01T00:00:00\",\"2023-02-02T00:00:00\",\"2023-02-03T00:00:00\",\"2023-02-06T00:00:00\",\"2023-02-07T00:00:00\",\"2023-02-08T00:00:00\",\"2023-02-09T00:00:00\",\"2023-02-10T00:00:00\",\"2023-02-13T00:00:00\",\"2023-02-14T00:00:00\",\"2023-02-15T00:00:00\",\"2023-02-16T00:00:00\",\"2023-02-17T00:00:00\",\"2023-02-21T00:00:00\",\"2023-02-22T00:00:00\",\"2023-02-23T00:00:00\",\"2023-02-24T00:00:00\",\"2023-02-27T00:00:00\",\"2023-02-28T00:00:00\",\"2023-03-01T00:00:00\",\"2023-03-02T00:00:00\",\"2023-03-03T00:00:00\",\"2023-03-06T00:00:00\",\"2023-03-07T00:00:00\",\"2023-03-08T00:00:00\",\"2023-03-09T00:00:00\",\"2023-03-10T00:00:00\",\"2023-03-13T00:00:00\",\"2023-03-14T00:00:00\",\"2023-03-15T00:00:00\",\"2023-03-16T00:00:00\",\"2023-03-17T00:00:00\",\"2023-03-20T00:00:00\",\"2023-03-21T00:00:00\",\"2023-03-22T00:00:00\",\"2023-03-23T00:00:00\",\"2023-03-24T00:00:00\",\"2023-03-27T00:00:00\",\"2023-03-28T00:00:00\",\"2023-03-29T00:00:00\",\"2023-03-30T00:00:00\",\"2023-03-31T00:00:00\",\"2023-04-03T00:00:00\",\"2023-04-04T00:00:00\",\"2023-04-05T00:00:00\",\"2023-04-06T00:00:00\",\"2023-04-10T00:00:00\",\"2023-04-11T00:00:00\",\"2023-04-12T00:00:00\",\"2023-04-13T00:00:00\",\"2023-04-14T00:00:00\",\"2023-04-17T00:00:00\",\"2023-04-18T00:00:00\",\"2023-04-19T00:00:00\",\"2023-04-20T00:00:00\",\"2023-04-21T00:00:00\",\"2023-04-24T00:00:00\",\"2023-04-25T00:00:00\",\"2023-04-26T00:00:00\",\"2023-04-27T00:00:00\",\"2023-04-28T00:00:00\",\"2023-05-01T00:00:00\"],\"y\":[123055300,88966500,108256500,130525300,116124600,131577900,115366700,142689800,182602000,113990900,86643800,78336300,109742900,136095600,137426100,117726300,104132700,92482700,90601500,90978500,103718400,74286600,72348100,88570300,71598400,67808200,53950200,69473000,91437900,122207100,84784300,91533000,108123900,134520300,81000500,73409200,72433800,89116800,70207900,67083400,66242400,98964500,71051600,73353800,74064300,66253700,64547800,63141600,77588800,71185600,78140700,76259900,81420900,82982400,64823400,65086600,66675400,53623900,55138700,78620700,81378700,101786900,67829400,59907000,82507500,55474100,56697000,60276900,63135500,70170500,57149200,68039400,54091700,56377100,79542000,62290100,70346300,69026800,54147100,53841500,51218200,78961000,73314000,77906200,87991100,74229900,76957800,73714800,87449600,84923800,68028800,104956000,122656600,87965400,90481100,162278800,81474200,107689800,101696800,86652500,96029900,93339400,84442700,146691400,128138200,124925300,114311700,87830100,79471000,68402200,85925600,74899000,77033700,70433700,113224000,88598000,85250900,99136600,61758300,64522000,86548600,75981900,74732300,88194300,109180200,164762400,97943200,80379300,93604600,97918500,140814800,83374600,89908500,74917800,118854000,93979700,73374100,89868300,64218300,80389400,74829600,58724100,51804100,58301400,35195900,69246000,83763800,111380900,71250400,65447400,68826400,64727200,69721100,62128300,76097000,70462700,93886200,82291200,98931900,160156900,79592600,77432800,85928000,77852100,63814900,69007800,85438400,75703700,77034200,112117500,89113600,80962700,87754700,70790800,63896200,69458900,71379600,57809700,63646600,69672800,58280400,80223600,81760300,66435100,65799300,54105100,70555800,64015300,65874500,77663600,118339000,154357300,69858300,83322600,64120100,56007100,57450700,62199000,61707600,65573800,68167900,59144100,58867200,51011300,48394200,55469600,44998500,50547000,55479000,52238100,70732300,87558000,56182000,47204800,53833600,68572400,84457100,73695900,77167900,76161100,98944600,73641400,73938300,75701800,67622100,59196500,52390300,45992200,51305700,49501700,68694700,56976200,46278300,51511700,45390100,47716900,47644200,50133100,68445600,49337200,41516200,49923000,47720200,52456400,58311900,41949600,48714100,45498800,64902300,55209200,52428200],\"type\":\"bar\",\"xaxis\":\"x4\",\"yaxis\":\"y4\"}],                        {\"template\":{\"data\":{\"histogram2dcontour\":[{\"type\":\"histogram2dcontour\",\"colorbar\":{\"outlinewidth\":0,\"ticks\":\"\"},\"colorscale\":[[0.0,\"#0d0887\"],[0.1111111111111111,\"#46039f\"],[0.2222222222222222,\"#7201a8\"],[0.3333333333333333,\"#9c179e\"],[0.4444444444444444,\"#bd3786\"],[0.5555555555555556,\"#d8576b\"],[0.6666666666666666,\"#ed7953\"],[0.7777777777777778,\"#fb9f3a\"],[0.8888888888888888,\"#fdca26\"],[1.0,\"#f0f921\"]]}],\"choropleth\":[{\"type\":\"choropleth\",\"colorbar\":{\"outlinewidth\":0,\"ticks\":\"\"}}],\"histogram2d\":[{\"type\":\"histogram2d\",\"colorbar\":{\"outlinewidth\":0,\"ticks\":\"\"},\"colorscale\":[[0.0,\"#0d0887\"],[0.1111111111111111,\"#46039f\"],[0.2222222222222222,\"#7201a8\"],[0.3333333333333333,\"#9c179e\"],[0.4444444444444444,\"#bd3786\"],[0.5555555555555556,\"#d8576b\"],[0.6666666666666666,\"#ed7953\"],[0.7777777777777778,\"#fb9f3a\"],[0.8888888888888888,\"#fdca26\"],[1.0,\"#f0f921\"]]}],\"heatmap\":[{\"type\":\"heatmap\",\"colorbar\":{\"outlinewidth\":0,\"ticks\":\"\"},\"colorscale\":[[0.0,\"#0d0887\"],[0.1111111111111111,\"#46039f\"],[0.2222222222222222,\"#7201a8\"],[0.3333333333333333,\"#9c179e\"],[0.4444444444444444,\"#bd3786\"],[0.5555555555555556,\"#d8576b\"],[0.6666666666666666,\"#ed7953\"],[0.7777777777777778,\"#fb9f3a\"],[0.8888888888888888,\"#fdca26\"],[1.0,\"#f0f921\"]]}],\"heatmapgl\":[{\"type\":\"heatmapgl\",\"colorbar\":{\"outlinewidth\":0,\"ticks\":\"\"},\"colorscale\":[[0.0,\"#0d0887\"],[0.1111111111111111,\"#46039f\"],[0.2222222222222222,\"#7201a8\"],[0.3333333333333333,\"#9c179e\"],[0.4444444444444444,\"#bd3786\"],[0.5555555555555556,\"#d8576b\"],[0.6666666666666666,\"#ed7953\"],[0.7777777777777778,\"#fb9f3a\"],[0.8888888888888888,\"#fdca26\"],[1.0,\"#f0f921\"]]}],\"contourcarpet\":[{\"type\":\"contourcarpet\",\"colorbar\":{\"outlinewidth\":0,\"ticks\":\"\"}}],\"contour\":[{\"type\":\"contour\",\"colorbar\":{\"outlinewidth\":0,\"ticks\":\"\"},\"colorscale\":[[0.0,\"#0d0887\"],[0.1111111111111111,\"#46039f\"],[0.2222222222222222,\"#7201a8\"],[0.3333333333333333,\"#9c179e\"],[0.4444444444444444,\"#bd3786\"],[0.5555555555555556,\"#d8576b\"],[0.6666666666666666,\"#ed7953\"],[0.7777777777777778,\"#fb9f3a\"],[0.8888888888888888,\"#fdca26\"],[1.0,\"#f0f921\"]]}],\"surface\":[{\"type\":\"surface\",\"colorbar\":{\"outlinewidth\":0,\"ticks\":\"\"},\"colorscale\":[[0.0,\"#0d0887\"],[0.1111111111111111,\"#46039f\"],[0.2222222222222222,\"#7201a8\"],[0.3333333333333333,\"#9c179e\"],[0.4444444444444444,\"#bd3786\"],[0.5555555555555556,\"#d8576b\"],[0.6666666666666666,\"#ed7953\"],[0.7777777777777778,\"#fb9f3a\"],[0.8888888888888888,\"#fdca26\"],[1.0,\"#f0f921\"]]}],\"mesh3d\":[{\"type\":\"mesh3d\",\"colorbar\":{\"outlinewidth\":0,\"ticks\":\"\"}}],\"scatter\":[{\"fillpattern\":{\"fillmode\":\"overlay\",\"size\":10,\"solidity\":0.2},\"type\":\"scatter\"}],\"parcoords\":[{\"type\":\"parcoords\",\"line\":{\"colorbar\":{\"outlinewidth\":0,\"ticks\":\"\"}}}],\"scatterpolargl\":[{\"type\":\"scatterpolargl\",\"marker\":{\"colorbar\":{\"outlinewidth\":0,\"ticks\":\"\"}}}],\"bar\":[{\"error_x\":{\"color\":\"#2a3f5f\"},\"error_y\":{\"color\":\"#2a3f5f\"},\"marker\":{\"line\":{\"color\":\"#E5ECF6\",\"width\":0.5},\"pattern\":{\"fillmode\":\"overlay\",\"size\":10,\"solidity\":0.2}},\"type\":\"bar\"}],\"scattergeo\":[{\"type\":\"scattergeo\",\"marker\":{\"colorbar\":{\"outlinewidth\":0,\"ticks\":\"\"}}}],\"scatterpolar\":[{\"type\":\"scatterpolar\",\"marker\":{\"colorbar\":{\"outlinewidth\":0,\"ticks\":\"\"}}}],\"histogram\":[{\"marker\":{\"pattern\":{\"fillmode\":\"overlay\",\"size\":10,\"solidity\":0.2}},\"type\":\"histogram\"}],\"scattergl\":[{\"type\":\"scattergl\",\"marker\":{\"colorbar\":{\"outlinewidth\":0,\"ticks\":\"\"}}}],\"scatter3d\":[{\"type\":\"scatter3d\",\"line\":{\"colorbar\":{\"outlinewidth\":0,\"ticks\":\"\"}},\"marker\":{\"colorbar\":{\"outlinewidth\":0,\"ticks\":\"\"}}}],\"scattermapbox\":[{\"type\":\"scattermapbox\",\"marker\":{\"colorbar\":{\"outlinewidth\":0,\"ticks\":\"\"}}}],\"scatterternary\":[{\"type\":\"scatterternary\",\"marker\":{\"colorbar\":{\"outlinewidth\":0,\"ticks\":\"\"}}}],\"scattercarpet\":[{\"type\":\"scattercarpet\",\"marker\":{\"colorbar\":{\"outlinewidth\":0,\"ticks\":\"\"}}}],\"carpet\":[{\"aaxis\":{\"endlinecolor\":\"#2a3f5f\",\"gridcolor\":\"white\",\"linecolor\":\"white\",\"minorgridcolor\":\"white\",\"startlinecolor\":\"#2a3f5f\"},\"baxis\":{\"endlinecolor\":\"#2a3f5f\",\"gridcolor\":\"white\",\"linecolor\":\"white\",\"minorgridcolor\":\"white\",\"startlinecolor\":\"#2a3f5f\"},\"type\":\"carpet\"}],\"table\":[{\"cells\":{\"fill\":{\"color\":\"#EBF0F8\"},\"line\":{\"color\":\"white\"}},\"header\":{\"fill\":{\"color\":\"#C8D4E3\"},\"line\":{\"color\":\"white\"}},\"type\":\"table\"}],\"barpolar\":[{\"marker\":{\"line\":{\"color\":\"#E5ECF6\",\"width\":0.5},\"pattern\":{\"fillmode\":\"overlay\",\"size\":10,\"solidity\":0.2}},\"type\":\"barpolar\"}],\"pie\":[{\"automargin\":true,\"type\":\"pie\"}]},\"layout\":{\"autotypenumbers\":\"strict\",\"colorway\":[\"#636efa\",\"#EF553B\",\"#00cc96\",\"#ab63fa\",\"#FFA15A\",\"#19d3f3\",\"#FF6692\",\"#B6E880\",\"#FF97FF\",\"#FECB52\"],\"font\":{\"color\":\"#2a3f5f\"},\"hovermode\":\"closest\",\"hoverlabel\":{\"align\":\"left\"},\"paper_bgcolor\":\"white\",\"plot_bgcolor\":\"#E5ECF6\",\"polar\":{\"bgcolor\":\"#E5ECF6\",\"angularaxis\":{\"gridcolor\":\"white\",\"linecolor\":\"white\",\"ticks\":\"\"},\"radialaxis\":{\"gridcolor\":\"white\",\"linecolor\":\"white\",\"ticks\":\"\"}},\"ternary\":{\"bgcolor\":\"#E5ECF6\",\"aaxis\":{\"gridcolor\":\"white\",\"linecolor\":\"white\",\"ticks\":\"\"},\"baxis\":{\"gridcolor\":\"white\",\"linecolor\":\"white\",\"ticks\":\"\"},\"caxis\":{\"gridcolor\":\"white\",\"linecolor\":\"white\",\"ticks\":\"\"}},\"coloraxis\":{\"colorbar\":{\"outlinewidth\":0,\"ticks\":\"\"}},\"colorscale\":{\"sequential\":[[0.0,\"#0d0887\"],[0.1111111111111111,\"#46039f\"],[0.2222222222222222,\"#7201a8\"],[0.3333333333333333,\"#9c179e\"],[0.4444444444444444,\"#bd3786\"],[0.5555555555555556,\"#d8576b\"],[0.6666666666666666,\"#ed7953\"],[0.7777777777777778,\"#fb9f3a\"],[0.8888888888888888,\"#fdca26\"],[1.0,\"#f0f921\"]],\"sequentialminus\":[[0.0,\"#0d0887\"],[0.1111111111111111,\"#46039f\"],[0.2222222222222222,\"#7201a8\"],[0.3333333333333333,\"#9c179e\"],[0.4444444444444444,\"#bd3786\"],[0.5555555555555556,\"#d8576b\"],[0.6666666666666666,\"#ed7953\"],[0.7777777777777778,\"#fb9f3a\"],[0.8888888888888888,\"#fdca26\"],[1.0,\"#f0f921\"]],\"diverging\":[[0,\"#8e0152\"],[0.1,\"#c51b7d\"],[0.2,\"#de77ae\"],[0.3,\"#f1b6da\"],[0.4,\"#fde0ef\"],[0.5,\"#f7f7f7\"],[0.6,\"#e6f5d0\"],[0.7,\"#b8e186\"],[0.8,\"#7fbc41\"],[0.9,\"#4d9221\"],[1,\"#276419\"]]},\"xaxis\":{\"gridcolor\":\"white\",\"linecolor\":\"white\",\"ticks\":\"\",\"title\":{\"standoff\":15},\"zerolinecolor\":\"white\",\"automargin\":true,\"zerolinewidth\":2},\"yaxis\":{\"gridcolor\":\"white\",\"linecolor\":\"white\",\"ticks\":\"\",\"title\":{\"standoff\":15},\"zerolinecolor\":\"white\",\"automargin\":true,\"zerolinewidth\":2},\"scene\":{\"xaxis\":{\"backgroundcolor\":\"#E5ECF6\",\"gridcolor\":\"white\",\"linecolor\":\"white\",\"showbackground\":true,\"ticks\":\"\",\"zerolinecolor\":\"white\",\"gridwidth\":2},\"yaxis\":{\"backgroundcolor\":\"#E5ECF6\",\"gridcolor\":\"white\",\"linecolor\":\"white\",\"showbackground\":true,\"ticks\":\"\",\"zerolinecolor\":\"white\",\"gridwidth\":2},\"zaxis\":{\"backgroundcolor\":\"#E5ECF6\",\"gridcolor\":\"white\",\"linecolor\":\"white\",\"showbackground\":true,\"ticks\":\"\",\"zerolinecolor\":\"white\",\"gridwidth\":2}},\"shapedefaults\":{\"line\":{\"color\":\"#2a3f5f\"}},\"annotationdefaults\":{\"arrowcolor\":\"#2a3f5f\",\"arrowhead\":0,\"arrowwidth\":1},\"geo\":{\"bgcolor\":\"white\",\"landcolor\":\"#E5ECF6\",\"subunitcolor\":\"white\",\"showland\":true,\"showlakes\":true,\"lakecolor\":\"white\"},\"title\":{\"x\":0.05},\"mapbox\":{\"style\":\"light\"}}},\"xaxis\":{\"anchor\":\"y\",\"domain\":[0.0,1.0],\"matches\":\"x4\",\"showticklabels\":false,\"rangeslider\":{\"visible\":false},\"rangebreaks\":[{\"values\":[\"2022-05-07\",\"2022-05-08\",\"2022-05-14\",\"2022-05-15\",\"2022-05-21\",\"2022-05-22\",\"2022-05-28\",\"2022-05-29\",\"2022-05-30\",\"2022-06-04\",\"2022-06-05\",\"2022-06-11\",\"2022-06-12\",\"2022-06-18\",\"2022-06-19\",\"2022-06-20\",\"2022-06-25\",\"2022-06-26\",\"2022-07-02\",\"2022-07-03\",\"2022-07-04\",\"2022-07-09\",\"2022-07-10\",\"2022-07-16\",\"2022-07-17\",\"2022-07-23\",\"2022-07-24\",\"2022-07-30\",\"2022-07-31\",\"2022-08-06\",\"2022-08-07\",\"2022-08-13\",\"2022-08-14\",\"2022-08-20\",\"2022-08-21\",\"2022-08-27\",\"2022-08-28\",\"2022-09-03\",\"2022-09-04\",\"2022-09-05\",\"2022-09-10\",\"2022-09-11\",\"2022-09-17\",\"2022-09-18\",\"2022-09-24\",\"2022-09-25\",\"2022-10-01\",\"2022-10-02\",\"2022-10-08\",\"2022-10-09\",\"2022-10-15\",\"2022-10-16\",\"2022-10-22\",\"2022-10-23\",\"2022-10-29\",\"2022-10-30\",\"2022-11-05\",\"2022-11-06\",\"2022-11-12\",\"2022-11-13\",\"2022-11-19\",\"2022-11-20\",\"2022-11-24\",\"2022-11-26\",\"2022-11-27\",\"2022-12-03\",\"2022-12-04\",\"2022-12-10\",\"2022-12-11\",\"2022-12-17\",\"2022-12-18\",\"2022-12-24\",\"2022-12-25\",\"2022-12-26\",\"2022-12-31\",\"2023-01-01\",\"2023-01-02\",\"2023-01-07\",\"2023-01-08\",\"2023-01-14\",\"2023-01-15\",\"2023-01-16\",\"2023-01-21\",\"2023-01-22\",\"2023-01-28\",\"2023-01-29\",\"2023-02-04\",\"2023-02-05\",\"2023-02-11\",\"2023-02-12\",\"2023-02-18\",\"2023-02-19\",\"2023-02-20\",\"2023-02-25\",\"2023-02-26\",\"2023-03-04\",\"2023-03-05\",\"2023-03-11\",\"2023-03-12\",\"2023-03-18\",\"2023-03-19\",\"2023-03-25\",\"2023-03-26\",\"2023-04-01\",\"2023-04-02\",\"2023-04-07\",\"2023-04-08\",\"2023-04-09\",\"2023-04-15\",\"2023-04-16\",\"2023-04-22\",\"2023-04-23\",\"2023-04-29\",\"2023-04-30\"]}],\"range\":[\"2022-04-29T00:00:00\",\"2023-05-04T00:00:00\"],\"linewidth\":2,\"linecolor\":\"white\",\"mirror\":true,\"showgrid\":false},\"yaxis\":{\"anchor\":\"x\",\"domain\":[0.5075,1.0],\"title\":{\"text\":\"Price ($)\"},\"linewidth\":2,\"linecolor\":\"white\",\"mirror\":true,\"showgrid\":false},\"xaxis2\":{\"anchor\":\"y2\",\"domain\":[0.0,1.0],\"matches\":\"x4\",\"showticklabels\":false,\"rangeslider\":{\"visible\":false},\"rangebreaks\":[{\"values\":[\"2022-05-07\",\"2022-05-08\",\"2022-05-14\",\"2022-05-15\",\"2022-05-21\",\"2022-05-22\",\"2022-05-28\",\"2022-05-29\",\"2022-05-30\",\"2022-06-04\",\"2022-06-05\",\"2022-06-11\",\"2022-06-12\",\"2022-06-18\",\"2022-06-19\",\"2022-06-20\",\"2022-06-25\",\"2022-06-26\",\"2022-07-02\",\"2022-07-03\",\"2022-07-04\",\"2022-07-09\",\"2022-07-10\",\"2022-07-16\",\"2022-07-17\",\"2022-07-23\",\"2022-07-24\",\"2022-07-30\",\"2022-07-31\",\"2022-08-06\",\"2022-08-07\",\"2022-08-13\",\"2022-08-14\",\"2022-08-20\",\"2022-08-21\",\"2022-08-27\",\"2022-08-28\",\"2022-09-03\",\"2022-09-04\",\"2022-09-05\",\"2022-09-10\",\"2022-09-11\",\"2022-09-17\",\"2022-09-18\",\"2022-09-24\",\"2022-09-25\",\"2022-10-01\",\"2022-10-02\",\"2022-10-08\",\"2022-10-09\",\"2022-10-15\",\"2022-10-16\",\"2022-10-22\",\"2022-10-23\",\"2022-10-29\",\"2022-10-30\",\"2022-11-05\",\"2022-11-06\",\"2022-11-12\",\"2022-11-13\",\"2022-11-19\",\"2022-11-20\",\"2022-11-24\",\"2022-11-26\",\"2022-11-27\",\"2022-12-03\",\"2022-12-04\",\"2022-12-10\",\"2022-12-11\",\"2022-12-17\",\"2022-12-18\",\"2022-12-24\",\"2022-12-25\",\"2022-12-26\",\"2022-12-31\",\"2023-01-01\",\"2023-01-02\",\"2023-01-07\",\"2023-01-08\",\"2023-01-14\",\"2023-01-15\",\"2023-01-16\",\"2023-01-21\",\"2023-01-22\",\"2023-01-28\",\"2023-01-29\",\"2023-02-04\",\"2023-02-05\",\"2023-02-11\",\"2023-02-12\",\"2023-02-18\",\"2023-02-19\",\"2023-02-20\",\"2023-02-25\",\"2023-02-26\",\"2023-03-04\",\"2023-03-05\",\"2023-03-11\",\"2023-03-12\",\"2023-03-18\",\"2023-03-19\",\"2023-03-25\",\"2023-03-26\",\"2023-04-01\",\"2023-04-02\",\"2023-04-07\",\"2023-04-08\",\"2023-04-09\",\"2023-04-15\",\"2023-04-16\",\"2023-04-22\",\"2023-04-23\",\"2023-04-29\",\"2023-04-30\"]}],\"range\":[\"2022-04-29T00:00:00\",\"2023-05-04T00:00:00\"],\"linewidth\":2,\"linecolor\":\"white\",\"mirror\":true,\"showgrid\":false},\"yaxis2\":{\"anchor\":\"x2\",\"domain\":[0.3178125,0.5025],\"title\":{\"text\":\"MACD\"},\"linewidth\":2,\"linecolor\":\"white\",\"mirror\":true,\"showgrid\":false},\"xaxis3\":{\"anchor\":\"y3\",\"domain\":[0.0,1.0],\"matches\":\"x4\",\"showticklabels\":false,\"rangeslider\":{\"visible\":false},\"rangebreaks\":[{\"values\":[\"2022-05-07\",\"2022-05-08\",\"2022-05-14\",\"2022-05-15\",\"2022-05-21\",\"2022-05-22\",\"2022-05-28\",\"2022-05-29\",\"2022-05-30\",\"2022-06-04\",\"2022-06-05\",\"2022-06-11\",\"2022-06-12\",\"2022-06-18\",\"2022-06-19\",\"2022-06-20\",\"2022-06-25\",\"2022-06-26\",\"2022-07-02\",\"2022-07-03\",\"2022-07-04\",\"2022-07-09\",\"2022-07-10\",\"2022-07-16\",\"2022-07-17\",\"2022-07-23\",\"2022-07-24\",\"2022-07-30\",\"2022-07-31\",\"2022-08-06\",\"2022-08-07\",\"2022-08-13\",\"2022-08-14\",\"2022-08-20\",\"2022-08-21\",\"2022-08-27\",\"2022-08-28\",\"2022-09-03\",\"2022-09-04\",\"2022-09-05\",\"2022-09-10\",\"2022-09-11\",\"2022-09-17\",\"2022-09-18\",\"2022-09-24\",\"2022-09-25\",\"2022-10-01\",\"2022-10-02\",\"2022-10-08\",\"2022-10-09\",\"2022-10-15\",\"2022-10-16\",\"2022-10-22\",\"2022-10-23\",\"2022-10-29\",\"2022-10-30\",\"2022-11-05\",\"2022-11-06\",\"2022-11-12\",\"2022-11-13\",\"2022-11-19\",\"2022-11-20\",\"2022-11-24\",\"2022-11-26\",\"2022-11-27\",\"2022-12-03\",\"2022-12-04\",\"2022-12-10\",\"2022-12-11\",\"2022-12-17\",\"2022-12-18\",\"2022-12-24\",\"2022-12-25\",\"2022-12-26\",\"2022-12-31\",\"2023-01-01\",\"2023-01-02\",\"2023-01-07\",\"2023-01-08\",\"2023-01-14\",\"2023-01-15\",\"2023-01-16\",\"2023-01-21\",\"2023-01-22\",\"2023-01-28\",\"2023-01-29\",\"2023-02-04\",\"2023-02-05\",\"2023-02-11\",\"2023-02-12\",\"2023-02-18\",\"2023-02-19\",\"2023-02-20\",\"2023-02-25\",\"2023-02-26\",\"2023-03-04\",\"2023-03-05\",\"2023-03-11\",\"2023-03-12\",\"2023-03-18\",\"2023-03-19\",\"2023-03-25\",\"2023-03-26\",\"2023-04-01\",\"2023-04-02\",\"2023-04-07\",\"2023-04-08\",\"2023-04-09\",\"2023-04-15\",\"2023-04-16\",\"2023-04-22\",\"2023-04-23\",\"2023-04-29\",\"2023-04-30\"]}],\"range\":[\"2022-04-29T00:00:00\",\"2023-05-04T00:00:00\"],\"linewidth\":2,\"linecolor\":\"white\",\"mirror\":true,\"showgrid\":false},\"yaxis3\":{\"anchor\":\"x3\",\"domain\":[0.128125,0.31281249999999994],\"title\":{\"text\":\"RSI\"},\"range\":[11.773589603970123,98.24203857435589],\"linewidth\":2,\"linecolor\":\"white\",\"mirror\":true,\"showgrid\":false},\"xaxis4\":{\"anchor\":\"y4\",\"domain\":[0.0,1.0],\"rangeslider\":{\"visible\":false},\"title\":{\"text\":\"Date\"},\"rangebreaks\":[{\"values\":[\"2022-05-07\",\"2022-05-08\",\"2022-05-14\",\"2022-05-15\",\"2022-05-21\",\"2022-05-22\",\"2022-05-28\",\"2022-05-29\",\"2022-05-30\",\"2022-06-04\",\"2022-06-05\",\"2022-06-11\",\"2022-06-12\",\"2022-06-18\",\"2022-06-19\",\"2022-06-20\",\"2022-06-25\",\"2022-06-26\",\"2022-07-02\",\"2022-07-03\",\"2022-07-04\",\"2022-07-09\",\"2022-07-10\",\"2022-07-16\",\"2022-07-17\",\"2022-07-23\",\"2022-07-24\",\"2022-07-30\",\"2022-07-31\",\"2022-08-06\",\"2022-08-07\",\"2022-08-13\",\"2022-08-14\",\"2022-08-20\",\"2022-08-21\",\"2022-08-27\",\"2022-08-28\",\"2022-09-03\",\"2022-09-04\",\"2022-09-05\",\"2022-09-10\",\"2022-09-11\",\"2022-09-17\",\"2022-09-18\",\"2022-09-24\",\"2022-09-25\",\"2022-10-01\",\"2022-10-02\",\"2022-10-08\",\"2022-10-09\",\"2022-10-15\",\"2022-10-16\",\"2022-10-22\",\"2022-10-23\",\"2022-10-29\",\"2022-10-30\",\"2022-11-05\",\"2022-11-06\",\"2022-11-12\",\"2022-11-13\",\"2022-11-19\",\"2022-11-20\",\"2022-11-24\",\"2022-11-26\",\"2022-11-27\",\"2022-12-03\",\"2022-12-04\",\"2022-12-10\",\"2022-12-11\",\"2022-12-17\",\"2022-12-18\",\"2022-12-24\",\"2022-12-25\",\"2022-12-26\",\"2022-12-31\",\"2023-01-01\",\"2023-01-02\",\"2023-01-07\",\"2023-01-08\",\"2023-01-14\",\"2023-01-15\",\"2023-01-16\",\"2023-01-21\",\"2023-01-22\",\"2023-01-28\",\"2023-01-29\",\"2023-02-04\",\"2023-02-05\",\"2023-02-11\",\"2023-02-12\",\"2023-02-18\",\"2023-02-19\",\"2023-02-20\",\"2023-02-25\",\"2023-02-26\",\"2023-03-04\",\"2023-03-05\",\"2023-03-11\",\"2023-03-12\",\"2023-03-18\",\"2023-03-19\",\"2023-03-25\",\"2023-03-26\",\"2023-04-01\",\"2023-04-02\",\"2023-04-07\",\"2023-04-08\",\"2023-04-09\",\"2023-04-15\",\"2023-04-16\",\"2023-04-22\",\"2023-04-23\",\"2023-04-29\",\"2023-04-30\"]}],\"range\":[\"2022-04-29T00:00:00\",\"2023-05-04T00:00:00\"],\"linewidth\":2,\"linecolor\":\"white\",\"mirror\":true,\"showgrid\":false},\"yaxis4\":{\"anchor\":\"x4\",\"domain\":[0.0,0.123125],\"title\":{\"text\":\"Volume ($)\"},\"linewidth\":2,\"linecolor\":\"white\",\"mirror\":true,\"showgrid\":false},\"shapes\":[{\"line\":{\"color\":\"Red\",\"width\":2},\"type\":\"line\",\"x0\":\"2022-05-03T00:00:00\",\"x1\":\"2023-05-01T00:00:00\",\"xref\":\"x3\",\"y0\":70,\"y1\":70,\"yref\":\"y3\"},{\"line\":{\"color\":\"Green\",\"width\":2},\"type\":\"line\",\"x0\":\"2022-05-03T00:00:00\",\"x1\":\"2023-05-01T00:00:00\",\"xref\":\"x3\",\"y0\":30,\"y1\":30,\"yref\":\"y3\"}],\"annotations\":[{\"bgcolor\":\"lightsteelblue\",\"bordercolor\":\"Red\",\"borderpad\":2,\"borderwidth\":1,\"font\":{\"color\":\"Red\",\"size\":14},\"opacity\":0.75,\"showarrow\":false,\"text\":\"Overvalued\",\"x\":\"2022-06-07T00:00:00\",\"xref\":\"x3\",\"y\":64,\"yref\":\"y3\"},{\"bgcolor\":\"lightsteelblue\",\"bordercolor\":\"Green\",\"borderpad\":2,\"borderwidth\":1,\"font\":{\"color\":\"Green\",\"size\":14},\"opacity\":0.75,\"showarrow\":false,\"text\":\"Undervalued\",\"x\":\"2022-06-07T00:00:00\",\"xref\":\"x3\",\"y\":36,\"yref\":\"y3\"}],\"title\":{\"text\":\"AAPL - Stock Dashboard\",\"y\":0.98},\"legend\":{\"orientation\":\"h\",\"xanchor\":\"left\",\"x\":0.05,\"yanchor\":\"bottom\",\"y\":1.003},\"width\":800,\"height\":800,\"plot_bgcolor\":\"#0E1117\",\"paper_bgcolor\":\"#0E1117\",\"hovermode\":\"x unified\",\"font\":{\"color\":\"white\"}},                        {\"responsive\": true}                    ).then(function(){\n",
              "                            \n",
              "var gd = document.getElementById('a1aa2073-ce8f-48c9-9419-f68e0c2a3ef0');\n",
              "var x = new MutationObserver(function (mutations, observer) {{\n",
              "        var display = window.getComputedStyle(gd).display;\n",
              "        if (!display || display === 'none') {{\n",
              "            console.log([gd, 'removed!']);\n",
              "            Plotly.purge(gd);\n",
              "            observer.disconnect();\n",
              "        }}\n",
              "}});\n",
              "\n",
              "// Listen for the removal of the full notebook cells\n",
              "var notebookContainer = gd.closest('#notebook-container');\n",
              "if (notebookContainer) {{\n",
              "    x.observe(notebookContainer, {childList: true});\n",
              "}}\n",
              "\n",
              "// Listen for the clearing of the current output cell\n",
              "var outputEl = gd.closest('.output');\n",
              "if (outputEl) {{\n",
              "    x.observe(outputEl, {childList: true});\n",
              "}}\n",
              "\n",
              "                        })                };                            </script>        </div>\n",
              "</body>\n",
              "</html>"
            ]
          },
          "metadata": {}
        }
      ]
    }
  ]
}